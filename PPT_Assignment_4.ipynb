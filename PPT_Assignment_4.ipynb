{
 "cells": [
  {
   "cell_type": "markdown",
   "id": "10e0e40b-fad5-4477-8d6f-2e84b15cc072",
   "metadata": {},
   "source": [
    "## Q1. finding common elements in three arrays with increasing order"
   ]
  },
  {
   "cell_type": "code",
   "execution_count": 1,
   "id": "fa9cbafc-ef01-42d3-aa89-e7245d8c170a",
   "metadata": {},
   "outputs": [],
   "source": [
    "def commonElements(arr1, arr2, arr3):\n",
    "    commonList = []\n",
    "    i = j = k = 0\n",
    "\n",
    "    while i < len(arr1) and j < len(arr2) and k < len(arr3):\n",
    "        if arr1[i] == arr2[j] == arr3[k]:\n",
    "            commonList.append(arr1[i])\n",
    "            i += 1\n",
    "            j += 1\n",
    "            k += 1\n",
    "        elif arr1[i] < arr2[j]:\n",
    "            i += 1\n",
    "        elif arr2[j] < arr3[k]:\n",
    "            j += 1\n",
    "        else:\n",
    "            k += 1\n",
    "\n",
    "    return commonList"
   ]
  },
  {
   "cell_type": "code",
   "execution_count": 2,
   "id": "c0d14ced-1e14-46f9-b1a1-dc58ce5d2b7c",
   "metadata": {},
   "outputs": [
    {
     "data": {
      "text/plain": [
       "[1, 5]"
      ]
     },
     "execution_count": 2,
     "metadata": {},
     "output_type": "execute_result"
    }
   ],
   "source": [
    "arr1 = [1,2,3,4,5]\n",
    "arr2 = [1,2,5,7,9]\n",
    "arr3 = [1,3,4,5,8]\n",
    "commonElements(arr1,arr2,arr3)"
   ]
  },
  {
   "cell_type": "markdown",
   "id": "669c3f6f-7be2-43f4-b1df-0f90aa75cb0a",
   "metadata": {},
   "source": [
    "## Q2 Given two 0-indexed integer arrays nums1 and nums2, return a list answer of size 2 where:\n",
    "\n",
    "- answer[0] is a list of all distinct integers in nums1 which are not present in nums2\n",
    "- answer[1] is a list of all distinct integers in nums2 which are not present in nums1."
   ]
  },
  {
   "cell_type": "code",
   "execution_count": 3,
   "id": "d6a7f5d4-877a-4ecc-ae4f-d18bfdd00f53",
   "metadata": {},
   "outputs": [],
   "source": [
    "def findDistinct(arr1, arr2):\n",
    "    result=[]\n",
    "    set1 = set(arr1)\n",
    "    set2 = set(arr2)\n",
    "\n",
    "    dif1 = set1 - set2\n",
    "    dif2 = set2 - set1\n",
    "    result.append(list(dif1))\n",
    "    result.append(list(dif2))\n",
    "\n",
    "    return result"
   ]
  },
  {
   "cell_type": "code",
   "execution_count": 4,
   "id": "f0a82816-ea26-480a-8588-5a791d10be06",
   "metadata": {},
   "outputs": [
    {
     "name": "stdout",
     "output_type": "stream",
     "text": [
      "[[1, 3], [4, 6]]\n"
     ]
    }
   ],
   "source": [
    "arr1 = [1,2,3]\n",
    "arr2 = [2,4,6]\n",
    "print(findDistinct(arr1,arr2))"
   ]
  },
  {
   "cell_type": "markdown",
   "id": "33d6060f-c808-44be-b4c5-9732229f5e26",
   "metadata": {},
   "source": [
    "## Q3 Given a 2D integer array matrix, return the transpose of matrix."
   ]
  },
  {
   "cell_type": "code",
   "execution_count": 5,
   "id": "1d81df5d-2539-471b-a4e8-0fc839ee72e9",
   "metadata": {},
   "outputs": [],
   "source": [
    "# Transpose of a matrix\n",
    "def transpose(matrix):\n",
    "    rows = len(matrix)\n",
    "    cols = len(matrix[0])\n",
    "    trans=[[0 for x in range(rows)] for y in range(cols)] # defining a matrix of zeros with the same \n",
    "\n",
    "    for i in range(rows):\n",
    "        for j in range(cols):\n",
    "            trans[j][i] = matrix[i][j]\n",
    "\n",
    "    return trans"
   ]
  },
  {
   "cell_type": "code",
   "execution_count": 6,
   "id": "c6777b56-9f93-4a4a-b957-8415e57a04a5",
   "metadata": {},
   "outputs": [
    {
     "name": "stdout",
     "output_type": "stream",
     "text": [
      "[[1, 4, 7], [2, 5, 8], [3, 6, 9]]\n"
     ]
    }
   ],
   "source": [
    "matrix = [[1,2,3],[4,5,6],[7,8,9]]\n",
    "print(transpose(matrix))"
   ]
  },
  {
   "cell_type": "code",
   "execution_count": 7,
   "id": "cb2e0b29-2ed4-4f85-82cf-8fbba32c4358",
   "metadata": {},
   "outputs": [
    {
     "name": "stdout",
     "output_type": "stream",
     "text": [
      "[[1], [2], [3]]\n"
     ]
    }
   ],
   "source": [
    "matrix = [[1,2,3]]\n",
    "print(transpose(matrix))"
   ]
  },
  {
   "cell_type": "markdown",
   "id": "8c8cc259-3fda-415d-b0ae-a292eadd5946",
   "metadata": {},
   "source": [
    "## Question 4\n",
    "Given an integer array nums of 2n integers, group these integers into n pairs (a1, b1), (a2, b2), ..., (an, bn) such that the sum of min(ai, bi) for all i is maximized. Return the maximized sum."
   ]
  },
  {
   "cell_type": "code",
   "execution_count": 8,
   "id": "39fb2d1c-aeda-480e-9a10-e7ba3b6e4c69",
   "metadata": {},
   "outputs": [],
   "source": [
    "def maxSum_possiblePairs(arr):\n",
    "    arr.sort()\n",
    "    sum = 0\n",
    "    for i in range(0, len(arr), 2):        \n",
    "        if i<len(arr)-1:\n",
    "            print(arr[i],arr[i+1])\n",
    "            sum += min(arr[i],arr[i+1])\n",
    "    return sum"
   ]
  },
  {
   "cell_type": "code",
   "execution_count": 9,
   "id": "14c00231-facd-4563-a194-7867afcb058e",
   "metadata": {},
   "outputs": [
    {
     "name": "stdout",
     "output_type": "stream",
     "text": [
      "1 2\n",
      "3 4\n",
      "4\n"
     ]
    }
   ],
   "source": [
    "print(maxSum_possiblePairs([1,4,3,2]))"
   ]
  },
  {
   "cell_type": "markdown",
   "id": "6cf4d585-bb17-4789-9cfd-2ae0ed7cf671",
   "metadata": {},
   "source": [
    "## Q5 Staircase of coins problem"
   ]
  },
  {
   "cell_type": "code",
   "execution_count": 10,
   "id": "f6ad7036-75d5-412c-bf28-3970100c0250",
   "metadata": {},
   "outputs": [],
   "source": [
    "def rowsOfCoins(n):\n",
    "    noof_rows = 0\n",
    "    k = 1\n",
    "    while True:\n",
    "        current_sum = (k * (k + 1)) // 2\n",
    "        if current_sum <= n:\n",
    "            noof_rows += 1\n",
    "            k += 1\n",
    "        else:\n",
    "            break\n",
    "    return noof_rows"
   ]
  },
  {
   "cell_type": "code",
   "execution_count": 11,
   "id": "434f15d9-8532-4308-b189-836e2012abd7",
   "metadata": {},
   "outputs": [
    {
     "data": {
      "text/plain": [
       "2"
      ]
     },
     "execution_count": 11,
     "metadata": {},
     "output_type": "execute_result"
    }
   ],
   "source": [
    "rowsOfCoins(5)"
   ]
  },
  {
   "cell_type": "code",
   "execution_count": 12,
   "id": "3e8d1f67-9b11-4428-8563-fb62f8c694da",
   "metadata": {},
   "outputs": [
    {
     "data": {
      "text/plain": [
       "1"
      ]
     },
     "execution_count": 12,
     "metadata": {},
     "output_type": "execute_result"
    }
   ],
   "source": [
    "rowsOfCoins(1)"
   ]
  },
  {
   "cell_type": "code",
   "execution_count": 13,
   "id": "12b5d047-59e0-48a6-8d69-262b3e745261",
   "metadata": {},
   "outputs": [
    {
     "data": {
      "text/plain": [
       "1"
      ]
     },
     "execution_count": 13,
     "metadata": {},
     "output_type": "execute_result"
    }
   ],
   "source": [
    "rowsOfCoins(2)"
   ]
  },
  {
   "cell_type": "markdown",
   "id": "af33080a-a834-464c-8ab3-fd52cd83fd32",
   "metadata": {},
   "source": [
    "## Q6. Given an integer array nums sorted in increasing order, return an array of the squares of each number sorted in increasing order."
   ]
  },
  {
   "cell_type": "code",
   "execution_count": 16,
   "id": "c05b8269-4dda-42bd-8fdb-36d8dcef47a6",
   "metadata": {},
   "outputs": [],
   "source": [
    "def sortedSquares(arr):\n",
    "    li= list(nums)\n",
    "    sorted =[]\n",
    "    for i in li:\n",
    "        sorted.append(i**2)\n",
    "    sorted.sort()\n",
    "    return sorted"
   ]
  },
  {
   "cell_type": "code",
   "execution_count": 17,
   "id": "1270db2f-a701-411a-be81-54c239afc2e0",
   "metadata": {},
   "outputs": [
    {
     "name": "stdout",
     "output_type": "stream",
     "text": [
      "[0, 1, 9, 16, 100]\n"
     ]
    }
   ],
   "source": [
    "nums = [-4,-1,0,3,10]\n",
    "print(sortedSquares(nums))"
   ]
  },
  {
   "cell_type": "markdown",
   "id": "ffba748b-9612-4eb1-a057-082fd9784069",
   "metadata": {},
   "source": [
    "## Q8 Given the array nums consisting of 2n elements in the form [x1,x2,...,xn,y1,y2,...,yn]. Return the array in the form* [x1,y1,x2,y2,...,xn,yn]"
   ]
  },
  {
   "cell_type": "code",
   "execution_count": 28,
   "id": "35d6b081-d0b2-4dd2-9cad-deb794147b29",
   "metadata": {},
   "outputs": [],
   "source": [
    "def arrange(arr):\n",
    "    n = len(arr)//2\n",
    "    li=[]\n",
    "    for i in range(n):\n",
    "        li.append(arr[i])\n",
    "        li.append(arr[i+n])\n",
    "    print(li)"
   ]
  },
  {
   "cell_type": "code",
   "execution_count": 29,
   "id": "a14f16bd-86c8-40c9-bc1d-5fd8469d6b26",
   "metadata": {},
   "outputs": [
    {
     "name": "stdout",
     "output_type": "stream",
     "text": [
      "[2, 3, 5, 4, 1, 7]\n"
     ]
    }
   ],
   "source": [
    "arrange([2,5,1,3,4,7])"
   ]
  },
  {
   "cell_type": "code",
   "execution_count": null,
   "id": "98c02112-aeb7-4022-9db0-136cbe9d4654",
   "metadata": {},
   "outputs": [],
   "source": []
  }
 ],
 "metadata": {
  "kernelspec": {
   "display_name": "Python 3 (ipykernel)",
   "language": "python",
   "name": "python3"
  },
  "language_info": {
   "codemirror_mode": {
    "name": "ipython",
    "version": 3
   },
   "file_extension": ".py",
   "mimetype": "text/x-python",
   "name": "python",
   "nbconvert_exporter": "python",
   "pygments_lexer": "ipython3",
   "version": "3.10.9"
  }
 },
 "nbformat": 4,
 "nbformat_minor": 5
}
