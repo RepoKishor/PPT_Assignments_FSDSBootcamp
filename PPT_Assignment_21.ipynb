{
 "cells": [
  {
   "cell_type": "markdown",
   "id": "6e0adf6d-b8a9-4e57-b810-4200a11ddc07",
   "metadata": {},
   "source": [
    "## Q1 convert binary tree to BST"
   ]
  },
  {
   "cell_type": "code",
   "execution_count": 12,
   "id": "0056093b-62b3-441e-b658-9bf095094c29",
   "metadata": {},
   "outputs": [
    {
     "name": "stdout",
     "output_type": "stream",
     "text": [
      "Binary Search Tree:\n",
      "2 4 7 8 10 "
     ]
    }
   ],
   "source": [
    "class Node:\n",
    "    def __init__(self, data):\n",
    "        self.data = data\n",
    "        self.left = None\n",
    "        self.right = None\n",
    "\n",
    "\n",
    "def inorder_traversal(root, nodes):\n",
    "    if root is not None:\n",
    "        inorder_traversal(root.left, nodes)\n",
    "        nodes.append(root.data)\n",
    "        inorder_traversal(root.right, nodes)\n",
    "    #print('inorder_traversal:',nodes)\n",
    "\n",
    "\n",
    "def convert_to_bst(root, nodes, index):\n",
    "    if root is not None:\n",
    "        convert_to_bst(root.left, nodes, index)\n",
    "        root.data = nodes[index[0]]\n",
    "        index[0] += 1\n",
    "        convert_to_bst(root.right, nodes, index)\n",
    "\n",
    "\n",
    "def convert_binary_tree_to_bst(root):\n",
    "    nodes = []\n",
    "    inorder_traversal(root, nodes)\n",
    "\n",
    "    nodes.sort()\n",
    "\n",
    "    index = [0]\n",
    "    convert_to_bst(root, nodes, index)\n",
    "\n",
    "\n",
    "root = Node(10)\n",
    "root.left = Node(2)\n",
    "root.right = Node(7)\n",
    "root.left.left = Node(8)\n",
    "root.left.right = Node(4)\n",
    "\n",
    "convert_binary_tree_to_bst(root)\n",
    "\n",
    "def inorder_print(root):\n",
    "    if root is not None:\n",
    "        inorder_print(root.left)\n",
    "        print(root.data, end=\" \")\n",
    "        inorder_print(root.right)\n",
    "\n",
    "print(\"Binary Search Tree:\")\n",
    "inorder_print(root)\n"
   ]
  },
  {
   "cell_type": "markdown",
   "id": "fb207d35-ac61-4e4d-b8ef-20a4d3242105",
   "metadata": {},
   "source": [
    "## Q2 "
   ]
  },
  {
   "cell_type": "code",
   "execution_count": 2,
   "id": "9df3ab9a-e98a-44dc-a669-6d0df2d1e44c",
   "metadata": {},
   "outputs": [
    {
     "name": "stdout",
     "output_type": "stream",
     "text": [
      "The distance between two nodes is  4\n"
     ]
    }
   ],
   "source": [
    "class Node:\n",
    "    def __init__(self, key):\n",
    "        self.key = key\n",
    "        self.left = None\n",
    "        self.right = None\n",
    "\n",
    "\n",
    "def find_distance(root, node1, node2):\n",
    "    lca = find_lca(root, node1, node2)\n",
    "\n",
    "    distance1 = find_distance_to_node(lca, node1, 0)\n",
    "    distance2 = find_distance_to_node(lca, node2, 0)\n",
    "\n",
    "    total_distance = distance1 + distance2\n",
    "\n",
    "    return total_distance\n",
    "\n",
    "\n",
    "def find_lca(root, node1, node2):\n",
    "    if root is None:\n",
    "        return None\n",
    "\n",
    "    if root.key == node1 or root.key == node2:\n",
    "        return root\n",
    "\n",
    "    if root.key > node1 and root.key > node2:\n",
    "        return find_lca(root.left, node1, node2)\n",
    "\n",
    "    if root.key < node1 and root.key < node2:\n",
    "        return find_lca(root.right, node1, node2)\n",
    "\n",
    "    return root\n",
    "\n",
    "\n",
    "def find_distance_to_node(root, target, distance):\n",
    "    if root is None:\n",
    "        return -1\n",
    "\n",
    "    if root.key == target:\n",
    "        return distance\n",
    "\n",
    "    if root.key > target:\n",
    "        return find_distance_to_node(root.left, target, distance + 1)\n",
    "\n",
    "    return find_distance_to_node(root.right, target, distance + 1)\n",
    "\n",
    "root = Node(8)\n",
    "root.left = Node(3)\n",
    "root.right = Node(10)\n",
    "root.left.left = Node(1)\n",
    "root.left.right = Node(6)\n",
    "root.right.right = Node(14)\n",
    "root.right.right.left = Node(13)\n",
    "root.left.right.right = Node(7)\n",
    "\n",
    "node1 = 6\n",
    "node2 = 14\n",
    "\n",
    "distance = find_distance(root, node1, node2)\n",
    "\n",
    "print(\"The distance between two nodes is \", distance)\n"
   ]
  },
  {
   "cell_type": "markdown",
   "id": "93bac3bc-9c00-45e4-86d1-8f141bd3e3ad",
   "metadata": {},
   "source": [
    "## Q3 Write a program to connect nodes at the same level."
   ]
  },
  {
   "cell_type": "code",
   "execution_count": 1,
   "id": "806c3d14-e1e1-4ee6-92e1-bf06a84ecac2",
   "metadata": {},
   "outputs": [
    {
     "name": "stdout",
     "output_type": "stream",
     "text": [
      "None\n",
      "3\n",
      "5\n",
      "6\n"
     ]
    }
   ],
   "source": [
    "class Node:\n",
    "    def __init__(self, data):\n",
    "        self.data = data\n",
    "        self.left = None\n",
    "        self.right = None\n",
    "        self.next = None  # Pointer to the next node at the same level\n",
    "\n",
    "\n",
    "def connect_nodes_at_same_level(root):\n",
    "    if not root:\n",
    "        return\n",
    "\n",
    "    queue = [root]\n",
    "    while queue:\n",
    "        level_size = len(queue)\n",
    "        #print('level_size',level_size)\n",
    "        for i in range(level_size):\n",
    "            node = queue.pop(0)\n",
    "\n",
    "            if i < level_size - 1:\n",
    "                node.next = queue[0]\n",
    "\n",
    "            if node.left:\n",
    "                queue.append(node.left)\n",
    "            if node.right:\n",
    "                queue.append(node.right)\n",
    "\n",
    "\n",
    "\n",
    "root = Node(1)\n",
    "root.left = Node(2)\n",
    "root.right = Node(3)\n",
    "root.left.left = Node(4)\n",
    "root.left.right = Node(5)\n",
    "root.right.left = Node(6)\n",
    "root.right.right = Node(7)\n",
    "\n",
    "connect_nodes_at_same_level(root)\n",
    "\n",
    "print(root.next)  \n",
    "print(root.left.next.data)  \n",
    "print(root.left.left.next.data)  \n",
    "print(root.left.right.next.data)  \n"
   ]
  },
  {
   "cell_type": "code",
   "execution_count": null,
   "id": "d2832398-47d2-44f1-bc1b-174b0cbc454d",
   "metadata": {},
   "outputs": [],
   "source": []
  }
 ],
 "metadata": {
  "kernelspec": {
   "display_name": "Python 3 (ipykernel)",
   "language": "python",
   "name": "python3"
  },
  "language_info": {
   "codemirror_mode": {
    "name": "ipython",
    "version": 3
   },
   "file_extension": ".py",
   "mimetype": "text/x-python",
   "name": "python",
   "nbconvert_exporter": "python",
   "pygments_lexer": "ipython3",
   "version": "3.10.9"
  }
 },
 "nbformat": 4,
 "nbformat_minor": 5
}
