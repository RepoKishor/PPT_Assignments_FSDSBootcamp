{
 "cells": [
  {
   "cell_type": "markdown",
   "id": "84eb77b0-d657-4853-825e-a765dea92ae7",
   "metadata": {},
   "source": [
    "Q2 Check if the target is in the matrix or not"
   ]
  },
  {
   "cell_type": "code",
   "execution_count": 3,
   "id": "087a0c4d-99c2-4d06-b3df-aa8b58b6cb91",
   "metadata": {},
   "outputs": [],
   "source": [
    "def isTargetInMatrix(a,num):\n",
    "    m=len(a)\n",
    "    n=len(a[0])\n",
    "    row =0\n",
    "    while row < m:\n",
    "        if num == a[row][n-1]:\n",
    "            return True\n",
    "        if num < a[row][n-1]:\n",
    "            for j in range(n):\n",
    "                if num == a[row][j]:\n",
    "                    return True\n",
    "        row +=1\n",
    "    return False"
   ]
  },
  {
   "cell_type": "code",
   "execution_count": 4,
   "id": "5a920351-c39b-42a5-a0a6-404f6ac10896",
   "metadata": {},
   "outputs": [
    {
     "name": "stdout",
     "output_type": "stream",
     "text": [
      "m,n: 3 4\n",
      "True\n"
     ]
    }
   ],
   "source": [
    "arr=[[1,3,5,7],[10,11,16,20],[23,30,34,60]]\n",
    "print(isTargetInMatrix([[1,3,5,7],[10,11,16,20],[23,30,34,60]],10))"
   ]
  },
  {
   "cell_type": "markdown",
   "id": "1c8c99de-5989-4cd9-9d05-b4df74f3a4ba",
   "metadata": {},
   "source": [
    "Q4. To find the length of maximum contiguous subarray of 0,1"
   ]
  },
  {
   "cell_type": "code",
   "execution_count": 5,
   "id": "d6d62493-4874-4188-83b8-22ebb5999c45",
   "metadata": {},
   "outputs": [],
   "source": [
    "def findContiguousArray(arr, n):\n",
    " \n",
    "    sum = 0\n",
    "    maxsize = -1\n",
    "    for i in range(0, n-1):\n",
    "        if(arr[i] == 0):\n",
    "            sum=-1\n",
    "        else:\n",
    "            sum=1\n",
    "        for j in range(i + 1, n):\n",
    "            if (arr[j] == 0):\n",
    "                sum=sum-1\n",
    "            else:\n",
    "                sum=sum+1\n",
    "            if (sum == 0 and maxsize < j-i + 1):\n",
    "                maxsize = j - i + 1\n",
    "    if (maxsize == -1):\n",
    "        print(\"No subarray found\");\n",
    "    return maxsize"
   ]
  },
  {
   "cell_type": "code",
   "execution_count": 6,
   "id": "0b75bc3e-5a01-4b94-bfb6-9f576678d8a6",
   "metadata": {},
   "outputs": [
    {
     "name": "stdout",
     "output_type": "stream",
     "text": [
      "2\n"
     ]
    }
   ],
   "source": [
    "arr=[0,1]\n",
    "n = len(arr) \n",
    "print(findContiguousArray(arr, n))"
   ]
  },
  {
   "cell_type": "code",
   "execution_count": 7,
   "id": "468e2244-902d-4281-90d4-9ee7007d25fb",
   "metadata": {},
   "outputs": [
    {
     "name": "stdout",
     "output_type": "stream",
     "text": [
      "6\n"
     ]
    }
   ],
   "source": [
    "arr = [1, 0, 0, 1, 0, 1, 1]\n",
    "n = len(arr) \n",
    "print(findContiguousArray(arr, n))"
   ]
  },
  {
   "cell_type": "markdown",
   "id": "6e7d3fcf-c682-4025-b95d-74cba397a98f",
   "metadata": {},
   "source": [
    "Q5. Minimum product sum of two arrays"
   ]
  },
  {
   "cell_type": "code",
   "execution_count": 11,
   "id": "aedf181a-bd2d-4e19-ac02-2ac7550487c3",
   "metadata": {},
   "outputs": [],
   "source": [
    "def minProductSum(arr1, arr2):\n",
    "    arr1.sort()\n",
    "    arr2.sort()\n",
    "    i=0\n",
    "    j=len(arr2)-1\n",
    "    prodSum=0\n",
    "    while(i < len(arr1) and j >= 0):\n",
    "        prodSum += arr1[i] * arr2[j]\n",
    "        i +=1\n",
    "        j -=1\n",
    "    return prodSum"
   ]
  },
  {
   "cell_type": "code",
   "execution_count": 13,
   "id": "866da640-242b-4586-8be4-6cd8d087bd76",
   "metadata": {},
   "outputs": [
    {
     "name": "stdout",
     "output_type": "stream",
     "text": [
      "40\n"
     ]
    }
   ],
   "source": [
    "A = [5,3,4,2]\n",
    "B = [4,2,2,5]\n",
    "print(minProductSum(A,B))"
   ]
  },
  {
   "cell_type": "markdown",
   "id": "c0616f12-63a6-44b1-b954-364d7a080a39",
   "metadata": {},
   "source": [
    "Q8. Marix multiplication "
   ]
  },
  {
   "cell_type": "code",
   "execution_count": 14,
   "id": "56d82676-4acd-47a3-b2f9-daeb0f72f42e",
   "metadata": {},
   "outputs": [],
   "source": [
    "def prodMat(arr1, arr2):\n",
    "    m1=len(arr1)\n",
    "    n1=len(arr1[0])\n",
    "    n2=len(arr2[0])\n",
    "    prod= [[0] * n2 for n in range(m1)]\n",
    "    for i in range(m1):\n",
    "        for j in range(n2):\n",
    "            for k in range(n1):\n",
    "                prod[i][j] += arr1[i][k] * arr2[k][j]    \n",
    "    \n",
    "    return prod"
   ]
  },
  {
   "cell_type": "code",
   "execution_count": 15,
   "id": "de7b57b4-2cfb-436a-b467-d5d69274c858",
   "metadata": {},
   "outputs": [
    {
     "name": "stdout",
     "output_type": "stream",
     "text": [
      "[[7, 0, 0], [-7, 0, 3]]\n"
     ]
    }
   ],
   "source": [
    "mat1 = [[1,0,0],[-1,0,3]]\n",
    "mat2 = [[7,0,0],[0,0,0],[0,0,1]]\n",
    "print(prodMat(mat1,mat2))"
   ]
  },
  {
   "cell_type": "markdown",
   "id": "be45592a-ea6b-4aa4-9d71-1627d8f278ce",
   "metadata": {},
   "source": [
    "Q7. Spiral Matrix "
   ]
  },
  {
   "cell_type": "code",
   "execution_count": 16,
   "id": "2ee466e7-c445-4ebe-a6ee-b2bb99568d2f",
   "metadata": {},
   "outputs": [],
   "source": [
    "def spiralMatrix(n):\n",
    "    spiral = [[0] * n for i in range(n)]\n",
    "    num = 1\n",
    "    top, bottom = 0, n - 1\n",
    "    left, right = 0, n - 1\n",
    "\n",
    "    while num <= n*n:\n",
    "        for i in range(left, right + 1):\n",
    "            spiral[top][i] = num\n",
    "            num += 1\n",
    "        top += 1\n",
    "        for i in range(top, bottom + 1):\n",
    "            spiral[i][right] = num\n",
    "            num += 1\n",
    "        right -= 1\n",
    "        for i in range(right, left - 1, -1):\n",
    "            spiral[bottom][i] = num\n",
    "            num += 1\n",
    "        bottom -= 1\n",
    "        for i in range(bottom, top - 1, -1):\n",
    "            spiral[i][left] = num\n",
    "            num += 1\n",
    "        left += 1\n",
    "\n",
    "    return spiral"
   ]
  },
  {
   "cell_type": "code",
   "execution_count": 17,
   "id": "d9e5c799-5486-470e-b32a-c146add070ac",
   "metadata": {},
   "outputs": [
    {
     "data": {
      "text/plain": [
       "[[1, 2, 3], [8, 9, 4], [7, 6, 5]]"
      ]
     },
     "execution_count": 17,
     "metadata": {},
     "output_type": "execute_result"
    }
   ],
   "source": [
    "spiralMatrix(3)"
   ]
  },
  {
   "cell_type": "code",
   "execution_count": null,
   "id": "4396cc54-0f2f-4616-bf1e-ef618ff0120f",
   "metadata": {},
   "outputs": [],
   "source": []
  }
 ],
 "metadata": {
  "kernelspec": {
   "display_name": "Python 3 (ipykernel)",
   "language": "python",
   "name": "python3"
  },
  "language_info": {
   "codemirror_mode": {
    "name": "ipython",
    "version": 3
   },
   "file_extension": ".py",
   "mimetype": "text/x-python",
   "name": "python",
   "nbconvert_exporter": "python",
   "pygments_lexer": "ipython3",
   "version": "3.10.9"
  }
 },
 "nbformat": 4,
 "nbformat_minor": 5
}
