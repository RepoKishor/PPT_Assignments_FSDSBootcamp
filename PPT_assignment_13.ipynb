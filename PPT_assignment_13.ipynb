{
 "cells": [
  {
   "cell_type": "markdown",
   "id": "04076995-dee5-403b-bceb-c09fc3917c9c",
   "metadata": {},
   "source": [
    "## Q1. Given two linked list of the same size, the task is to create a new linked list using those linked lists. The condition is that the greater node among both linked list will be added to the new linked list."
   ]
  },
  {
   "cell_type": "code",
   "execution_count": 1,
   "id": "0eba8d34-0a4a-49b0-95f8-6f9108366b81",
   "metadata": {},
   "outputs": [],
   "source": [
    "def mergeList(head1, head2):\n",
    " \n",
    "    ptr1 = head1\n",
    "    ptr2 = head2\n",
    "     \n",
    "    head = None\n",
    "    while (ptr1 != None) :\n",
    "        temp = Node(0)\n",
    "        temp.next = None\n",
    "        if (ptr1.data < ptr2.data):\n",
    "            temp.data = ptr2.data\n",
    "        else:\n",
    "            temp.data = ptr1.data\n",
    " \n",
    "        if (head == None):\n",
    "            head = temp\n",
    "        else :\n",
    "            ptr = head\n",
    "            while (ptr.next != None):\n",
    "                ptr = ptr.next\n",
    " \n",
    "            ptr.next = temp\n",
    "         \n",
    "        ptr1 = ptr1.next\n",
    "        ptr2 = ptr2.next\n",
    "     \n",
    "    return head"
   ]
  },
  {
   "cell_type": "markdown",
   "id": "24cb7391-874f-407c-964f-598841021d36",
   "metadata": {},
   "source": [
    "## Q2 removeDuplicates"
   ]
  },
  {
   "cell_type": "code",
   "execution_count": 2,
   "id": "99ad5c0d-cb54-47b9-9f3e-112d405949c5",
   "metadata": {},
   "outputs": [],
   "source": [
    "def removeDuplicates(head):\n",
    "        temp = head\n",
    "        if temp is None:\n",
    "            return\n",
    "        while temp.next is not None:\n",
    "            if temp.data == temp.next.data:\n",
    "                new = temp.next.next\n",
    "                temp.next = new\n",
    "            else:\n",
    "                temp = temp.next\n",
    "        return head"
   ]
  },
  {
   "cell_type": "markdown",
   "id": "71bd0771-4701-4395-b938-a605011f698f",
   "metadata": {},
   "source": [
    "## Q4. Given a linked list, write a function to reverse every alternate k nodes"
   ]
  },
  {
   "cell_type": "code",
   "execution_count": 3,
   "id": "e4033343-48c6-4a3e-bd49-b125b85c93f8",
   "metadata": {},
   "outputs": [],
   "source": [
    "def reverseAlternateKNodes(head, k):\n",
    "    if not head or k <= 1:\n",
    "        return head\n",
    "\n",
    "    prev = None\n",
    "    curr = head\n",
    "    count = 0\n",
    "    while curr and count < k:\n",
    "        next_node = curr.next\n",
    "        curr.next = prev\n",
    "        prev = curr\n",
    "        curr = next_node\n",
    "        count += 1\n",
    "\n",
    "# skipping the next k nodes        \n",
    "    while curr and count < k:\n",
    "        curr = curr.next\n",
    "        count += 1\n",
    "    if curr:\n",
    "        head.next = reverseAlternateKNodes(curr, k)\n",
    "\n",
    "    return prev"
   ]
  },
  {
   "cell_type": "markdown",
   "id": "2368ae83-6c31-453a-a040-efddea24e6c9",
   "metadata": {},
   "source": [
    "## Q5. Given a linked list and a key to be deleted. Delete last occurrence of key from linked."
   ]
  },
  {
   "cell_type": "code",
   "execution_count": 4,
   "id": "b427552c-3990-427a-a506-a3b9eb79f633",
   "metadata": {},
   "outputs": [],
   "source": [
    "def delete_lastkey(head, key):\n",
    "    if not head:\n",
    "        return head\n",
    "\n",
    "    prev = None\n",
    "    curr = head\n",
    "    last_occurrence = None\n",
    "    while curr:\n",
    "        if curr.val == key:\n",
    "            last_occurrence = curr\n",
    "        prev = curr\n",
    "        curr = curr.next\n",
    "\n",
    "    if last_occurrence:\n",
    "        if prev:\n",
    "            prev.next = last_occurrence.next\n",
    " \n",
    "    return head"
   ]
  },
  {
   "cell_type": "markdown",
   "id": "a3a26601-59c1-4eac-83ef-89d4c70132f3",
   "metadata": {},
   "source": [
    "## Q6 Given two sorted linked lists consisting of N and M nodes respectively. The task is to merge both of the lists (in place) and return the head of the merged list."
   ]
  },
  {
   "cell_type": "code",
   "execution_count": 7,
   "id": "921b52da-2219-4d9f-b2a4-0d9a90a9e9b4",
   "metadata": {},
   "outputs": [],
   "source": [
    "def mergeTwoLists2(l1, l2):\n",
    "    if not l1 or not l2:\n",
    "        return l1 or l2\n",
    "    \n",
    "    if l1.val <= l2.val:\n",
    "        l1.next = mergeTwoLists(l1.next, l2)\n",
    "        return l1\n",
    "    else:\n",
    "        l2.next = mergeTwoLists(l1, l2.next)\n",
    "        return l2"
   ]
  },
  {
   "cell_type": "markdown",
   "id": "98f05f99-38e8-47a5-bd68-1ec786d05d2f",
   "metadata": {},
   "source": [
    "## Q7 Reverse the given Doubly linked list"
   ]
  },
  {
   "cell_type": "code",
   "execution_count": 8,
   "id": "7e80802c-0c07-47e6-ae02-34be3c093602",
   "metadata": {},
   "outputs": [],
   "source": [
    "def reverse_doublelist(head):\n",
    "    if not head:\n",
    "        return head\n",
    "\n",
    "    curr = head\n",
    "    while curr:\n",
    "        curr.prev = curr.next\n",
    "        curr.next = curr.prev \n",
    "        curr = curr.prev\n",
    "\n",
    "    head = curr.prev\n",
    "\n",
    "    return head"
   ]
  },
  {
   "cell_type": "markdown",
   "id": "85982b47-3cc2-4bc8-8f90-cc85b9fc5310",
   "metadata": {},
   "source": [
    "## Q8 Given a doubly linked list and a position. The task is to delete a node from given position in a doubly linked list."
   ]
  },
  {
   "cell_type": "code",
   "execution_count": 9,
   "id": "bc06eb5f-60a2-457b-aef5-4958f85b5d98",
   "metadata": {},
   "outputs": [],
   "source": [
    "def deleteAtPosition(head,n):\n",
    "    curr = head\n",
    "    i=1\n",
    "    while(curr !=None and i<n):\n",
    "        curr = curr.next\n",
    "        i+=1\n",
    "    \n",
    "    if (head == curr):\n",
    "        head = curr.next\n",
    "        \n",
    "    if (curr.next != None):\n",
    "        curr.next.prev = curr.prev\n",
    " \n",
    "    if (curr.prev != None):\n",
    "        curr.prev.next = curr.next\n",
    "         \n",
    "    return head"
   ]
  },
  {
   "cell_type": "markdown",
   "id": "a7954842-1d2c-43a0-b59e-41e2d3d1c93c",
   "metadata": {},
   "source": [
    "## Q3 Given a linked list of size N. The task is to reverse every k nodes (where k is an input to the function) in the linked list."
   ]
  },
  {
   "cell_type": "code",
   "execution_count": 1,
   "id": "2f25f7c8-5dc9-4302-8508-a2e78cc927e5",
   "metadata": {},
   "outputs": [],
   "source": [
    "def reverse(head, k):\n",
    "        \n",
    "        if head == None:\n",
    "          return None\n",
    "        current = head\n",
    "        next = None\n",
    "        prev = None\n",
    "        count = 0\n",
    "        while(current is not None and count < k):\n",
    "            next = current.next\n",
    "            current.next = prev\n",
    "            prev = current\n",
    "            current = next\n",
    "            count += 1\n",
    "  \n",
    "        if next is not None:\n",
    "            head.next = reverse(next, k)\n",
    "\n",
    "        return prev"
   ]
  },
  {
   "cell_type": "code",
   "execution_count": null,
   "id": "3a61b2f5-b096-485a-9ddd-e41333f9169f",
   "metadata": {},
   "outputs": [],
   "source": []
  }
 ],
 "metadata": {
  "kernelspec": {
   "display_name": "Python 3 (ipykernel)",
   "language": "python",
   "name": "python3"
  },
  "language_info": {
   "codemirror_mode": {
    "name": "ipython",
    "version": 3
   },
   "file_extension": ".py",
   "mimetype": "text/x-python",
   "name": "python",
   "nbconvert_exporter": "python",
   "pygments_lexer": "ipython3",
   "version": "3.10.9"
  }
 },
 "nbformat": 4,
 "nbformat_minor": 5
}
