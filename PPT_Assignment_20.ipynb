{
 "cells": [
  {
   "cell_type": "markdown",
   "id": "56da808c-a063-4e60-b1a1-3a862834a72b",
   "metadata": {},
   "source": [
    "## Q1 Given a binary tree, your task is to find subtree with maximum sum in tree"
   ]
  },
  {
   "cell_type": "code",
   "execution_count": 1,
   "id": "5169014a-f652-4d9d-8786-66e8a9052a29",
   "metadata": {},
   "outputs": [],
   "source": [
    "class TreeNode:\n",
    "    def __init__(self, val=0, left=None, right=None):\n",
    "        self.val = val\n",
    "        self.left = left\n",
    "        self.right = right"
   ]
  },
  {
   "cell_type": "code",
   "execution_count": 11,
   "id": "e13b3b39-df28-4430-80d2-963e6c5716a6",
   "metadata": {},
   "outputs": [
    {
     "name": "stdout",
     "output_type": "stream",
     "text": [
      "Max subtree sum is : 7\n"
     ]
    }
   ],
   "source": [
    "def maximum_subtree_sum(root):\n",
    "    if not root:\n",
    "        return 0\n",
    "    max_sum= 0\n",
    "    def subtreeSum(node):\n",
    "        nonlocal max_sum\n",
    "\n",
    "        if not node:\n",
    "            return 0\n",
    "\n",
    "        left_sum = subtreeSum(node.left)\n",
    "        right_sum = subtreeSum(node.right)\n",
    "\n",
    "        current_sum = node.val + left_sum + right_sum\n",
    "        max_sum = max(max_sum, current_sum)\n",
    "\n",
    "        return current_sum\n",
    "\n",
    "    subtreeSum(root)\n",
    "\n",
    "    return max_sum\n",
    "\n",
    "root = TreeNode(1)\n",
    "root.left = TreeNode(-2)\n",
    "root.right = TreeNode(3)\n",
    "root.left.left = TreeNode(4)\n",
    "root.left.right = TreeNode(5)\n",
    "root.right.left = TreeNode(-6)\n",
    "root.right.right = TreeNode(2)\n",
    "\n",
    "maximumsubtreesum = maximum_subtree_sum(root)\n",
    "print(\"Max subtree sum is :\", maximumsubtreesum)\n"
   ]
  },
  {
   "cell_type": "markdown",
   "id": "88fde403-fbb6-40f3-ad79-9c0a97a1bec2",
   "metadata": {},
   "source": [
    "## Q2 Construct the BST (Binary Search Tree) from its given level order traversal."
   ]
  },
  {
   "cell_type": "code",
   "execution_count": 16,
   "id": "bcf8fe6a-5457-47e7-a06e-e48549410a05",
   "metadata": {},
   "outputs": [
    {
     "name": "stdout",
     "output_type": "stream",
     "text": [
      "7 4 3 1 5 6 10 12 8 "
     ]
    }
   ],
   "source": [
    "def constructBst(level_order):\n",
    "    if not level_order:\n",
    "        return None\n",
    "\n",
    "    root = TreeNode(level_order[0])\n",
    "    queue = [root]\n",
    "    i = 1\n",
    "\n",
    "    while i < len(level_order):\n",
    "        node = queue.pop(0)\n",
    "\n",
    "        if i < len(level_order) and level_order[i] < node.val:\n",
    "            node.left = TreeNode(level_order[i])\n",
    "            queue.append(node.left)\n",
    "            i += 1\n",
    "\n",
    "        if i < len(level_order) and level_order[i] > node.val:\n",
    "            node.right = TreeNode(level_order[i])\n",
    "            queue.append(node.right)\n",
    "            i += 1\n",
    "\n",
    "    return root\n",
    "\n",
    "\n",
    "def preorderTraversal(root):\n",
    "    if (root == None):\n",
    "        return None\n",
    "    print(root.val, end=\" \")\n",
    "    preorderTraversal(root.left)\n",
    "    preorderTraversal(root.right)\n",
    "\n",
    "\n",
    "root = constructBst([7, 4, 12, 3, 6, 8, 1, 5, 10])\n",
    "root = preorderTraversal(root)"
   ]
  },
  {
   "cell_type": "code",
   "execution_count": null,
   "id": "fbf5c1cb-b065-4cf9-a0f7-6c0b7971234a",
   "metadata": {},
   "outputs": [],
   "source": []
  }
 ],
 "metadata": {
  "kernelspec": {
   "display_name": "Python 3 (ipykernel)",
   "language": "python",
   "name": "python3"
  },
  "language_info": {
   "codemirror_mode": {
    "name": "ipython",
    "version": 3
   },
   "file_extension": ".py",
   "mimetype": "text/x-python",
   "name": "python",
   "nbconvert_exporter": "python",
   "pygments_lexer": "ipython3",
   "version": "3.10.9"
  }
 },
 "nbformat": 4,
 "nbformat_minor": 5
}
