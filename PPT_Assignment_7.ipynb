{
 "cells": [
  {
   "cell_type": "markdown",
   "id": "0ab1b38a-17c9-4368-83df-f649d6d7b729",
   "metadata": {},
   "source": [
    "Q1 Check if two strings are isomorphic or not"
   ]
  },
  {
   "cell_type": "code",
   "execution_count": 3,
   "id": "fa8df13e-2fdd-4735-8f04-9f510295d017",
   "metadata": {},
   "outputs": [],
   "source": [
    "def strIsomorphic(str1, str2):\n",
    "    charDict = dict()\n",
    "    c = \"\"\n",
    "    for i in range(len(str1)):\n",
    "        print(charDict)\n",
    "        if str1[i] in charDict:\n",
    "            c = charDict[str1[i]]\n",
    "            if c != str2[i]:\n",
    "                return False\n",
    "        elif str2[i] not in charDict.values():\n",
    "            charDict[str1[i]] = str2[i]\n",
    "        else:\n",
    "            return False\n",
    "    return True"
   ]
  },
  {
   "cell_type": "code",
   "execution_count": 4,
   "id": "ce776601-2c20-4bb9-bcc7-bb7e8615dce8",
   "metadata": {},
   "outputs": [
    {
     "name": "stdout",
     "output_type": "stream",
     "text": [
      "{}\n",
      "{'e': 'a'}\n",
      "{'e': 'a', 'g': 'd'}\n",
      "True\n"
     ]
    }
   ],
   "source": [
    "str1 = \"egg\"\n",
    "str2 = \"add\"\n",
    "print(strIsomorphic(str1,str2))"
   ]
  },
  {
   "cell_type": "markdown",
   "id": "fc259a57-2062-45ac-bd44-1c3c557a9653",
   "metadata": {},
   "source": [
    "Q2.Given a string num which represents an integer, return true *if* num *is a **strobogrammatic number***.\n",
    "\n",
    "A strobogrammatic number is a number that looks the same when rotated 180 degrees (looked at upside down)."
   ]
  },
  {
   "cell_type": "markdown",
   "id": "0e6975d6-487c-4159-9474-759c8a5d22a3",
   "metadata": {},
   "source": [
    "def isStrobogrammatic(num):\n",
    "    strobogrammatic_pairs = {'0': '0', '1': '1', '6': '9', '8': '8', '9': '6'}\n",
    "    left, right = 0, len(num) - 1\n",
    "\n",
    "    while left <= right:\n",
    "        if num[left] not in strobogrammatic_pairs or num[right] not in strobogrammatic_pairs:\n",
    "            return False\n",
    "        if num[left] != strobogrammatic_pairs[num[right]]:\n",
    "            return False\n",
    "        left += 1\n",
    "        right -= 1\n",
    "\n",
    "    return True"
   ]
  },
  {
   "cell_type": "code",
   "execution_count": 12,
   "id": "181b14d5-a2a9-4178-abbd-22f7c558c65d",
   "metadata": {},
   "outputs": [
    {
     "name": "stdout",
     "output_type": "stream",
     "text": [
      "True\n"
     ]
    }
   ],
   "source": [
    "num = \"96\"\n",
    "print(isStrobogrammatic(num))"
   ]
  },
  {
   "cell_type": "code",
   "execution_count": 13,
   "id": "b52018ba-778b-44e0-92dc-f4b0b7427322",
   "metadata": {},
   "outputs": [
    {
     "name": "stdout",
     "output_type": "stream",
     "text": [
      "False\n"
     ]
    }
   ],
   "source": [
    "num = \"91\"\n",
    "print(isStrobogrammatic(num))"
   ]
  },
  {
   "cell_type": "markdown",
   "id": "f90a1f18-60f3-425f-b15b-4149e9e07cf9",
   "metadata": {},
   "source": [
    "Q3 Given two non-negative integers, num1 and num2 represented as string, return the sum of num1 and num2 as a string."
   ]
  },
  {
   "cell_type": "code",
   "execution_count": 18,
   "id": "df91e0ce-41b8-4676-82db-fe19572524cf",
   "metadata": {},
   "outputs": [],
   "source": [
    "def addStrings(num1, num2):\n",
    "    result = []\n",
    "    carry = 0\n",
    "    i = len(num1) - 1\n",
    "    j = len(num2) - 1\n",
    "\n",
    "    while i >= 0 or j >= 0 or carry > 0:\n",
    "        digit_sum = carry\n",
    "        if i >= 0:\n",
    "            digit_sum += int(num1[i])\n",
    "            i -= 1\n",
    "        if j >= 0:\n",
    "            digit_sum += int(num2[j])\n",
    "            j -= 1\n",
    "        result.append(str(digit_sum % 10))\n",
    "        carry = digit_sum // 10\n",
    "\n",
    "    return ''.join(result[::-1])"
   ]
  },
  {
   "cell_type": "code",
   "execution_count": 19,
   "id": "49cbec8e-4d5f-45de-addb-4ac8c8da6b61",
   "metadata": {},
   "outputs": [
    {
     "name": "stdout",
     "output_type": "stream",
     "text": [
      "468\n"
     ]
    }
   ],
   "source": [
    "num1 = \"12\"\n",
    "num2 = \"456\"\n",
    "sum_str = addStrings(num1, num2)\n",
    "print(sum_str)"
   ]
  },
  {
   "cell_type": "markdown",
   "id": "0581c797-e6d4-49b7-a0b5-af858faef212",
   "metadata": {},
   "source": [
    "Q4. Given a string s, reverse the order of characters in each word within a sentence while still preserving whitespace and initial word order."
   ]
  },
  {
   "cell_type": "code",
   "execution_count": 27,
   "id": "888c127b-c8fa-4050-a761-836f3a6d3b30",
   "metadata": {},
   "outputs": [],
   "source": [
    "def print_words(s):\n",
    "    n = len(s)\n",
    "    rev_word = \"\"\n",
    "    listofwords = s.split()\n",
    "    #print(listofwords)\n",
    "    for i in listofwords:\n",
    "        revword = i[::-1]\n",
    "        print(revword, end=\" \")\n"
   ]
  },
  {
   "cell_type": "code",
   "execution_count": 28,
   "id": "245a140e-d61f-472c-b0a3-e975eabea04a",
   "metadata": {},
   "outputs": [
    {
     "name": "stdout",
     "output_type": "stream",
     "text": [
      "s'teL ekat edoCteeL tsetnoc "
     ]
    }
   ],
   "source": [
    "s = \"Let's take LeetCode contest\"\n",
    "print_words(s)"
   ]
  },
  {
   "cell_type": "markdown",
   "id": "879479c4-34c6-416b-80d4-0b0a83ab657d",
   "metadata": {},
   "source": [
    "Q6. Given two strings s and goal, return true if and only if s can become goal after some number of shifts on s."
   ]
  },
  {
   "cell_type": "code",
   "execution_count": 33,
   "id": "98b2fa5a-537c-4318-994b-3f84ddee103e",
   "metadata": {},
   "outputs": [],
   "source": [
    "def shift_Goal(string1, string2):\n",
    "    l1 = len(string1)\n",
    "    l2 = len(string2)\n",
    "    if l1 != l2:\n",
    "        return False \n",
    "    together = ''\n",
    "    together = string1 + string1\n",
    "    if (together.count(string2) > 0):\n",
    "        return True\n",
    "    else:\n",
    "        return False"
   ]
  },
  {
   "cell_type": "code",
   "execution_count": 34,
   "id": "018a4122-94ad-440e-b217-3683cd56c848",
   "metadata": {},
   "outputs": [
    {
     "name": "stdout",
     "output_type": "stream",
     "text": [
      "True\n"
     ]
    }
   ],
   "source": [
    "s = \"abcde\"\n",
    "goal = \"cdeab\"\n",
    "print(shift_Goal(s, goal))"
   ]
  },
  {
   "cell_type": "markdown",
   "id": "3369da6d-851b-4991-92bd-5dcd46adad65",
   "metadata": {},
   "source": [
    "Q8. You are given an array coordinates, coordinates[i] = [x, y], where [x, y] represents the coordinate of a point. Check if these points make a straight line in the XY plane."
   ]
  },
  {
   "cell_type": "code",
   "execution_count": 43,
   "id": "e2642374-7468-4278-b31e-c841e5a02065",
   "metadata": {},
   "outputs": [],
   "source": [
    "def slope(points):\n",
    "  (x0, y0), (x1, y1) = points[0], points[1]\n",
    "  for i in range(2, len(coordinates)):\n",
    "     x, y = points[i]\n",
    "     if (y0 - y1) * (x1 - x) != (y1 - y) * (x0 - x1):\n",
    "            return False\n",
    "  return True"
   ]
  },
  {
   "cell_type": "code",
   "execution_count": 44,
   "id": "0dc8123a-cdf7-430a-8022-e22d0e664088",
   "metadata": {},
   "outputs": [
    {
     "name": "stdout",
     "output_type": "stream",
     "text": [
      "True\n"
     ]
    }
   ],
   "source": [
    "coordinates = [[1,2],[2,3],[3,4],[4,5],[5,6],[6,7]]\n",
    "print(solve(coordinates))"
   ]
  },
  {
   "cell_type": "markdown",
   "id": "e3de415e-de12-440c-a74a-221da0e08077",
   "metadata": {},
   "source": [
    "Q7. Given two strings s and t, return true if they are equal when both are typed into empty text editors. '#' means a backspace character."
   ]
  },
  {
   "cell_type": "code",
   "execution_count": 51,
   "id": "7589f663-ca08-47ba-afdf-c3161bde0f89",
   "metadata": {},
   "outputs": [],
   "source": [
    "def removeBackspace(s):\n",
    "    n = len(s)\n",
    "    idx = 0\n",
    "    for i in range(0, n):\n",
    "        if(s[i] != '#'):\n",
    "            #print('index', idx)\n",
    "            #print(s[:idx], '  ', s[i], ' ' , s[idx+1:])\n",
    "            s = s[:idx] + s[i] + s[idx+1:]\n",
    "            idx += 1            \n",
    "        elif(s[i] == '#' and idx >= 0):\n",
    "            idx -= 1\n",
    "    final = \"\"\n",
    "    #print('index', idx)\n",
    "    for i in range(0, idx):\n",
    "        final += s[i]\n",
    "    return final"
   ]
  },
  {
   "cell_type": "code",
   "execution_count": 52,
   "id": "a90f6584-edca-47b4-b094-6eca3dd0714e",
   "metadata": {},
   "outputs": [
    {
     "name": "stdout",
     "output_type": "stream",
     "text": [
      "True\n"
     ]
    }
   ],
   "source": [
    "s1= \"ab#c\"\n",
    "s2 = \"ad#c\"\n",
    "print(removeBackspace(s1)==removeBackspace(s2))"
   ]
  },
  {
   "cell_type": "code",
   "execution_count": null,
   "id": "e4ba23b0-f0b4-4610-9751-211ffb74fc96",
   "metadata": {},
   "outputs": [],
   "source": []
  }
 ],
 "metadata": {
  "kernelspec": {
   "display_name": "Python 3 (ipykernel)",
   "language": "python",
   "name": "python3"
  },
  "language_info": {
   "codemirror_mode": {
    "name": "ipython",
    "version": 3
   },
   "file_extension": ".py",
   "mimetype": "text/x-python",
   "name": "python",
   "nbconvert_exporter": "python",
   "pygments_lexer": "ipython3",
   "version": "3.10.9"
  }
 },
 "nbformat": 4,
 "nbformat_minor": 5
}
