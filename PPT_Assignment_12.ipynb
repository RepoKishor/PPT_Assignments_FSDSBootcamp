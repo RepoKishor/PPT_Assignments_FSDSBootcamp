{
 "cells": [
  {
   "cell_type": "markdown",
   "id": "1ef8f364-4128-43e4-b2bf-93fae85451c9",
   "metadata": {},
   "source": [
    "## Q1. Given a singly linked list, delete middle of the linked list. For example, if given linked list is 1->2->3->4->5 then linked list should be modified to 1->2->4->5.If there are even nodes, then there would be two middle nodes, we need to delete the second middle element."
   ]
  },
  {
   "cell_type": "code",
   "execution_count": 1,
   "id": "8a0a8863-1a56-4fb6-8be6-eecbe874e757",
   "metadata": {},
   "outputs": [],
   "source": [
    "class ListNode:\n",
    "    def __init__(self, val=0, next=None):\n",
    "        self.val = val\n",
    "        self.next = next\n",
    "    def deletemiddleNode(head):\n",
    "        if head is None or head.next is None:\n",
    "            return None\n",
    "        \n",
    "        slow = head\n",
    "        fast = head\n",
    "        prev = None\n",
    "        while fast_ptr and fast_ptr.next:\n",
    "            slow = slow.next\n",
    "            fast_ptr = fast_ptr.next.next\n",
    "            prev= slow\n",
    "    \n",
    "        prev.next=slow.next\n",
    "        return head"
   ]
  },
  {
   "cell_type": "markdown",
   "id": "138b75d5-0d98-42b6-a3c7-14dd26f81639",
   "metadata": {},
   "source": [
    "## Q2. Given a linked list of N nodes. The task is to check if the linked list has a loop. Linked list can contain self loop."
   ]
  },
  {
   "cell_type": "code",
   "execution_count": 3,
   "id": "1ab83445-0227-44e6-b9aa-4e8a35aa8003",
   "metadata": {},
   "outputs": [],
   "source": [
    "def hasCycle(head):\n",
    "    fast = head\n",
    "    slow = head\n",
    "    while fast is not None and fast.next is not None:\n",
    "        slow = slow.next\n",
    "        fast = fast.next.next\n",
    "        # If both the pointers meet at any point, then the cycle is present and return true\n",
    "        if slow == slow:\n",
    "            return True\n",
    "    return False\n",
    "    "
   ]
  },
  {
   "cell_type": "markdown",
   "id": "267f7694-5149-4a28-bead-b0d68576d9c9",
   "metadata": {},
   "source": [
    "## Q3.Given a linked list consisting of L nodes and given a number N. The task is to find the Nth node from the end of the linked list."
   ]
  },
  {
   "cell_type": "code",
   "execution_count": 4,
   "id": "cec39b33-adc6-426a-b1e8-5f438948aa3d",
   "metadata": {},
   "outputs": [],
   "source": [
    "def removeNthFromEnd(head, n):\n",
    "    fast = head\n",
    "    slow = head\n",
    "    for i in range(n):\n",
    "        fast = fast.next\n",
    "    while fast:\n",
    "        fast = fast.next\n",
    "        slow = slow.next\n",
    "    slow.next = slow.next.next\n",
    "    return head"
   ]
  },
  {
   "cell_type": "markdown",
   "id": "0af56646-98f7-458c-be10-fc235d99df53",
   "metadata": {},
   "source": [
    "## Q4. Given a singly linked list of characters, write a function that returns true if the given list is a palindrome, else false."
   ]
  },
  {
   "cell_type": "code",
   "execution_count": 5,
   "id": "a0f5e99e-11cd-4ef8-ae25-ccda99ce0a6a",
   "metadata": {},
   "outputs": [],
   "source": [
    "def isPalindrome(head):\n",
    "    slow = head\n",
    "    fast - head\n",
    "    prev = None\n",
    "    while fast and fast.next:\n",
    "        slow = slow.next\n",
    "        fast = fast.next.next\n",
    "    prev = slow\n",
    "    slow = slow.next \n",
    "    prev.next = None\n",
    "    while slow:\n",
    "        slow.next = prev \n",
    "        prev = slow\n",
    "        slow = slow.next\n",
    "    fast, slow = head, prev\n",
    "    while slow:\n",
    "        if fast.val != slow.val:\n",
    "            return False\n",
    "        fast = fast.next\n",
    "        slow = slow.next\n",
    "    return True"
   ]
  },
  {
   "cell_type": "markdown",
   "id": "6db471a0-1eb6-4d67-b53a-e94493ea50a0",
   "metadata": {},
   "source": [
    "## Q8. Check if a linked list is circular"
   ]
  },
  {
   "cell_type": "code",
   "execution_count": 6,
   "id": "24ecaf17-b441-4914-a445-2b031d22e388",
   "metadata": {},
   "outputs": [],
   "source": [
    "def checkifcircular(head):\n",
    "    if head is None:\n",
    "        return False\n",
    "\n",
    "    slow_ptr = head\n",
    "    fast_ptr = head.next\n",
    "\n",
    "    while fast_ptr and fast_ptr.next:\n",
    "        if slow_ptr == fast_ptr:\n",
    "            return True\n",
    "        slow_ptr = slow_ptr.next\n",
    "        fast_ptr = fast_ptr.next.next\n",
    "\n",
    "    return False"
   ]
  },
  {
   "cell_type": "markdown",
   "id": "85ebff41-258a-47b4-921f-1169e0e4d126",
   "metadata": {},
   "source": [
    "## Q6. Given a linked list and two integers M and N. Traverse the linked list such that you retain M nodes then delete next N nodes, continue the same till end of the linked list."
   ]
  },
  {
   "cell_type": "code",
   "execution_count": 27,
   "id": "5f4a9a61-0bf9-41d6-98c4-1679dda11400",
   "metadata": {},
   "outputs": [],
   "source": [
    "def skip_delete(head, M, N):\n",
    "    if not head or M <= 0 or N <= 0:\n",
    "        return head\n",
    "\n",
    "    prev = head  \n",
    "    curr = head  \n",
    "\n",
    "    while curr:\n",
    "        for i in range(M - 1):\n",
    "            if curr:\n",
    "                curr = curr.next\n",
    "\n",
    "        #print(\"before breaking\",curr.val)\n",
    "        if not curr:\n",
    "            #print(\"breaking\")\n",
    "            break\n",
    "\n",
    "        # Skip N nodes\n",
    "        for j in range(N):\n",
    "            #print('In N loop',curr.next.val)\n",
    "            if curr.next:\n",
    "                curr.next = curr.next.next\n",
    "            else:\n",
    "                break\n",
    "\n",
    "        # Move prev and curr pointers to the next set of nodes\n",
    "        prev = curr\n",
    "        if curr:\n",
    "            curr = curr.next\n",
    "\n",
    "    return head"
   ]
  },
  {
   "cell_type": "code",
   "execution_count": null,
   "id": "2f668a5a-73a7-4a03-aeb7-2a3ffc44d4cc",
   "metadata": {},
   "outputs": [],
   "source": []
  }
 ],
 "metadata": {
  "kernelspec": {
   "display_name": "Python 3 (ipykernel)",
   "language": "python",
   "name": "python3"
  },
  "language_info": {
   "codemirror_mode": {
    "name": "ipython",
    "version": 3
   },
   "file_extension": ".py",
   "mimetype": "text/x-python",
   "name": "python",
   "nbconvert_exporter": "python",
   "pygments_lexer": "ipython3",
   "version": "3.10.9"
  }
 },
 "nbformat": 4,
 "nbformat_minor": 5
}
