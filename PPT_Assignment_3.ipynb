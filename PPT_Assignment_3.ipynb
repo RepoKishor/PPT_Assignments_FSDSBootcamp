{
 "cells": [
  {
   "cell_type": "markdown",
   "id": "c05a3b05-9028-4e4a-9430-5fd3cd336d10",
   "metadata": {},
   "source": [
    "Q8"
   ]
  },
  {
   "cell_type": "code",
   "execution_count": 1,
   "id": "6a207cec-f051-4f8c-a0e8-d0f4bc32817b",
   "metadata": {},
   "outputs": [],
   "source": [
    "def meeting_Intervals(intervals):\n",
    "    intervals.sort()  \n",
    "    for i in range(1,len(intervals)):\n",
    "        if (intervals[i - 1][1] > intervals[i][0]):\n",
    "            return False\n",
    "\n",
    "    return True"
   ]
  },
  {
   "cell_type": "code",
   "execution_count": 2,
   "id": "99fe773b-aad8-4fc5-8231-2378701b9b67",
   "metadata": {},
   "outputs": [
    {
     "name": "stdout",
     "output_type": "stream",
     "text": [
      "False\n"
     ]
    }
   ],
   "source": [
    "arr_int=[[0,30],[5,10],[15,20]]\n",
    "print(meeting_Intervals(arr_int))"
   ]
  },
  {
   "cell_type": "markdown",
   "id": "d767e3dd-b397-4e4e-baf5-c81497326a50",
   "metadata": {},
   "source": [
    "Q1"
   ]
  },
  {
   "cell_type": "code",
   "execution_count": 3,
   "id": "ad024f7d-3ef7-4013-ad09-f4b9d0dadd81",
   "metadata": {},
   "outputs": [],
   "source": [
    "def closest_sum(arr, x) :\n",
    " \n",
    "    arr.sort();\n",
    "    closest = 100000 # taking a very large number\n",
    "    for i in range(len(arr)-2) :\n",
    "        ptr1 = i + 1; \n",
    "        ptr2 = len(arr) - 1\n",
    " \n",
    "        while (ptr1 < ptr2) :\n",
    " \n",
    "            sum = arr[i] + arr[ptr1] + arr[ptr2]\n",
    "            \n",
    "            if (sum > x) :\n",
    "                ptr2 -= 1\n",
    "            else :\n",
    "                ptr1 += 1\n",
    "\n",
    "            if (abs(x - sum) < abs(x - closest)) :\n",
    "                closest = sum\n",
    "\n",
    "    return closest;"
   ]
  },
  {
   "cell_type": "code",
   "execution_count": 4,
   "id": "5dd58205-a0d2-4dcb-b3d8-2f935ffd5798",
   "metadata": {},
   "outputs": [
    {
     "name": "stdout",
     "output_type": "stream",
     "text": [
      "2\n"
     ]
    }
   ],
   "source": [
    "arr = [ -1, 2, 1, -4 ];\n",
    "x = 1;\n",
    "print(closest_sum(arr, x))"
   ]
  },
  {
   "cell_type": "markdown",
   "id": "67ed8749-b04c-4ffc-8c8e-0550a9a842eb",
   "metadata": {},
   "source": [
    "Q2"
   ]
  },
  {
   "cell_type": "code",
   "execution_count": 5,
   "id": "6a003cfd-6a57-4a02-8bb3-09077a354881",
   "metadata": {},
   "outputs": [],
   "source": [
    "def quadsumTarget(nums, target):\n",
    "    # we are using 4 pointers i,j,k,l\n",
    "    quad = []\n",
    "    if len(nums) < 4:\n",
    "        return quad\n",
    "    nums.sort() # first sort the array\n",
    "    n = len(nums)\n",
    "    for i in range(0, n - 3):\n",
    "        if nums[i] == nums[i - 1]:\n",
    "            continue\n",
    "        for j in range(i + 1, n - 2):\n",
    "            if j != i + 1 and nums[j] == nums[j - 1]:\n",
    "                continue\n",
    "            k = j + 1\n",
    "            l = n - 1\n",
    "            while k < l:\n",
    "                sum = nums[i] + nums[j] + nums[k] + nums[l]\n",
    "                if sum < target:\n",
    "                    k += 1\n",
    "                elif sum > target:\n",
    "                    l -= 1\n",
    "                else:\n",
    "                    quad.append([nums[i], nums[j], nums[k], nums[l]])\n",
    "                    k += 1\n",
    "                    l -= 1\n",
    "                    while k < l and nums[k] == nums[k - 1]:\n",
    "                        k += 1\n",
    "                    while k < l and nums[l] == nums[l + 1]:\n",
    "                        l -= 1\n",
    "    return quad"
   ]
  },
  {
   "cell_type": "code",
   "execution_count": 6,
   "id": "0080a43a-9598-4c37-a967-08607ad3fe08",
   "metadata": {},
   "outputs": [
    {
     "name": "stdout",
     "output_type": "stream",
     "text": [
      "[[-2, -1, 1, 2], [-2, 0, 0, 2], [-1, 0, 0, 1]]\n"
     ]
    }
   ],
   "source": [
    "arr = [1,0,-1,0,-2,2]\n",
    "target=0\n",
    "print(quadsumTarget(arr,target))"
   ]
  },
  {
   "cell_type": "markdown",
   "id": "b59274eb-a24c-447f-abff-79046cf13904",
   "metadata": {},
   "source": [
    "Q4"
   ]
  },
  {
   "cell_type": "code",
   "execution_count": 16,
   "id": "89bbb1ef-bbfc-4122-81b1-3e67e4875354",
   "metadata": {},
   "outputs": [],
   "source": [
    "# we have to write an algorithm with O(log n) runtime complexity so binary Search\n",
    "def binSearch(arr, target):\n",
    "    i = 0\n",
    "    j = len(arr) - 1\n",
    "\n",
    "    while i <= j:\n",
    "        mid = (i + j) // 2\n",
    "\n",
    "        if arr[mid] == target:\n",
    "            return mid\n",
    "        elif arr[mid] < target:\n",
    "            i = mid + 1\n",
    "        else:\n",
    "            j = mid - 1\n",
    "\n",
    "    return i"
   ]
  },
  {
   "cell_type": "code",
   "execution_count": 17,
   "id": "f795258a-e6be-4e47-b57c-77a19f0a8988",
   "metadata": {},
   "outputs": [
    {
     "name": "stdout",
     "output_type": "stream",
     "text": [
      "2\n"
     ]
    }
   ],
   "source": [
    "arr = [1,3,5,6]\n",
    "target=5\n",
    "print(binSearch(arr,target))"
   ]
  },
  {
   "cell_type": "markdown",
   "id": "562c7eb4-e127-4c73-bbaf-07b20348229a",
   "metadata": {},
   "source": [
    "Q6"
   ]
  },
  {
   "cell_type": "code",
   "execution_count": 12,
   "id": "94b3df1f-ae81-4276-ac0e-a046a5741975",
   "metadata": {},
   "outputs": [],
   "source": [
    "def getsingleElement(arr):\n",
    "    arr.sort()\n",
    "    n=len(arr)\n",
    "    dictFrequency = {}\n",
    "    for i in range(n):\n",
    "        if arr[i] in dictFrequency:\n",
    "            dictFrequency[arr[i]] += 1\n",
    "        else:\n",
    "            dictFrequency[arr[i]] = 1\n",
    "    for key, value in dictFrequency.items():\n",
    "        if value == 1:\n",
    "            return key"
   ]
  },
  {
   "cell_type": "code",
   "execution_count": 13,
   "id": "4c4b71b7-f6a2-4bec-87a6-2e9efa7e1dbc",
   "metadata": {},
   "outputs": [
    {
     "name": "stdout",
     "output_type": "stream",
     "text": [
      "2\n"
     ]
    }
   ],
   "source": [
    "arr = [2, 3, 5, 4, 5, 3, 4]\n",
    "size = len(arr)\n",
    "print(getsingleElement(arr))"
   ]
  },
  {
   "cell_type": "markdown",
   "id": "99c7ca80-d8eb-40f0-9759-44968419a22a",
   "metadata": {},
   "source": [
    "Q7"
   ]
  },
  {
   "cell_type": "code",
   "execution_count": 14,
   "id": "2bd7df94-4291-4212-8414-1c4ccdad573b",
   "metadata": {},
   "outputs": [],
   "source": [
    "def getlistOfRanges(arr,lower,upper):\n",
    "    arr.sort()\n",
    "    if arr[0]> lower:\n",
    "        arr.insert(lower,0)\n",
    "    if arr[-1]<upper:\n",
    "        arr.append(upper)\n",
    "    n=len(arr)\n",
    "    res=[]\n",
    "    print(arr, n)\n",
    "    for i in range(0,n-1):\n",
    "        if (arr[i+1] == arr[i]+1):\n",
    "            continue\n",
    "        else:\n",
    "            if i==n-2:\n",
    "                res.append([arr[i]+1, arr[i+1]])\n",
    "            else:\n",
    "                 res.append([arr[i]+1, arr[i+1]-1])\n",
    "    return res"
   ]
  },
  {
   "cell_type": "code",
   "execution_count": 15,
   "id": "375ebcb4-659a-4772-9cae-d02661243355",
   "metadata": {},
   "outputs": [
    {
     "name": "stdout",
     "output_type": "stream",
     "text": [
      "[0, 1, 3, 50, 75, 99] 6\n",
      "[[2, 2], [4, 49], [51, 74], [76, 99]]\n"
     ]
    }
   ],
   "source": [
    "lower = 0\n",
    "upper = 99\n",
    "print(getlistOfRanges([0,1,3,50,75],lower,upper))"
   ]
  },
  {
   "cell_type": "code",
   "execution_count": null,
   "id": "1554a841-80f2-4edc-aad5-8efd2f5ad1b2",
   "metadata": {},
   "outputs": [],
   "source": []
  }
 ],
 "metadata": {
  "kernelspec": {
   "display_name": "Python 3 (ipykernel)",
   "language": "python",
   "name": "python3"
  },
  "language_info": {
   "codemirror_mode": {
    "name": "ipython",
    "version": 3
   },
   "file_extension": ".py",
   "mimetype": "text/x-python",
   "name": "python",
   "nbconvert_exporter": "python",
   "pygments_lexer": "ipython3",
   "version": "3.10.9"
  }
 },
 "nbformat": 4,
 "nbformat_minor": 5
}
