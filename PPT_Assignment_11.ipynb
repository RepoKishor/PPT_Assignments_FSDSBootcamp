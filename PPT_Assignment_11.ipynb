{
 "cells": [
  {
   "cell_type": "markdown",
   "id": "1ba4fadf-8a91-46a1-aca3-e6c0249c2714",
   "metadata": {},
   "source": [
    "Q1 Given a non-negative integer x, return the square root of x rounded down to the nearest integer."
   ]
  },
  {
   "cell_type": "code",
   "execution_count": 10,
   "id": "5835c6f3-686f-4d3a-a434-5397610fd93a",
   "metadata": {},
   "outputs": [],
   "source": [
    "def squareRoot(n):\n",
    "        \n",
    "    if (n == 0 or n == 1):\n",
    "        return n\n",
    "    start = 1\n",
    "    end = n//2\n",
    "    while (start <= end):\n",
    "        mid = (start + end) // 2\n",
    "        #print('mid', mid)\n",
    "        if (mid*mid == n):\n",
    "            return mid\n",
    "\n",
    "        if (mid * mid < n):\n",
    "            start = mid + 1\n",
    "            ans = mid\n",
    "            #print('ans',ans)\n",
    "        else:\n",
    "            end = mid-1\n",
    " \n",
    "    return ans"
   ]
  },
  {
   "cell_type": "code",
   "execution_count": 11,
   "id": "94dee743-cc5b-4068-82c4-b2633a3c2abd",
   "metadata": {},
   "outputs": [
    {
     "name": "stdout",
     "output_type": "stream",
     "text": [
      "5\n"
     ]
    }
   ],
   "source": [
    "print(squareRoot(25))"
   ]
  },
  {
   "cell_type": "markdown",
   "id": "aa092934-3d3b-44f8-905f-0ee55e89eb45",
   "metadata": {},
   "source": [
    "Q2. "
   ]
  },
  {
   "cell_type": "code",
   "execution_count": 27,
   "id": "fd439fb9-74f2-42e9-a5d8-43c30bbc46df",
   "metadata": {},
   "outputs": [],
   "source": [
    "def peakNeighbour(arr, low, high, n):\n",
    "\n",
    "    mid = low + (high - low)/2\n",
    "    mid = int(mid)\n",
    "    #print(mid)\n",
    "    if ((mid == 0 or arr[mid - 1] <= arr[mid]) and\n",
    "        (mid == n - 1 or arr[mid + 1] <= arr[mid])):\n",
    "        return mid\n",
    "    else:\n",
    "        return peakNeighbour(arr, (mid + 1), high, n) "
   ]
  },
  {
   "cell_type": "code",
   "execution_count": 28,
   "id": "c8d7f594-3dde-4abf-9152-75b937772e2f",
   "metadata": {},
   "outputs": [
    {
     "name": "stdout",
     "output_type": "stream",
     "text": [
      "5\n"
     ]
    }
   ],
   "source": [
    "arr = [1,2,1,3,5,6,4]\n",
    "n = len(arr)\n",
    "print(peakNeighbour(arr,0,n-1,n))"
   ]
  },
  {
   "cell_type": "markdown",
   "id": "d0768afa-149e-43aa-b285-983c3e442606",
   "metadata": {},
   "source": [
    "Q3. Given an array nums containing n distinct numbers in the range [0, n], return the only number in the range that is missing from the array."
   ]
  },
  {
   "cell_type": "code",
   "execution_count": 37,
   "id": "1d752c75-8b7c-4ecc-8f87-41516e0d2f4a",
   "metadata": {},
   "outputs": [],
   "source": [
    "def getMissingnumber(arr,n):\n",
    "    for i in range(1,n+1):\n",
    "        if i not in arr:\n",
    "            return i"
   ]
  },
  {
   "cell_type": "code",
   "execution_count": 39,
   "id": "d6fda644-0a45-4581-b69b-2d2911da4e2e",
   "metadata": {},
   "outputs": [
    {
     "name": "stdout",
     "output_type": "stream",
     "text": [
      "2\n"
     ]
    }
   ],
   "source": [
    "nums = [3,0,1]\n",
    "print(getMissingnumber(nums,len(nums)))"
   ]
  },
  {
   "cell_type": "markdown",
   "id": "5f78d5c1-2916-4df4-9bb8-0d6f3caf14b6",
   "metadata": {},
   "source": [
    "Q4. Given an array of integers `nums` containing `n + 1` integers where each integer is in the range `[1, n]` inclusive.\n",
    "\n",
    "There is only one repeated number in `nums`, return this repeated number."
   ]
  },
  {
   "cell_type": "code",
   "execution_count": 40,
   "id": "973dabaf-083a-4f44-8040-856bb0d41ffe",
   "metadata": {},
   "outputs": [],
   "source": [
    "def repeatedNumber(arr, n):\n",
    "    for i in range(n):\n",
    "        for j in range(i + 1, n):\n",
    "            if (arr[i] == arr[j]):\n",
    "                return arr[i]"
   ]
  },
  {
   "cell_type": "code",
   "execution_count": 42,
   "id": "a8dbaa10-0eb0-499e-bf7e-47c31f473560",
   "metadata": {},
   "outputs": [
    {
     "name": "stdout",
     "output_type": "stream",
     "text": [
      "3\n"
     ]
    }
   ],
   "source": [
    "nums = [3,1,3,4,2]\n",
    "n=len(nums)\n",
    "print(repeatedNumber(nums,n))"
   ]
  },
  {
   "cell_type": "markdown",
   "id": "82cc0b1d-cb20-41e0-906a-8ad37a86fb57",
   "metadata": {},
   "source": [
    "Q5. Given two integer arrays nums1 and nums2, return an array of their intersection. Each element in the result must be unique and you may return the result in any order"
   ]
  },
  {
   "cell_type": "code",
   "execution_count": 43,
   "id": "ff6912f5-ce88-4fcf-a4f3-992f6d98cb5e",
   "metadata": {},
   "outputs": [],
   "source": [
    "def intersection(arr1, arr2):\n",
    "    set1 = set(arr1)\n",
    "    set2 = set(arr2)\n",
    "    return list(set1.intersection(set2))"
   ]
  },
  {
   "cell_type": "code",
   "execution_count": 44,
   "id": "04677bee-acd3-4099-8dc1-a38caf29c9d0",
   "metadata": {},
   "outputs": [
    {
     "name": "stdout",
     "output_type": "stream",
     "text": [
      "[2]\n"
     ]
    }
   ],
   "source": [
    "arr1 = [1,2,2,1] \n",
    "arr2 = [2,2]\n",
    "print(intersection(arr1,arr2))"
   ]
  },
  {
   "cell_type": "markdown",
   "id": "d1531cdd-4741-438f-ab2b-1eb0ccc64176",
   "metadata": {},
   "source": [
    "Q7.Given an array of integers nums sorted in non-decreasing order, find the starting and ending position of a given target value"
   ]
  },
  {
   "cell_type": "code",
   "execution_count": 54,
   "id": "03369f77-f753-44f0-9abb-740818620618",
   "metadata": {},
   "outputs": [],
   "source": [
    "def binary_search(arr, low, high, x):\n",
    "\n",
    "    if high >= low:\n",
    "\n",
    "        mid = (high + low) // 2\n",
    "        if arr[mid] == x:\n",
    "            return [mid-1,mid]\n",
    "        elif arr[mid] > x:\n",
    "            return binary_search(arr, low, mid - 1, x)\n",
    "        else:\n",
    "            return binary_search(arr, mid + 1, high, x)\n",
    "\n",
    "    else:\n",
    "        return [-1,-1]\n"
   ]
  },
  {
   "cell_type": "code",
   "execution_count": 55,
   "id": "49bcc2eb-9e48-437e-b726-d0d456a2d185",
   "metadata": {},
   "outputs": [
    {
     "data": {
      "text/plain": [
       "[1, 2]"
      ]
     },
     "execution_count": 55,
     "metadata": {},
     "output_type": "execute_result"
    }
   ],
   "source": [
    "nums = [5,7,7,6,6,10]\n",
    "target = 7\n",
    "low=0\n",
    "high=len(nums)-1\n",
    "binary_search(nums,low,high,target)"
   ]
  },
  {
   "cell_type": "markdown",
   "id": "5c6ba23f-0e9c-4eb4-a5ae-f900233880e8",
   "metadata": {},
   "source": [
    "Q8. Given two integer arrays nums1 and nums2, return an array of their intersection. Each element in the result must appear as many times as it shows in both arrays and you may return the result in any order."
   ]
  },
  {
   "cell_type": "code",
   "execution_count": 56,
   "id": "86cfb4f6-ef6e-4c4b-a168-57f43dccf328",
   "metadata": {},
   "outputs": [],
   "source": [
    "def intersection(arr1, arr2):\n",
    "    set1 = set(arr1)\n",
    "    set2 = set(arr2)\n",
    "    return list(set1.intersection(set2))"
   ]
  },
  {
   "cell_type": "code",
   "execution_count": 57,
   "id": "7c0a7b44-fec8-4de7-be54-6111dffb976a",
   "metadata": {},
   "outputs": [
    {
     "name": "stdout",
     "output_type": "stream",
     "text": [
      "[9, 4]\n"
     ]
    }
   ],
   "source": [
    "arr1 =[4,9,5] \n",
    "arr2 = [9,4,9,8,4]\n",
    "print(intersection(arr1,arr2))"
   ]
  },
  {
   "cell_type": "code",
   "execution_count": null,
   "id": "e0908af2-8f7a-4e15-8c1c-58bd03b16827",
   "metadata": {},
   "outputs": [],
   "source": []
  }
 ],
 "metadata": {
  "kernelspec": {
   "display_name": "Python 3 (ipykernel)",
   "language": "python",
   "name": "python3"
  },
  "language_info": {
   "codemirror_mode": {
    "name": "ipython",
    "version": 3
   },
   "file_extension": ".py",
   "mimetype": "text/x-python",
   "name": "python",
   "nbconvert_exporter": "python",
   "pygments_lexer": "ipython3",
   "version": "3.10.9"
  }
 },
 "nbformat": 4,
 "nbformat_minor": 5
}
