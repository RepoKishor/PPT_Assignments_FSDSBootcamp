{
 "cells": [
  {
   "cell_type": "markdown",
   "id": "12dbf5df-577c-442c-9db5-b0aaf728431b",
   "metadata": {},
   "source": [
    "Q1. Using recursion Given an integer n, return true if it is a power of two. "
   ]
  },
  {
   "cell_type": "code",
   "execution_count": 1,
   "id": "d2fb55f4-2c22-4769-9f36-1b1d2ab9afef",
   "metadata": {},
   "outputs": [],
   "source": [
    "def poweroftwo(n):\n",
    " \n",
    "    if n == 1:\n",
    "        return True\n",
    "    elif n % 2 != 0 or n == 0:\n",
    "        return False\n",
    "\n",
    "    return poweroftwo(n/2)"
   ]
  },
  {
   "cell_type": "code",
   "execution_count": 3,
   "id": "8cf521ac-91a8-442f-bc67-71e6e8a4eeee",
   "metadata": {},
   "outputs": [
    {
     "data": {
      "text/plain": [
       "False"
      ]
     },
     "execution_count": 3,
     "metadata": {},
     "output_type": "execute_result"
    }
   ],
   "source": [
    "poweroftwo(10)"
   ]
  },
  {
   "cell_type": "code",
   "execution_count": 4,
   "id": "4bf5aefc-415e-4423-ac25-9d4cac3373d5",
   "metadata": {},
   "outputs": [
    {
     "data": {
      "text/plain": [
       "True"
      ]
     },
     "execution_count": 4,
     "metadata": {},
     "output_type": "execute_result"
    }
   ],
   "source": [
    "poweroftwo(32)"
   ]
  },
  {
   "cell_type": "markdown",
   "id": "cb5f79ae-397e-4246-b543-06426a2aa5ff",
   "metadata": {},
   "source": [
    "Q2. Sum of n natural numbers"
   ]
  },
  {
   "cell_type": "code",
   "execution_count": 8,
   "id": "6eb48bae-71e8-4d80-8903-ba996283c709",
   "metadata": {},
   "outputs": [],
   "source": [
    "# to check use the formula n(n+1)/2\n",
    "def recursionSumofNaturalNumbers(n):\n",
    "    if n==1:\n",
    "        return n\n",
    "    else:\n",
    "        return n+ recursionSumofNaturalNumbers(n-1)"
   ]
  },
  {
   "cell_type": "code",
   "execution_count": 9,
   "id": "58787222-1936-478b-9ddc-da455ae56d77",
   "metadata": {},
   "outputs": [
    {
     "data": {
      "text/plain": [
       "15"
      ]
     },
     "execution_count": 9,
     "metadata": {},
     "output_type": "execute_result"
    }
   ],
   "source": [
    "recursionSumofNaturalNumbers(5)"
   ]
  },
  {
   "cell_type": "markdown",
   "id": "3f92e7e7-846a-446c-8611-2224383835f4",
   "metadata": {},
   "source": [
    "Q3 Factorial of a number using recursion"
   ]
  },
  {
   "cell_type": "code",
   "execution_count": 2,
   "id": "6e4c3dda-98aa-4f3f-807c-5e5fe7137dc7",
   "metadata": {},
   "outputs": [],
   "source": [
    "def recursionFactorial(n):\n",
    "    if n<=1:\n",
    "        return n\n",
    "    else:\n",
    "        return n * recursionFactorial(n-1)"
   ]
  },
  {
   "cell_type": "code",
   "execution_count": 4,
   "id": "70c2e428-5a05-4c90-883e-9fb3049c43e0",
   "metadata": {},
   "outputs": [
    {
     "data": {
      "text/plain": [
       "24"
      ]
     },
     "execution_count": 4,
     "metadata": {},
     "output_type": "execute_result"
    }
   ],
   "source": [
    "recursionFactorial(4)"
   ]
  },
  {
   "cell_type": "code",
   "execution_count": 5,
   "id": "e41ef3dd-84e1-4e09-b3e5-14039ef8a8ce",
   "metadata": {},
   "outputs": [
    {
     "data": {
      "text/plain": [
       "0"
      ]
     },
     "execution_count": 5,
     "metadata": {},
     "output_type": "execute_result"
    }
   ],
   "source": [
    "recursionFactorial(0)"
   ]
  },
  {
   "cell_type": "markdown",
   "id": "94d5ad24-db2c-439d-aa9a-2bb57b9db60f",
   "metadata": {},
   "source": [
    "Q4. Given a number N and a power P, the task is to find the exponent of this number raised to the given power, i.e. N^P."
   ]
  },
  {
   "cell_type": "code",
   "execution_count": 10,
   "id": "ab2e7251-0bc0-43fa-8fad-bd52a44ee3e0",
   "metadata": {},
   "outputs": [],
   "source": [
    "def exponent(N, P):\n",
    "    if P == 0:\n",
    "        return 1\n",
    "    if P%2 == 0:\n",
    "      res = exponent(N, P//2)\n",
    "      return res * res\n",
    "    else :\n",
    "      res = exponent(N, (P-1)//2)\n",
    "      return N * res * res "
   ]
  },
  {
   "cell_type": "code",
   "execution_count": 11,
   "id": "024ae8aa-df06-42ce-a027-eb9f9e94e399",
   "metadata": {},
   "outputs": [
    {
     "data": {
      "text/plain": [
       "32"
      ]
     },
     "execution_count": 11,
     "metadata": {},
     "output_type": "execute_result"
    }
   ],
   "source": [
    "exponent(2,5)"
   ]
  },
  {
   "cell_type": "code",
   "execution_count": 12,
   "id": "c57b264c-b41f-494c-bebe-97ef8f5dbcfe",
   "metadata": {},
   "outputs": [
    {
     "data": {
      "text/plain": [
       "16"
      ]
     },
     "execution_count": 12,
     "metadata": {},
     "output_type": "execute_result"
    }
   ],
   "source": [
    "exponent(2,4)"
   ]
  },
  {
   "cell_type": "markdown",
   "id": "bac62b7c-b054-4069-ae9f-bc3b44821889",
   "metadata": {},
   "source": [
    "Q5. Given an array of integers arr, the task is to find maximum element."
   ]
  },
  {
   "cell_type": "code",
   "execution_count": 24,
   "id": "8f5d8729-ec45-4c2b-b88f-0a2c655c5a7e",
   "metadata": {},
   "outputs": [],
   "source": [
    "def findMax_recursion(arr,n):\n",
    "    if n>1:\n",
    "        return max(arr[n-1],findMax_recursion(arr,n-1))\n",
    "    else:\n",
    "        return arr[0]"
   ]
  },
  {
   "cell_type": "code",
   "execution_count": 25,
   "id": "03c37fc5-aebb-42e2-af8b-4bdd7633eb12",
   "metadata": {},
   "outputs": [
    {
     "data": {
      "text/plain": [
       "8"
      ]
     },
     "execution_count": 25,
     "metadata": {},
     "output_type": "execute_result"
    }
   ],
   "source": [
    "arr=[1, 4, 3, -5, -4, 8, 6]\n",
    "findMax_recursion(arr,len(arr))"
   ]
  },
  {
   "cell_type": "markdown",
   "id": "6f47974f-65a8-44f5-bcce-afd4a8ec1e0a",
   "metadata": {},
   "source": [
    "Q6. Arithmetic progression series by using recursion"
   ]
  },
  {
   "cell_type": "code",
   "execution_count": 27,
   "id": "177948c8-4a1e-4e70-9e56-1db7093562c1",
   "metadata": {},
   "outputs": [],
   "source": [
    "def nthTermAP(a,d,N):\n",
    "    sum=a\n",
    "    for i in range(1,N):\n",
    "        sum +=d\n",
    "    return sum"
   ]
  },
  {
   "cell_type": "code",
   "execution_count": 30,
   "id": "3835b308-b174-43b6-81d7-cdab4c3d30ff",
   "metadata": {},
   "outputs": [
    {
     "data": {
      "text/plain": [
       "23"
      ]
     },
     "execution_count": 30,
     "metadata": {},
     "output_type": "execute_result"
    }
   ],
   "source": [
    "nthTermAP(5,2,10)"
   ]
  },
  {
   "cell_type": "markdown",
   "id": "e55d9341-b68f-4053-b7d3-a41f6d4c268c",
   "metadata": {},
   "source": [
    "Q7.permutation of string using recursion"
   ]
  },
  {
   "cell_type": "code",
   "execution_count": 43,
   "id": "e0fc7484-bdd3-40b7-85a2-a0985d669dc6",
   "metadata": {},
   "outputs": [],
   "source": [
    "def stringPermutation(s, left, right):\n",
    "    if left == right:\n",
    "        print(\"\".join(s))\n",
    "    else:\n",
    "        for i in range(left, right + 1):\n",
    "            s[left], s[i] = s[i], s[left]  \n",
    "            stringPermutation(s, left + 1, right)    \n",
    "            s[left], s[i] = s[i], s[left] \n",
    "   "
   ]
  },
  {
   "cell_type": "code",
   "execution_count": 44,
   "id": "8ed2d888-39fb-4ce7-a1ee-7f141470f945",
   "metadata": {},
   "outputs": [
    {
     "name": "stdout",
     "output_type": "stream",
     "text": [
      "XY\n",
      "YX\n",
      "None\n"
     ]
    }
   ],
   "source": [
    "S='XY'\n",
    "st = list(S)\n",
    "n = len(st)\n",
    "print(stringPermutation(st, 0, n - 1))"
   ]
  },
  {
   "cell_type": "markdown",
   "id": "7003c083-a51a-4f04-9fef-12059479dc1c",
   "metadata": {},
   "source": [
    "Q8 . Given an array, find a product of all array elements"
   ]
  },
  {
   "cell_type": "code",
   "execution_count": 63,
   "id": "38d1d44e-60bb-4bc8-991d-62e7a0617069",
   "metadata": {},
   "outputs": [],
   "source": [
    "def prod_arr(a, n):     \n",
    "    if n == 0:\n",
    "        return(a[n])\n",
    "    else:\n",
    "        return (a[n] * prod_arr(a, n - 1))"
   ]
  },
  {
   "cell_type": "code",
   "execution_count": 64,
   "id": "7147764f-4879-4c64-b651-66f0ab1d812b",
   "metadata": {},
   "outputs": [
    {
     "data": {
      "text/plain": [
       "120"
      ]
     },
     "execution_count": 64,
     "metadata": {},
     "output_type": "execute_result"
    }
   ],
   "source": [
    "arr=[1, 2, 3, 4, 5]\n",
    "n=len(arr)\n",
    "prod_arr(arr,n-1)"
   ]
  },
  {
   "cell_type": "code",
   "execution_count": null,
   "id": "cfa30640-f9f4-4a27-8a3a-a0c6fe8fe7e6",
   "metadata": {},
   "outputs": [],
   "source": []
  }
 ],
 "metadata": {
  "kernelspec": {
   "display_name": "Python 3 (ipykernel)",
   "language": "python",
   "name": "python3"
  },
  "language_info": {
   "codemirror_mode": {
    "name": "ipython",
    "version": 3
   },
   "file_extension": ".py",
   "mimetype": "text/x-python",
   "name": "python",
   "nbconvert_exporter": "python",
   "pygments_lexer": "ipython3",
   "version": "3.10.9"
  }
 },
 "nbformat": 4,
 "nbformat_minor": 5
}
