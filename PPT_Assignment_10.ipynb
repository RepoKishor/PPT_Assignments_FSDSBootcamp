{
 "cells": [
  {
   "cell_type": "markdown",
   "id": "c3ea9714-8308-4e55-b8eb-742451553dde",
   "metadata": {},
   "source": [
    "Q1. Given an integer n, return true if it is a power of three. Otherwise, return false"
   ]
  },
  {
   "cell_type": "code",
   "execution_count": 1,
   "id": "04654bef-e25c-45b3-aecd-c79b608e9630",
   "metadata": {},
   "outputs": [],
   "source": [
    "def powerofthree(n):\n",
    " \n",
    "    if n == 1:\n",
    "        return True\n",
    "    elif n % 3 != 0 or n == 0:\n",
    "        return False\n",
    "\n",
    "    return powerofthree(n/3)"
   ]
  },
  {
   "cell_type": "code",
   "execution_count": 2,
   "id": "6376beda-2862-413f-806e-651b872c83b5",
   "metadata": {},
   "outputs": [
    {
     "data": {
      "text/plain": [
       "False"
      ]
     },
     "execution_count": 2,
     "metadata": {},
     "output_type": "execute_result"
    }
   ],
   "source": [
    "powerofthree(15)"
   ]
  },
  {
   "cell_type": "code",
   "execution_count": 3,
   "id": "3be9b92c-a24f-42ad-bad2-51af33bca77a",
   "metadata": {},
   "outputs": [
    {
     "data": {
      "text/plain": [
       "True"
      ]
     },
     "execution_count": 3,
     "metadata": {},
     "output_type": "execute_result"
    }
   ],
   "source": [
    "powerofthree(27)"
   ]
  },
  {
   "cell_type": "markdown",
   "id": "3c146a90-3efc-4f2c-8e99-ae4ac9b26a8b",
   "metadata": {},
   "source": [
    "Q3. print all subsets using recursion"
   ]
  },
  {
   "cell_type": "code",
   "execution_count": 4,
   "id": "b8ca4e60-95f0-4ddb-85ad-fd1a22c3c27a",
   "metadata": {},
   "outputs": [],
   "source": [
    "def createsubsets(s, subset, index):\n",
    "    if index == len(s):\n",
    "        print(\"{\" + \", \".join(subset) + \"}\")\n",
    "        return\n",
    "    \n",
    "    createsubsets(s, subset, index + 1)\n",
    "    subset.append(s[index])\n",
    "    createsubsets(s, subset, index + 1)\n",
    "    subset.pop()"
   ]
  },
  {
   "cell_type": "code",
   "execution_count": 5,
   "id": "8c5c55b8-5fe8-4975-931b-83dcde657267",
   "metadata": {},
   "outputs": [
    {
     "name": "stdout",
     "output_type": "stream",
     "text": [
      "{}\n",
      "{c}\n",
      "{b}\n",
      "{b, c}\n",
      "{a}\n",
      "{a, c}\n",
      "{a, b}\n",
      "{a, b, c}\n"
     ]
    }
   ],
   "source": [
    "s =\"abc\"\n",
    "arr = [char for char in s]\n",
    "subset=[]\n",
    "createsubsets(arr, subset, 0)"
   ]
  },
  {
   "cell_type": "markdown",
   "id": "ba29d400-a683-4791-869f-e1ed03d15b37",
   "metadata": {},
   "source": [
    "Q4. Given a string calculate length of the string using recursion."
   ]
  },
  {
   "cell_type": "code",
   "execution_count": 3,
   "id": "a3107a69-8523-41be-96f1-50bfbc1d04bd",
   "metadata": {},
   "outputs": [],
   "source": [
    "def lenofstr_recursion(str) :     \n",
    "    if str == '':\n",
    "        return 0\n",
    "    else :\n",
    "        return 1 + lenofstr_recursion(str[1:])"
   ]
  },
  {
   "cell_type": "code",
   "execution_count": 4,
   "id": "4341d163-1a75-4b1c-a228-39a90b993893",
   "metadata": {},
   "outputs": [
    {
     "name": "stdout",
     "output_type": "stream",
     "text": [
      "3\n"
     ]
    }
   ],
   "source": [
    "print(lenofstr_recursion(\"abc\"))"
   ]
  },
  {
   "cell_type": "markdown",
   "id": "6ae2f7c5-bee8-4781-bea7-66e3b2e0c1dd",
   "metadata": {},
   "source": [
    "Q7. Given a string str, the task is to print all the permutations of str"
   ]
  },
  {
   "cell_type": "code",
   "execution_count": 5,
   "id": "cc527702-35ed-452d-a8ae-980b89ecc815",
   "metadata": {},
   "outputs": [],
   "source": [
    "def permutations(s, l, r):\n",
    "    if l == r:\n",
    "        print(\"\".join(s))\n",
    "    else:\n",
    "        for i in range(l, r + 1):\n",
    "            s[l], s[i] = s[i], s[l]  \n",
    "            permutations(s, l + 1, r)  \n",
    "            s[l], s[i] = s[i], s[l]  "
   ]
  },
  {
   "cell_type": "code",
   "execution_count": 6,
   "id": "eacd967c-3282-418f-bc2b-fd3e225c4300",
   "metadata": {},
   "outputs": [
    {
     "name": "stdout",
     "output_type": "stream",
     "text": [
      "abc\n",
      "acb\n",
      "bac\n",
      "bca\n",
      "cba\n",
      "cab\n"
     ]
    }
   ],
   "source": [
    "s = \"abc\"\n",
    "n=len(s)\n",
    "arr=list(s)\n",
    "permutations(arr,0,n-1)"
   ]
  },
  {
   "cell_type": "markdown",
   "id": "fdaf386b-911f-464d-aff9-06a0397fe3c0",
   "metadata": {},
   "source": [
    "Q8. Given a string, count total number of consonants in it."
   ]
  },
  {
   "cell_type": "code",
   "execution_count": 18,
   "id": "af750bf3-629e-4c27-887a-91d19b29ad45",
   "metadata": {},
   "outputs": [],
   "source": [
    "def countConsonants(str, vowels):\n",
    "    final = [char for char in str if char not in vowels]\n",
    "    print(\"No of consonants:\",len(final))"
   ]
  },
  {
   "cell_type": "code",
   "execution_count": 19,
   "id": "5ace06a9-7ea0-4625-bfdd-f1e223dba30c",
   "metadata": {},
   "outputs": [
    {
     "name": "stdout",
     "output_type": "stream",
     "text": [
      "No of consonants: 4\n"
     ]
    }
   ],
   "source": [
    "str = \"abc de\"\n",
    "vowels = \"AaEeIiOoUu\"\n",
    "countConsonants(str, vowels)"
   ]
  },
  {
   "cell_type": "code",
   "execution_count": 20,
   "id": "b6552e0c-a7a0-4135-997b-d3e722ea291b",
   "metadata": {},
   "outputs": [
    {
     "name": "stdout",
     "output_type": "stream",
     "text": [
      "No of consonants: 13\n"
     ]
    }
   ],
   "source": [
    "str = \"geeksforgeeks portal\"\n",
    "vowels = \"AaEeIiOoUu\"\n",
    "countConsonants(str.strip(), vowels)"
   ]
  },
  {
   "cell_type": "code",
   "execution_count": null,
   "id": "31d4bbe6-9720-4d10-a691-c0ab26bac82e",
   "metadata": {},
   "outputs": [],
   "source": []
  }
 ],
 "metadata": {
  "kernelspec": {
   "display_name": "Python 3 (ipykernel)",
   "language": "python",
   "name": "python3"
  },
  "language_info": {
   "codemirror_mode": {
    "name": "ipython",
    "version": 3
   },
   "file_extension": ".py",
   "mimetype": "text/x-python",
   "name": "python",
   "nbconvert_exporter": "python",
   "pygments_lexer": "ipython3",
   "version": "3.10.9"
  }
 },
 "nbformat": 4,
 "nbformat_minor": 5
}
