{
 "cells": [
  {
   "cell_type": "markdown",
   "id": "a5b62bbb-f6e3-4144-b6a0-d3ccace41dce",
   "metadata": {},
   "source": [
    "## Q1 Given an array, for each element find the value of the nearest element to the right which is having a frequency greater than that of the current element. If there does not exist an answer for a position, then make the value ‘-1’."
   ]
  },
  {
   "cell_type": "code",
   "execution_count": 2,
   "id": "1af14661-49b3-47ab-a6ba-dc18582c59f3",
   "metadata": {},
   "outputs": [
    {
     "name": "stdout",
     "output_type": "stream",
     "text": [
      "[-1, -1, 1, 2, 2, 1, -1]\n"
     ]
    }
   ],
   "source": [
    "from collections import Counter\n",
    "\n",
    "def find_nearest_element_with_higher_frequency(arr):\n",
    "    freq_dict = Counter(arr)  \n",
    "    stack = []  \n",
    "    result = [-1] * len(arr)  \n",
    "    \n",
    "    for i in range(len(arr)-1, -1, -1):\n",
    "        while stack and freq_dict[arr[i]] >= freq_dict[stack[-1]]:\n",
    "            stack.pop()  \n",
    "        if stack:\n",
    "            result[i] = stack[-1]  \n",
    "        stack.append(arr[i])  \n",
    "        \n",
    "    return result\n",
    "\n",
    "\n",
    "arr = [1, 1, 2, 3, 4, 2, 1]\n",
    "result = find_nearest_element_with_higher_frequency(arr)\n",
    "print(result)\n"
   ]
  },
  {
   "cell_type": "markdown",
   "id": "d704969a-537c-4aea-8736-4181b0801e94",
   "metadata": {},
   "source": [
    "## Q2 Given a stack of integers, sort it in ascending order using another temporary stack."
   ]
  },
  {
   "cell_type": "code",
   "execution_count": 9,
   "id": "01fda418-5f85-467f-9b6d-98242634cd83",
   "metadata": {},
   "outputs": [
    {
     "name": "stdout",
     "output_type": "stream",
     "text": [
      "[3, 23, 31, 34, 92, 98]\n"
     ]
    }
   ],
   "source": [
    "def ascendingsortStack(stack):\n",
    "    stack1 = []  \n",
    "    \n",
    "    while stack:\n",
    "        temp = stack.pop()  \n",
    "        while stack1 and stack1[-1] > temp:\n",
    "            stack.append(stack1.pop())\n",
    "        \n",
    "        stack1.append(temp)      \n",
    "    return stack1  \n",
    "\n",
    "\n",
    "stack = [34, 3, 31, 98, 92, 23]\n",
    "sorted_stack = ascendingsortStack(stack)\n",
    "print(sorted_stack)\n"
   ]
  },
  {
   "cell_type": "markdown",
   "id": "a60295a1-21c3-4609-802e-75eb28b1a67f",
   "metadata": {},
   "source": [
    "## Q3 Given a stack with push(), pop(), and empty() operations, The task is to delete the middle element of it without using any additional data structure"
   ]
  },
  {
   "cell_type": "code",
   "execution_count": 19,
   "id": "419967ab-b8b9-44d0-85d5-d709ab6f1ca3",
   "metadata": {},
   "outputs": [
    {
     "name": "stdout",
     "output_type": "stream",
     "text": [
      "[1, 2, 4, 5, 6]\n"
     ]
    }
   ],
   "source": [
    "def delete_middle(stack, k):\n",
    "    if k == 1:\n",
    "        stack.pop()\n",
    "        return stack\n",
    "    temp = stack.pop()\n",
    "    #print('temp',temp)\n",
    "    delete_middle(stack, k - 1)\n",
    "    stack.append(temp)\n",
    "    #print('stack',stack)\n",
    "\n",
    "    return stack\n",
    "\n",
    "stack = [1, 2, 3, 4, 5, 6]\n",
    "mid = len(stack) // 2 + 1\n",
    "stack = delete_middle(stack,mid)\n",
    "print(stack)"
   ]
  },
  {
   "cell_type": "markdown",
   "id": "4ea6c907-7e83-495a-bda3-6cada04ae9ac",
   "metadata": {},
   "source": [
    "## Q4"
   ]
  },
  {
   "cell_type": "code",
   "execution_count": 23,
   "id": "8bc92fd5-889a-4634-8968-2de7f9c5d8fb",
   "metadata": {},
   "outputs": [
    {
     "name": "stdout",
     "output_type": "stream",
     "text": [
      "False\n"
     ]
    }
   ],
   "source": [
    "def canbeArranged_increasing(queue):\n",
    "    stack = []\n",
    "    expected_element = 1\n",
    "\n",
    "    while queue:\n",
    "        if queue[0] == expected_element:\n",
    "            queue.pop(0)\n",
    "            expected_element += 1\n",
    "        elif stack and stack[-1] == expected_element:\n",
    "            stack.pop()\n",
    "            expected_element += 1\n",
    "        else:\n",
    "            stack.append(queue.pop(0))\n",
    "\n",
    "    while stack:\n",
    "        if stack[-1] == expected_element:\n",
    "            stack.pop()\n",
    "            expected_element += 1\n",
    "        else:\n",
    "            return False\n",
    "\n",
    "    return True\n",
    "\n",
    "que = [5, 1, 2, 6, 3, 4]\n",
    "canbeArranged = canbeArranged_increasing(que)\n",
    "print(canbeArranged)"
   ]
  },
  {
   "cell_type": "markdown",
   "id": "f249d8a0-8991-4928-8609-79f9c134005b",
   "metadata": {},
   "source": [
    "## Q5 Given a number , write a program to reverse the number using stack."
   ]
  },
  {
   "cell_type": "code",
   "execution_count": 31,
   "id": "6ddaa944-02f1-4627-b9c1-9ba3f0461fd1",
   "metadata": {},
   "outputs": [
    {
     "name": "stdout",
     "output_type": "stream",
     "text": [
      "54321\n"
     ]
    }
   ],
   "source": [
    "def reverse(number):\n",
    "    stack = []\n",
    "    reversed_number = 0\n",
    "\n",
    "    while number > 0:\n",
    "        digit = number % 10\n",
    "        stack.append(digit)\n",
    "        reversed_number = (reversed_number * 10) + digit\n",
    "        number = number // 10\n",
    "        #print(stack)\n",
    "        \n",
    "    return reversed_number\n",
    "\n",
    "\n",
    "number = 12345\n",
    "reversed_number = reverse(number)\n",
    "print(reversed_number)"
   ]
  },
  {
   "cell_type": "markdown",
   "id": "c4603c61-e183-4381-b67e-0c5c4ab2014e",
   "metadata": {},
   "source": [
    "## Q6. Given an integer k and a queue of integers, The task is to reverse the order of the first k elements of the queue, leaving the other elements in the same relative order"
   ]
  },
  {
   "cell_type": "code",
   "execution_count": 14,
   "id": "6b99de1d-38f6-4315-8b9f-d21f9bbbd8b1",
   "metadata": {},
   "outputs": [
    {
     "name": "stdout",
     "output_type": "stream",
     "text": [
      "deque([3, 4, 5, 2])\n",
      "2 1 3 4 5 "
     ]
    }
   ],
   "source": [
    "from collections import deque\n",
    " \n",
    "def kQueue(q, k):\n",
    "    rversefirstK(q, k)\n",
    "    s = len(q) - k\n",
    "    for _ in range(s):\n",
    "        x = q.popleft()\n",
    "        q.append(x)\n",
    "    return q\n",
    " \n",
    "def rversefirstK(q, k):\n",
    "    if k == 0:\n",
    "        return\n",
    "    e = q.popleft()\n",
    "    #print('e',)\n",
    "    solve(q, k - 1)\n",
    "    q.append(e)\n",
    "    #print(q)\n",
    "\n",
    "queue = deque([1,2,3,4,5])\n",
    "k = 2\n",
    "queue = kQueue(queue, k)\n",
    " \n",
    "while queue:\n",
    "    print(queue.popleft(), end=' ')"
   ]
  },
  {
   "cell_type": "markdown",
   "id": "2532c17c-fd95-4d33-bbe2-f99f18fecf3f",
   "metadata": {},
   "source": [
    "## Q7 check if any two similar words come together and then destroy each other then print the number of words left in the sequence after this pairwise destruction"
   ]
  },
  {
   "cell_type": "code",
   "execution_count": 23,
   "id": "b9add4a9-a120-453b-83d1-fc908e8c16c5",
   "metadata": {},
   "outputs": [
    {
     "name": "stdout",
     "output_type": "stream",
     "text": [
      "final stack ['ab', 'bcd', 'ab']\n"
     ]
    }
   ],
   "source": [
    "def removeConsecutiveWords(words):\n",
    "    st = []\n",
    " \n",
    "    for i in range(len(words)):\n",
    "\n",
    "        if (len(st) == 0):\n",
    "            st.append(words[i])\n",
    "            #print('st:',st)\n",
    "        else:\n",
    "            word = st[-1]\n",
    "            #print('Str',word)\n",
    "            if (word == words[i]):\n",
    "                st.pop()\n",
    " \n",
    "            else:\n",
    "                st.append(words[i])\n",
    "                #print('in else st:',st)\n",
    " \n",
    "\n",
    "    return st\n",
    " \n",
    "\n",
    "input = [ \"ab\", \"aa\", \"aa\", \"bcd\", \"ab\"]\n",
    "print('final stack',removeConsecutiveWords(input))"
   ]
  },
  {
   "cell_type": "code",
   "execution_count": null,
   "id": "ff6d8a39-2e26-42ff-98fd-9bdde2803e5d",
   "metadata": {},
   "outputs": [],
   "source": []
  }
 ],
 "metadata": {
  "kernelspec": {
   "display_name": "Python 3 (ipykernel)",
   "language": "python",
   "name": "python3"
  },
  "language_info": {
   "codemirror_mode": {
    "name": "ipython",
    "version": 3
   },
   "file_extension": ".py",
   "mimetype": "text/x-python",
   "name": "python",
   "nbconvert_exporter": "python",
   "pygments_lexer": "ipython3",
   "version": "3.10.9"
  }
 },
 "nbformat": 4,
 "nbformat_minor": 5
}
