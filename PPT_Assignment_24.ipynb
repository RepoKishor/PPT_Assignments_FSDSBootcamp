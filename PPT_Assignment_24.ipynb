{
 "cells": [
  {
   "cell_type": "markdown",
   "id": "0ed9bc14-876e-45c2-8412-56e8117657b7",
   "metadata": {},
   "source": [
    "## Q2"
   ]
  },
  {
   "cell_type": "code",
   "execution_count": 5,
   "id": "a1b58e79-3fca-4c28-91bc-dcd57c106f64",
   "metadata": {},
   "outputs": [
    {
     "name": "stdout",
     "output_type": "stream",
     "text": [
      "The longest substring without repeating characters: 3\n"
     ]
    }
   ],
   "source": [
    "def longest_substring_length(s):\n",
    "    n = len(s)\n",
    "    max_length = 0\n",
    "    start = 0\n",
    "    seen = {}\n",
    "\n",
    "    for end in range(n):\n",
    "        if s[end] in seen and start <= seen[s[end]]:\n",
    "            start = seen[s[end]] + 1\n",
    "        else:\n",
    "            max_length = max(max_length, end - start + 1)\n",
    "        \n",
    "        seen[s[end]] = end\n",
    "\n",
    "    return max_length\n",
    "\n",
    "\n",
    "s = \"pwwkew\"\n",
    "result = longest_substring_length(s)\n",
    "print(\"The longest substring without repeating characters:\", result)\n"
   ]
  },
  {
   "cell_type": "markdown",
   "id": "75441ab6-64e7-4347-aaa4-01decf8759bc",
   "metadata": {},
   "source": [
    "## Q3 Given an array `nums` of size `n`, return the majority element."
   ]
  },
  {
   "cell_type": "code",
   "execution_count": 15,
   "id": "0069df81-318f-4d3e-be64-dcf43c018f50",
   "metadata": {},
   "outputs": [
    {
     "name": "stdout",
     "output_type": "stream",
     "text": [
      "Majority element: 3\n"
     ]
    }
   ],
   "source": [
    "def majority(nums):\n",
    "    count = 0\n",
    "    candidate = None\n",
    "    \n",
    "    for num in nums:\n",
    "        if count == 0:\n",
    "            candidate = num\n",
    "        if num == candidate:\n",
    "            count += 1                \n",
    "\n",
    "    if count>= round(len(nums)/2,0):\n",
    "        return candidate\n",
    "    else:\n",
    "        return None\n",
    "\n",
    "nums = [3,2,3]\n",
    "result = majority(nums)\n",
    "print(\"Majority element:\", result)\n"
   ]
  },
  {
   "cell_type": "markdown",
   "id": "578a703b-a8c7-4ed6-8e48-582d160e2f79",
   "metadata": {},
   "source": [
    "## Q4 Anagram"
   ]
  },
  {
   "cell_type": "code",
   "execution_count": 18,
   "id": "8a21c7d2-ef6e-413b-8c8f-eec9a7c2da38",
   "metadata": {},
   "outputs": [
    {
     "name": "stdout",
     "output_type": "stream",
     "text": [
      "Anagram groups: dict_values([['eat', 'tea', 'ate'], ['tan', 'nat'], ['bat']])\n"
     ]
    }
   ],
   "source": [
    "from collections import defaultdict\n",
    "\n",
    "def groupAnagrams(strs):\n",
    "    anagram_groups = defaultdict(list)\n",
    "    \n",
    "    for word in strs:\n",
    "        sorted_word = ''.join(sorted(word))\n",
    "        anagram_groups[sorted_word].append(word)\n",
    "    \n",
    "    result = anagram_groups.values()\n",
    "    \n",
    "    return result\n",
    "\n",
    "strs = [\"eat\", \"tea\", \"tan\", \"ate\", \"nat\", \"bat\"]\n",
    "result = groupAnagrams(strs)\n",
    "print(\"Anagram groups:\", result)\n"
   ]
  },
  {
   "cell_type": "markdown",
   "id": "7e8d3c13-968f-4988-a0e3-c7ee64c32327",
   "metadata": {},
   "source": [
    "## Q5 Ugly number"
   ]
  },
  {
   "cell_type": "code",
   "execution_count": 21,
   "id": "640fbecb-3ac8-4cbc-acb0-229c5b88457e",
   "metadata": {},
   "outputs": [
    {
     "name": "stdout",
     "output_type": "stream",
     "text": [
      "The number is:  Ugly number\n"
     ]
    }
   ],
   "source": [
    "def prime_factors(number):\n",
    "    factors = [2,3,5]\n",
    "    divisor = 2\n",
    "\n",
    "    while divisor <= number:\n",
    "        if number % divisor == 0:\n",
    "            #factors.append(divisor)\n",
    "            number = number / divisor\n",
    "            if divisor not in factors:\n",
    "                return 'Not Ugly number'\n",
    "        else:\n",
    "            divisor += 1\n",
    "\n",
    "    return \"Ugly number\"\n",
    "\n",
    "\n",
    "input_number = 12\n",
    "factors = prime_factors(input_number)\n",
    "print(\"The number is: \", factors)"
   ]
  },
  {
   "cell_type": "markdown",
   "id": "6c2379f5-d594-4700-8422-a96bdae0923a",
   "metadata": {},
   "source": [
    "## Q6"
   ]
  },
  {
   "cell_type": "code",
   "execution_count": 24,
   "id": "ae1d40eb-4c0d-4176-9432-e2e28b4ec222",
   "metadata": {},
   "outputs": [
    {
     "name": "stdout",
     "output_type": "stream",
     "text": [
      "The 2 most frequent words are: ['i', 'love']\n"
     ]
    }
   ],
   "source": [
    "from collections import Counter\n",
    "\n",
    "def topKFrequent(words, k):\n",
    "    word_counts = Counter(words)\n",
    "    sorted_words = sorted(word_counts.keys(), key=lambda word: (-word_counts[word], word))\n",
    "    return sorted_words[:k]\n",
    "\n",
    "\n",
    "words = [\"i\",\"love\",\"leetcode\",\"i\",\"love\",\"coding\"]\n",
    "k = 2\n",
    "result = topKFrequent(words, k)\n",
    "print(f\"The {k} most frequent words are:\", result)\n"
   ]
  },
  {
   "cell_type": "markdown",
   "id": "e8310dbf-3b06-42cf-886c-32baaa7b36dd",
   "metadata": {},
   "source": [
    "## Q8"
   ]
  },
  {
   "cell_type": "code",
   "execution_count": 25,
   "id": "9226dc31-1842-4de8-9ff4-6f5ca448c90d",
   "metadata": {},
   "outputs": [
    {
     "name": "stdout",
     "output_type": "stream",
     "text": [
      "Closest elements to 4 in [1, 2, 3, 4, 5] : [3, 4, 5]\n"
     ]
    }
   ],
   "source": [
    "def find_closest_elements(arr, k, x):\n",
    "    left = 0\n",
    "    right = len(arr) - k\n",
    "    \n",
    "    while left < right:\n",
    "        mid = (left + right) // 2\n",
    "        if x - arr[mid] > arr[mid + k] - x:\n",
    "            left = mid + 1\n",
    "        else:\n",
    "            right = mid\n",
    "    \n",
    "    return arr[left:left + k]\n",
    "\n",
    "arr = [1, 2, 3, 4, 5]\n",
    "k = 3\n",
    "x = 4\n",
    "result = find_closest_elements(arr, k, x)\n",
    "print(\"Closest elements to\", x, \"in\", arr, \":\", result)"
   ]
  },
  {
   "cell_type": "code",
   "execution_count": null,
   "id": "d83a33f8-fe86-40f0-b42f-69135294607c",
   "metadata": {},
   "outputs": [],
   "source": []
  }
 ],
 "metadata": {
  "kernelspec": {
   "display_name": "Python 3 (ipykernel)",
   "language": "python",
   "name": "python3"
  },
  "language_info": {
   "codemirror_mode": {
    "name": "ipython",
    "version": 3
   },
   "file_extension": ".py",
   "mimetype": "text/x-python",
   "name": "python",
   "nbconvert_exporter": "python",
   "pygments_lexer": "ipython3",
   "version": "3.10.9"
  }
 },
 "nbformat": 4,
 "nbformat_minor": 5
}
