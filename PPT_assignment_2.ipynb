{
 "cells": [
  {
   "cell_type": "markdown",
   "id": "46cfbd94-2e9d-4428-b7d6-53bc76269712",
   "metadata": {},
   "source": [
    "Q5"
   ]
  },
  {
   "cell_type": "code",
   "execution_count": 9,
   "id": "cccbc4c0-8865-495e-87b1-5d4821ef53d1",
   "metadata": {},
   "outputs": [],
   "source": [
    "def maxProduct(arr, n):\n",
    " \n",
    "    if n < 3:\n",
    "        return -1\n",
    "    \n",
    "    arr.sort()\n",
    "    print(arr)\n",
    "    return max(arr[0] * arr[1] * arr[n - 1],\n",
    "               arr[n - 1] * arr[n - 2] * arr[n - 3])"
   ]
  },
  {
   "cell_type": "code",
   "execution_count": 11,
   "id": "2b8b095b-7830-4cdd-9942-0db8a118c83d",
   "metadata": {},
   "outputs": [
    {
     "name": "stdout",
     "output_type": "stream",
     "text": [
      "[-6, -4, 0, 1, 3, 7]\n",
      "Maximum product is 168\n"
     ]
    }
   ],
   "source": [
    "arr = [1, -4, 3, -6, 7, 0]\n",
    "n = len(arr)\n",
    "maximum = maxProduct(arr, n)\n",
    "print(\"Maximum product is\", maximum)"
   ]
  },
  {
   "cell_type": "markdown",
   "id": "be418336-5349-4c76-ae10-93e60c25fb1f",
   "metadata": {},
   "source": [
    "Q6"
   ]
  },
  {
   "cell_type": "code",
   "execution_count": 12,
   "id": "3cc31bdc-ef3c-4cd9-971f-8f1d5a17de6b",
   "metadata": {},
   "outputs": [],
   "source": [
    "# we have to write a binary search algorithm based code for O(logn)\n",
    "def binary_search(arr, target):\n",
    "    i = 0\n",
    "    j = len(arr) - 1\n",
    "    while i <= j:\n",
    "        mid = (i + j) // 2\n",
    "        if arr[mid] == target:\n",
    "            return mid\n",
    "        elif arr[mid] < target:\n",
    "            i = mid + 1\n",
    "        else:\n",
    "            j = mid - 1\n",
    "\n",
    "    return -1"
   ]
  },
  {
   "cell_type": "code",
   "execution_count": 17,
   "id": "2e6c91d0-3bf0-4355-a562-c6f4354caf5b",
   "metadata": {},
   "outputs": [
    {
     "name": "stdout",
     "output_type": "stream",
     "text": [
      "index is -1\n"
     ]
    }
   ],
   "source": [
    "nums = [-1,0,3,5,9,12]\n",
    "target = 10\n",
    "print('index is', binary_search(nums, target))"
   ]
  },
  {
   "cell_type": "code",
   "execution_count": 18,
   "id": "153c626a-e9cc-40c2-9e8c-e4746b25397a",
   "metadata": {},
   "outputs": [
    {
     "name": "stdout",
     "output_type": "stream",
     "text": [
      "index is 4\n"
     ]
    }
   ],
   "source": [
    "nums = [-1,0,3,5,9,12]\n",
    "target = 9\n",
    "print('index is', binary_search(nums, target))"
   ]
  },
  {
   "cell_type": "markdown",
   "id": "4b733421-7a17-45ee-aec8-fd07d08bd4ff",
   "metadata": {},
   "source": [
    "Q7."
   ]
  },
  {
   "cell_type": "code",
   "execution_count": 21,
   "id": "acef67bc-572e-4444-a568-c55cb89821f8",
   "metadata": {},
   "outputs": [],
   "source": [
    "def isMonotonic(arr):\n",
    "    N = len(arr)\n",
    "    increasing = True\n",
    "    decreasing = True\n",
    "\n",
    "    for i in range(0, N-1):\n",
    "        if arr[i] > arr[i+1]:\n",
    "            increasing = False\n",
    " \n",
    "    for i in range(0, N-1):\n",
    "        if arr[i] < arr[i+1]:\n",
    "            decreasing = False\n",
    " \n",
    "    return increasing or decreasing"
   ]
  },
  {
   "cell_type": "code",
   "execution_count": 24,
   "id": "267a77a2-6b83-4822-85ab-588cf89d4725",
   "metadata": {},
   "outputs": [
    {
     "name": "stdout",
     "output_type": "stream",
     "text": [
      "Is Monotonic False\n"
     ]
    }
   ],
   "source": [
    "arr = [1, 2, 1, 3]\n",
    "\n",
    "mono = isMonotonic(arr)\n",
    "print(\"Is Monotonic\",mono)"
   ]
  },
  {
   "cell_type": "markdown",
   "id": "ddbbd681-d07b-4365-889f-4976c56329d9",
   "metadata": {},
   "source": [
    "Q1"
   ]
  },
  {
   "cell_type": "code",
   "execution_count": 3,
   "id": "d32ccec6-92df-4775-8d73-49426467087a",
   "metadata": {},
   "outputs": [],
   "source": [
    "def maxpairSum(nums):\n",
    "    nums.sort()\n",
    "    sum = 0\n",
    "    for i in range(0, len(nums), 2):        \n",
    "        sum += nums[i]\n",
    "    return sum"
   ]
  },
  {
   "cell_type": "code",
   "execution_count": 4,
   "id": "fd5b91d2-20b9-4a1d-8edb-78b731e5be36",
   "metadata": {},
   "outputs": [
    {
     "name": "stdout",
     "output_type": "stream",
     "text": [
      "4\n"
     ]
    }
   ],
   "source": [
    "print(maxpairSum([1,4,3,2]))"
   ]
  },
  {
   "cell_type": "markdown",
   "id": "f0fcf3ae-d7d7-4b1c-a69c-846323fe9a09",
   "metadata": {},
   "source": [
    "Q4"
   ]
  },
  {
   "cell_type": "code",
   "execution_count": 5,
   "id": "b4172e7d-50e7-4704-a4e7-5e616a6ce8ac",
   "metadata": {},
   "outputs": [],
   "source": [
    "def plotflowerbed(arrflowerbed, n):\n",
    "    if (len(arrflowerbed) == 0):\n",
    "        return False\n",
    "       \n",
    "    count = 0\n",
    "    for i in range(0,len(arrflowerbed)):\n",
    "        print(arrflowerbed[i])\n",
    "        if (arrflowerbed[i] == 0 and (arrflowerbed[i - 1] == 0) and (i == len(arrflowerbed)-1 or arrflowerbed[i + 1] == 0)):\n",
    "            arrflowerbed[i] = 1\n",
    "            count +=1\n",
    "        if (count >= n):\n",
    "            return True\n",
    "      \n",
    "    return False"
   ]
  },
  {
   "cell_type": "code",
   "execution_count": 6,
   "id": "4eac81f3-e2a4-4468-9005-daacfdadf861",
   "metadata": {},
   "outputs": [
    {
     "name": "stdout",
     "output_type": "stream",
     "text": [
      "1\n",
      "0\n",
      "0\n",
      "True\n"
     ]
    }
   ],
   "source": [
    "arr = [1,0,0,0,1]\n",
    "print(plotflowerbed(arr,1))"
   ]
  },
  {
   "cell_type": "code",
   "execution_count": 7,
   "id": "110a2216-4c20-401b-8534-6e7188d22099",
   "metadata": {},
   "outputs": [
    {
     "name": "stdout",
     "output_type": "stream",
     "text": [
      "1\n",
      "0\n",
      "0\n",
      "0\n",
      "1\n",
      "False\n"
     ]
    }
   ],
   "source": [
    "arr = [1,0,0,0,1]\n",
    "print(plotflowerbed(arr,2))"
   ]
  },
  {
   "cell_type": "code",
   "execution_count": null,
   "id": "f448a93c-a75a-4ee7-a071-033c806ae880",
   "metadata": {},
   "outputs": [],
   "source": []
  }
 ],
 "metadata": {
  "kernelspec": {
   "display_name": "Python 3 (ipykernel)",
   "language": "python",
   "name": "python3"
  },
  "language_info": {
   "codemirror_mode": {
    "name": "ipython",
    "version": 3
   },
   "file_extension": ".py",
   "mimetype": "text/x-python",
   "name": "python",
   "nbconvert_exporter": "python",
   "pygments_lexer": "ipython3",
   "version": "3.10.9"
  }
 },
 "nbformat": 4,
 "nbformat_minor": 5
}
