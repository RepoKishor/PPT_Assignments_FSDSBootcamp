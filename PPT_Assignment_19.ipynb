{
 "cells": [
  {
   "cell_type": "markdown",
   "id": "d9f4f7c4-9d98-44f2-91bd-baac9b7722db",
   "metadata": {},
   "source": [
    "## Q1"
   ]
  },
  {
   "cell_type": "code",
   "execution_count": 1,
   "id": "e19c503b-d88e-44ec-96aa-5c0fa7d76310",
   "metadata": {},
   "outputs": [],
   "source": [
    "# defining the base class\n",
    "class ListNode:\n",
    "    def __init__(self, val=0, next=None):\n",
    "        self.val = val\n",
    "        self.next = next"
   ]
  },
  {
   "cell_type": "code",
   "execution_count": 12,
   "id": "3e81b020-4f57-4b71-bd5e-4c4658d75e27",
   "metadata": {},
   "outputs": [
    {
     "name": "stdout",
     "output_type": "stream",
     "text": [
      "1\n",
      "1\n",
      "2\n",
      "3\n",
      "4\n",
      "4\n",
      "5\n",
      "6\n"
     ]
    }
   ],
   "source": [
    "def mergeTwoLists(l1, l2):\n",
    "    dummy = ListNode(0)\n",
    "    curr = dummy\n",
    "    \n",
    "    while l1 and l2:\n",
    "        if l1.val <= l2.val:\n",
    "            #print('in the if',l1.val, l2.val)\n",
    "            curr.next = l1\n",
    "            l1 = l1.next\n",
    "        else:            \n",
    "            #print('in the else:',l1.val, l2.val)\n",
    "            curr.next = l2\n",
    "            l2 = l2.next\n",
    "        curr = curr.next\n",
    "    \n",
    "    if l1:\n",
    "        curr.next = l1\n",
    "    if l2:\n",
    "        curr.next = l2\n",
    "    \n",
    "    return dummy.next\n",
    "\n",
    "def mergeLists(lists):\n",
    "\n",
    "    while len(lists) > 1:\n",
    "        merged_lists = []\n",
    "        for i in range(0, len(lists), 2):\n",
    "            l1 = lists[i]\n",
    "            l2 = lists[i+1] if i+1 < len(lists) else None\n",
    "            merged = mergeTwoLists(l1, l2)\n",
    "            merged_lists.append(merged)\n",
    "        lists = merged_lists\n",
    "        #print('lists',lists)\n",
    "    \n",
    "    return lists[0] if lists else None\n",
    "\n",
    "list1 = ListNode(1)\n",
    "list1.next = ListNode(4)\n",
    "list1.next.next = ListNode(5)\n",
    "\n",
    "list2 = ListNode(1)\n",
    "list2.next = ListNode(3)\n",
    "list2.next.next = ListNode(4)\n",
    "\n",
    "list3 = ListNode(2)\n",
    "list3.next = ListNode(6)\n",
    "\n",
    "lists = [list1, list2, list3]\n",
    "merged_list = mergeLists(lists)\n",
    "\n",
    "while merged_list:\n",
    "    print(merged_list.val)\n",
    "    merged_list = merged_list.next\n"
   ]
  },
  {
   "cell_type": "markdown",
   "id": "339c246f-9c7e-4fca-81ab-5af577e90ab0",
   "metadata": {},
   "source": [
    "## Q2 Count of Smaller Numbers After Self"
   ]
  },
  {
   "cell_type": "code",
   "execution_count": 27,
   "id": "1f0f0d24-300f-4426-9cee-0f34ee248bc0",
   "metadata": {},
   "outputs": [
    {
     "name": "stdout",
     "output_type": "stream",
     "text": [
      "[2, 1, 1, 0]\n"
     ]
    }
   ],
   "source": [
    "def countSmallerNumberAfterSelf(nums):\n",
    "    def mergeSort(arr, counts):\n",
    "        if len(arr) <= 1:\n",
    "            return arr\n",
    "        mid = len(arr) // 2\n",
    "        left = mergeSort(arr[:mid], counts)\n",
    "        right = mergeSort(arr[mid:], counts)\n",
    "        return merge(left, right, counts)\n",
    "    \n",
    "    def merge(left, right, counts):\n",
    "        merged = []\n",
    "        i, j = 0, 0\n",
    "        while i < len(left) and j < len(right):\n",
    "            if left[i][0] <= right[j][0]:\n",
    "                merged.append(left[i])\n",
    "                counts[left[i][1]] += j\n",
    "                i += 1\n",
    "            else:\n",
    "                merged.append(right[j])\n",
    "                j += 1\n",
    "        while i < len(left):\n",
    "            merged.append(left[i])\n",
    "            counts[left[i][1]] += j\n",
    "            i += 1\n",
    "        while j < len(right):\n",
    "            merged.append(right[j])\n",
    "            j += 1\n",
    "        return merged\n",
    "    \n",
    "    counts = [0] * len(nums)\n",
    "    indices = [(nums[i], i) for i in range(len(nums))]\n",
    "    #indices = list(range(len(nums)))\n",
    "    mergeSort(indices, counts)\n",
    "    return counts\n",
    "\n",
    "nums = [5, 2, 6,1]\n",
    "result = countSmallerNumberAfterSelf(nums)\n",
    "print(result)  "
   ]
  },
  {
   "cell_type": "markdown",
   "id": "e4c1bcd5-90ab-4efa-b45d-0f7dac89b740",
   "metadata": {},
   "source": [
    "## Q3 sort an array without using any built-in function"
   ]
  },
  {
   "cell_type": "code",
   "execution_count": 35,
   "id": "d02ace9e-5e60-40c8-8668-9125e6a6af1b",
   "metadata": {},
   "outputs": [
    {
     "name": "stdout",
     "output_type": "stream",
     "text": [
      "[1, 2, 3, 5]\n"
     ]
    }
   ],
   "source": [
    "def sortArray(nums):\n",
    "    if len(nums) <= 1:\n",
    "        return nums\n",
    "    \n",
    "    mid = len(nums) // 2\n",
    "    left = sortArray(nums[:mid])\n",
    "    right = sortArray(nums[mid:])\n",
    "    return merge(left, right)\n",
    "\n",
    "def merge(left, right):\n",
    "    merged = []\n",
    "    i = j = 0\n",
    "    #print('left', left,'right',right)\n",
    "    while i < len(left) and j < len(right):\n",
    "        #print('while 1')\n",
    "        if left[i] <= right[j]:\n",
    "            merged.append(left[i])\n",
    "            #print('merged',merged)\n",
    "            i += 1\n",
    "        else:\n",
    "            merged.append(right[j])\n",
    "            #print('merged else ',merged)            \n",
    "            j += 1\n",
    "    \n",
    "    while i < len(left):\n",
    "        #print('while 2')        \n",
    "        merged.append(left[i])\n",
    "        #print('merged',merged)        \n",
    "        i += 1\n",
    "    \n",
    "    while j < len(right):\n",
    "        #print('while 3')        \n",
    "        merged.append(right[j])\n",
    "        #print('merged',merged)        \n",
    "        j += 1\n",
    "    \n",
    "    return merged\n",
    "\n",
    "arr = [5, 2, 3, 1]\n",
    "sorted_nums = sortArray(arr)\n",
    "print(sorted_nums) \n"
   ]
  },
  {
   "cell_type": "markdown",
   "id": "3672207a-3df7-449b-bff8-4ce710f6d9f2",
   "metadata": {},
   "source": [
    "## Q4 push the zeroes to the end of the array"
   ]
  },
  {
   "cell_type": "code",
   "execution_count": 43,
   "id": "7d6ca639-b3da-4402-9e47-30cf859b50ff",
   "metadata": {},
   "outputs": [
    {
     "name": "stdout",
     "output_type": "stream",
     "text": [
      "[1, 2, 4, 3, 5, 0, 0, 0]\n"
     ]
    }
   ],
   "source": [
    "def pushZeros(arr):\n",
    "    n = len(arr)\n",
    "    left = 0  \n",
    "    \n",
    "    for i in range(n):\n",
    "        if arr[i] != 0:\n",
    "            arr[left] = arr[i]\n",
    "            left += 1\n",
    "    for i in range(left,n):\n",
    "        arr[i]=0\n",
    "arr = [1, 2, 0, 4, 3, 0, 5, 0]\n",
    "pushZeros(arr)\n",
    "print(arr) \n"
   ]
  },
  {
   "cell_type": "markdown",
   "id": "20db4ce6-b3ae-4d3f-810b-09bc74c9a7e9",
   "metadata": {},
   "source": [
    "## Q6. Merge two sorted arrays"
   ]
  },
  {
   "cell_type": "code",
   "execution_count": 47,
   "id": "cc95b051-7192-49fe-9d17-b9eebb68ba93",
   "metadata": {},
   "outputs": [
    {
     "name": "stdout",
     "output_type": "stream",
     "text": [
      "[1, 2, 3, 4, 4, 5, 6, 8]\n"
     ]
    }
   ],
   "source": [
    "def mergeSortedArrays(arr1, arr2):\n",
    "    merged = []\n",
    "    i, j = 0, 0\n",
    "    \n",
    "    while i < len(arr1) and j < len(arr2):\n",
    "        if arr1[i] <= arr2[j]:\n",
    "            merged.append(arr1[i])\n",
    "            i += 1\n",
    "        else:\n",
    "            merged.append(arr2[j])\n",
    "            j += 1\n",
    "    #print('merged:',merged)\n",
    "    while i < len(arr1):\n",
    "        merged.append(arr1[i])\n",
    "        i += 1\n",
    "    \n",
    "    while j < len(arr2):\n",
    "        merged.append(arr2[j])\n",
    "        j += 1\n",
    "    \n",
    "    return merged\n",
    "\n",
    "arr1 = [1, 3, 4, 5]\n",
    "arr2 = [2, 4, 6, 8]\n",
    "merged = mergeSortedArrays(arr1, arr2)\n",
    "print(merged)  \n"
   ]
  },
  {
   "cell_type": "markdown",
   "id": "fdf8cba9-88bf-4c65-a98e-93bad2a71ede",
   "metadata": {},
   "source": [
    "##  Q7 Intesection of two arrays"
   ]
  },
  {
   "cell_type": "code",
   "execution_count": 54,
   "id": "3ea26457-192e-4c32-93ce-4a8a25a58345",
   "metadata": {},
   "outputs": [
    {
     "name": "stdout",
     "output_type": "stream",
     "text": [
      "[2, 2]\n"
     ]
    }
   ],
   "source": [
    "def intersectionTwoArrays(arr1, arr2):\n",
    "    counts = {}\n",
    "    result = []\n",
    "    \n",
    "    for num in arr1:\n",
    "        counts[num] = counts.get(num, 0) + 1\n",
    "    \n",
    "    for num in arr2:\n",
    "        if num in counts:\n",
    "            result.append(num)\n",
    "            counts[num] -= 1\n",
    "    \n",
    "    return result\n",
    "\n",
    "arr1 = [1, 2, 2, 1]\n",
    "arr2 = [2, 2]\n",
    "intersection_list = intersectionTwoArrays(arr1, arr2)\n",
    "print(intersection_list) \n"
   ]
  },
  {
   "cell_type": "markdown",
   "id": "ace1c6cb-f633-48fc-b541-4a9f1602639e",
   "metadata": {},
   "source": [
    "## Q8 Intersection of Two Arrays II"
   ]
  },
  {
   "cell_type": "code",
   "execution_count": 58,
   "id": "53e0ceac-eeb6-4186-96f4-5c3cbfc3edf5",
   "metadata": {},
   "outputs": [
    {
     "name": "stdout",
     "output_type": "stream",
     "text": [
      "[9, 4]\n"
     ]
    }
   ],
   "source": [
    "def intersectionTwoArrays(arr1, arr2):\n",
    "    counts = {}\n",
    "    result = []\n",
    "    \n",
    "    for num in arr1:\n",
    "        counts[num] = counts.get(num, 0) + 1\n",
    "    \n",
    "    for num in arr2:\n",
    "        if num in counts and counts[num] > 0:\n",
    "            result.append(num)\n",
    "            counts[num] -= 1\n",
    "    \n",
    "    return result\n",
    "\n",
    "arr1 = [4,9,5]\n",
    "arr2 = [9,4,9,8,4]\n",
    "intersection_list = intersectionTwoArrays(arr1, arr2)\n",
    "print(intersection_list) "
   ]
  },
  {
   "cell_type": "code",
   "execution_count": null,
   "id": "f5372a41-5f03-42a1-b1b7-d60175685efa",
   "metadata": {},
   "outputs": [],
   "source": []
  }
 ],
 "metadata": {
  "kernelspec": {
   "display_name": "Python 3 (ipykernel)",
   "language": "python",
   "name": "python3"
  },
  "language_info": {
   "codemirror_mode": {
    "name": "ipython",
    "version": 3
   },
   "file_extension": ".py",
   "mimetype": "text/x-python",
   "name": "python",
   "nbconvert_exporter": "python",
   "pygments_lexer": "ipython3",
   "version": "3.10.9"
  }
 },
 "nbformat": 4,
 "nbformat_minor": 5
}
