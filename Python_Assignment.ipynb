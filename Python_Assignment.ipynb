{
 "cells": [
  {
   "cell_type": "code",
   "execution_count": 7,
   "id": "8ae8ad3e-aa3a-4a0f-aa47-b8a3f4bd6c77",
   "metadata": {},
   "outputs": [
    {
     "name": "stdout",
     "output_type": "stream",
     "text": [
      "r\n",
      "o\n",
      "h\n",
      "s\n",
      "i\n",
      "k\n"
     ]
    }
   ],
   "source": [
    "Q1\n",
    "str = \"kishor\"\n",
    "for i in range(len(str)-1,-1,-1):\n",
    "    print(str[i])"
   ]
  },
  {
   "cell_type": "markdown",
   "id": "f10825f7-2ca4-4240-b611-201ab82ff9d6",
   "metadata": {},
   "source": [
    "## Q2"
   ]
  },
  {
   "cell_type": "code",
   "execution_count": 9,
   "id": "2493969f-4cf4-4b11-96cb-0c3ab1bfd76d",
   "metadata": {},
   "outputs": [
    {
     "name": "stdout",
     "output_type": "stream",
     "text": [
      "The string is a palindrome.\n"
     ]
    }
   ],
   "source": [
    "def checkpalindrome(string):\n",
    "    alnumstring = ''.join(char.lower() for char in string if char.isalnum())\n",
    "\n",
    "    left = 0\n",
    "    right = len(alnumstring) - 1\n",
    "\n",
    "    while left < right:\n",
    "        if alnumstring[left] != alnumstring[right]:\n",
    "            return False\n",
    "        left += 1\n",
    "        right -= 1\n",
    "\n",
    "    return True\n",
    "\n",
    "input_string = \"abba\"\n",
    "if checkpalindrome(input_string):\n",
    "    print(\"The string is a palindrome.\")\n",
    "else:\n",
    "    print(\"The string is not a palindrome.\")\n"
   ]
  },
  {
   "cell_type": "markdown",
   "id": "f645ec29-2dba-4a87-b581-1e4cc327b66a",
   "metadata": {},
   "source": [
    "## Q3"
   ]
  },
  {
   "cell_type": "code",
   "execution_count": 11,
   "id": "c47e3e49-0f10-4155-8cca-32f561ec787f",
   "metadata": {},
   "outputs": [
    {
     "name": "stdout",
     "output_type": "stream",
     "text": [
      "d\n"
     ]
    }
   ],
   "source": [
    "li=['a','b','c','d']\n",
    "print(max(li))"
   ]
  },
  {
   "cell_type": "markdown",
   "id": "ed2e1ca9-4e20-41e9-878e-79a8d50ffed0",
   "metadata": {},
   "source": [
    "## Q4"
   ]
  },
  {
   "cell_type": "code",
   "execution_count": 15,
   "id": "f0619649-7ba7-4758-843e-5ad531f74b86",
   "metadata": {},
   "outputs": [
    {
     "name": "stdout",
     "output_type": "stream",
     "text": [
      "1: 3\n",
      "2: 3\n",
      "3: 2\n",
      "4: 3\n",
      "5: 2\n"
     ]
    }
   ],
   "source": [
    "def maxOccurence(li):\n",
    "    freq = {}\n",
    "    for i in li:\n",
    "        if i in freq:\n",
    "            freq[i] +=1\n",
    "        else:\n",
    "            freq[i] = 1\n",
    "    return freq\n",
    "\n",
    "li = [1, 2, 3, 2, 1, 3, 4, 1, 2, 5, 4, 4, 5]\n",
    "occurrence = maxOccurence(li)\n",
    "for k, v in occurrence.items():\n",
    "    print(f\"{k}: {v}\")"
   ]
  },
  {
   "cell_type": "markdown",
   "id": "3b6bcfe7-4c1b-47a3-8deb-69a687e9faee",
   "metadata": {},
   "source": [
    "## Q5"
   ]
  },
  {
   "cell_type": "code",
   "execution_count": 18,
   "id": "2103f76a-0cc1-4fe1-a699-a358728d2b20",
   "metadata": {},
   "outputs": [
    {
     "name": "stdout",
     "output_type": "stream",
     "text": [
      "8\n"
     ]
    }
   ],
   "source": [
    "input_list = [5, 9, 3, 7, 1, 8, 6]\n",
    "print(list(sorted(input_list))[-2])"
   ]
  },
  {
   "cell_type": "code",
   "execution_count": 20,
   "id": "c9ab167d-819e-4a35-b331-b380f8c8dfa0",
   "metadata": {},
   "outputs": [
    {
     "name": "stdout",
     "output_type": "stream",
     "text": [
      "The second largest number is: 8\n"
     ]
    }
   ],
   "source": [
    "def second_largest(numbers):\n",
    "    if len(numbers) < 2:\n",
    "        return None\n",
    "\n",
    "    largest = 1\n",
    "    second_largest = 1\n",
    "\n",
    "    for num in numbers:\n",
    "        if num > largest:\n",
    "            second_largest = largest\n",
    "            largest = num\n",
    "        elif num > second_largest and num != largest:\n",
    "            second_largest = num\n",
    "\n",
    "    return second_largest\n",
    "\n",
    "li= [5, 9, 3, 7, 1, 8, 6]\n",
    "second_largest = second_largest(li)\n",
    "print(\"The second largest number is:\", second_largest)\n"
   ]
  },
  {
   "cell_type": "markdown",
   "id": "d3918f28-81f2-4d26-b415-2c79e6d9be46",
   "metadata": {},
   "source": [
    "## Q6"
   ]
  },
  {
   "cell_type": "code",
   "execution_count": 21,
   "id": "7f01a156-55f7-47de-ae59-e16bfdfa4163",
   "metadata": {},
   "outputs": [
    {
     "name": "stdout",
     "output_type": "stream",
     "text": [
      "{1, 2, 3, 4, 5}\n"
     ]
    }
   ],
   "source": [
    "li = [1, 2, 3, 2, 1, 3, 4, 1, 2, 5, 4, 4, 5]\n",
    "print(set(li))"
   ]
  },
  {
   "cell_type": "code",
   "execution_count": 24,
   "id": "b5daecb4-960a-4fc6-9488-f45993802852",
   "metadata": {},
   "outputs": [
    {
     "name": "stdout",
     "output_type": "stream",
     "text": [
      "[1, 2, 3, 4, 5]\n"
     ]
    }
   ],
   "source": [
    "def removeDuplicate(li):\n",
    "    noDup =[]\n",
    "    for i in li:\n",
    "        if i not in noDup:\n",
    "            noDup.append(i)\n",
    "    return noDup\n",
    "\n",
    "print(removeDuplicate(li = [1, 2, 3, 2, 1, 3, 4, 1, 2, 5, 4, 4, 5]))"
   ]
  },
  {
   "cell_type": "markdown",
   "id": "ff1c4219-f6a2-400e-8bdc-63aa59451698",
   "metadata": {},
   "source": [
    "## Q7 Write a program to calculate the factorial of a given number"
   ]
  },
  {
   "cell_type": "code",
   "execution_count": 30,
   "id": "895ba98b-4a08-4660-b767-29d0e8c1820a",
   "metadata": {},
   "outputs": [
    {
     "name": "stdout",
     "output_type": "stream",
     "text": [
      "24\n"
     ]
    }
   ],
   "source": [
    "def facto(n):\n",
    "    fact = 1\n",
    "    if n > 1:\n",
    "        fact = n * facto(n-1)\n",
    "    return fact\n",
    "\n",
    "print(facto(4))"
   ]
  },
  {
   "cell_type": "markdown",
   "id": "b6dfad17-ca88-440e-8839-d26b66a7a387",
   "metadata": {},
   "source": [
    "## Q8 Implement a function to check if a given number is prime"
   ]
  },
  {
   "cell_type": "code",
   "execution_count": 32,
   "id": "386f21c8-a5f4-49a9-a347-f67d0836284b",
   "metadata": {},
   "outputs": [
    {
     "name": "stdout",
     "output_type": "stream",
     "text": [
      "True\n"
     ]
    }
   ],
   "source": [
    "def isPrime(n):\n",
    "    if n>=2:\n",
    "        for i in range(2,n):\n",
    "            if n%i==0:\n",
    "                return False\n",
    "\n",
    "    return True\n",
    "\n",
    "print(isPrime(7))"
   ]
  },
  {
   "cell_type": "markdown",
   "id": "e8c49e90-4f6f-471f-bc55-34dd1ecd5d06",
   "metadata": {},
   "source": [
    "## Q9 Write a Python program to sort a list of integers in ascending order"
   ]
  },
  {
   "cell_type": "code",
   "execution_count": 34,
   "id": "540eda3d-451a-47fd-adea-87a27f59d0a0",
   "metadata": {},
   "outputs": [
    {
     "name": "stdout",
     "output_type": "stream",
     "text": [
      "Sorted list: [-4, 2, 3, 5, 7]\n"
     ]
    }
   ],
   "source": [
    "def listsort(lst):\n",
    "    n = len(lst)\n",
    "    for i in range(n - 1):\n",
    "        for j in range(n - i - 1):\n",
    "            if lst[j] > lst[j + 1]:\n",
    "                lst[j], lst[j + 1] = lst[j + 1], lst[j]\n",
    "\n",
    "\n",
    "\n",
    "li = [5, 2, 3,7,-4]\n",
    "listsort(li)\n",
    "print(\"Sorted list:\", li)\n"
   ]
  },
  {
   "cell_type": "markdown",
   "id": "3b6285ca-d601-4a1c-8224-d7b81040925b",
   "metadata": {},
   "source": [
    "## Q10 . Implement a function to find the sum of all numbers in a list"
   ]
  },
  {
   "cell_type": "code",
   "execution_count": 37,
   "id": "7b971299-d638-4495-986d-b38ae12695ee",
   "metadata": {},
   "outputs": [
    {
     "name": "stdout",
     "output_type": "stream",
     "text": [
      "13\n"
     ]
    }
   ],
   "source": [
    "def sumList(li):\n",
    "    return sum(li)\n",
    "\n",
    "print(sumList(li = [5, 2, 3,7,-4]))"
   ]
  },
  {
   "cell_type": "markdown",
   "id": "1364a216-484b-410d-b2a2-e4c8090e79f7",
   "metadata": {},
   "source": [
    "## Q11 Write a program to find the common elements between two lists"
   ]
  },
  {
   "cell_type": "code",
   "execution_count": 42,
   "id": "a9ea46dc-d54a-49dc-b992-ae810df3b103",
   "metadata": {},
   "outputs": [
    {
     "name": "stdout",
     "output_type": "stream",
     "text": [
      "[1, 2]\n"
     ]
    }
   ],
   "source": [
    "l1 = [1, 2, 3, 2, 1, 3, 4, 1, 2, 5, 4, 4, 5]\n",
    "l2=[1,2,-3]\n",
    "print(list(set(l1).intersection(set(l2))))"
   ]
  },
  {
   "cell_type": "markdown",
   "id": "8161cd5f-8fb6-44cf-ac7c-d467168a37af",
   "metadata": {},
   "source": [
    "## Q12 Implement a function to check if a given string is an anagram of another string."
   ]
  },
  {
   "cell_type": "code",
   "execution_count": 45,
   "id": "e08b1636-1c77-46f2-8c64-7a0b4aaef12f",
   "metadata": {},
   "outputs": [
    {
     "name": "stdout",
     "output_type": "stream",
     "text": [
      "True\n"
     ]
    }
   ],
   "source": [
    "def checkAnagram(str1,str2):\n",
    "    sorted_str1=sorted(str1)\n",
    "    sorted_str2=sorted(str2)\n",
    "    return sorted_str1==sorted_str2\n",
    "\n",
    "print(checkAnagram('abcd','acdb'))"
   ]
  },
  {
   "cell_type": "markdown",
   "id": "3d563f73-8cf9-467f-88f0-56ca30e3154d",
   "metadata": {},
   "source": [
    "## Q13 Write a Python program to generate all permutations of a given string"
   ]
  },
  {
   "cell_type": "code",
   "execution_count": 48,
   "id": "54c89790-0e2e-4977-8f99-48719ef11df4",
   "metadata": {},
   "outputs": [
    {
     "name": "stdout",
     "output_type": "stream",
     "text": [
      "All entire permutation of strings are : \n",
      "abc acb bac bca cab cba "
     ]
    }
   ],
   "source": [
    "def permutation_string(s, answer):\n",
    "    if (len(s) == 0):\n",
    "        print(answer, end = \" \")\n",
    "        return\n",
    "     \n",
    "    for i in range(len(s)):\n",
    "        ch = s[i]\n",
    "        left = s[0:i]\n",
    "        right = s[i + 1:]\n",
    "        rest = left + right\n",
    "        permutation_string(rest, answer + ch)\n",
    " \n",
    "print(\"All entire permutation of strings are : \")\n",
    "permutation_string('abc', \"\")"
   ]
  },
  {
   "cell_type": "markdown",
   "id": "a97a5607-0d07-4d77-941a-d760da0e8807",
   "metadata": {},
   "source": [
    "## Q14 Implement a function to calculate the Fibonacci sequence up to a given number of terms"
   ]
  },
  {
   "cell_type": "code",
   "execution_count": 52,
   "id": "c9154df5-9df4-4046-bc2a-5ed72404ed07",
   "metadata": {},
   "outputs": [
    {
     "name": "stdout",
     "output_type": "stream",
     "text": [
      "0\n",
      "1\n",
      "1\n",
      "2\n",
      "3\n",
      "5\n",
      "8\n",
      "13\n",
      "21\n",
      "34\n"
     ]
    }
   ],
   "source": [
    "def rec_fibonacci(num):\n",
    "    if num>1:\n",
    "        return rec_fibonacci(num-1) + rec_fibonacci(num-2)\n",
    "    else:\n",
    "        return num\n",
    "\n",
    "    \n",
    "for i in range(10):\n",
    "    print(rec_fibonacci(i))"
   ]
  },
  {
   "cell_type": "markdown",
   "id": "568f707e-e8e2-4cfb-b012-fbb786a716fc",
   "metadata": {},
   "source": [
    "## Q15 median of a list numbers"
   ]
  },
  {
   "cell_type": "code",
   "execution_count": 56,
   "id": "f68c9890-aca6-49ec-956e-7b477ff346ad",
   "metadata": {},
   "outputs": [
    {
     "name": "stdout",
     "output_type": "stream",
     "text": [
      "Median is: 6\n"
     ]
    }
   ],
   "source": [
    "def getmedian(numbers):\n",
    "    sorted_numbers = sorted(numbers)\n",
    "    n = len(sorted_numbers)\n",
    "\n",
    "    if n % 2 == 0:\n",
    "        mid = n // 2\n",
    "        median = (sorted_numbers[mid - 1] + sorted_numbers[mid]) / 2\n",
    "    else:\n",
    "        mid = n // 2\n",
    "        median = sorted_numbers[mid]\n",
    "\n",
    "    return median\n",
    "\n",
    "\n",
    "listofNums = [6,5, 2, 9, 1, 7, 3, 8,11]\n",
    "median = getmedian(listofNums)\n",
    "print(\"Median is:\", median)\n"
   ]
  },
  {
   "cell_type": "markdown",
   "id": "fc6973b7-79b5-4c82-b2cb-9cdf1b866902",
   "metadata": {},
   "source": [
    "## Q16"
   ]
  },
  {
   "cell_type": "code",
   "execution_count": 5,
   "id": "b3237ae3-ecc9-43df-a8a6-b5ee2e0b106a",
   "metadata": {},
   "outputs": [
    {
     "name": "stdout",
     "output_type": "stream",
     "text": [
      "Non-decreasing order.\n"
     ]
    }
   ],
   "source": [
    "def checksorted(li):\n",
    "    n = len(li)\n",
    "    for i in range(n - 1):\n",
    "        if li[i] > li[i + 1]:\n",
    "            return False\n",
    "    return True\n",
    "\n",
    "l1 = [1, 2, 3, 4, 5]\n",
    "if checksorted(l1):\n",
    "    print(\"Non-decreasing order.\")\n",
    "else:\n",
    "    print(\"Not in non-decreasing order.\")\n"
   ]
  },
  {
   "cell_type": "markdown",
   "id": "17af2e2d-6838-4040-9ab0-9f4b05bd41b7",
   "metadata": {},
   "source": [
    "## Q17 Intersection of two lists"
   ]
  },
  {
   "cell_type": "code",
   "execution_count": 6,
   "id": "8ca924b6-c346-4517-90a4-1d251fdaef06",
   "metadata": {},
   "outputs": [
    {
     "name": "stdout",
     "output_type": "stream",
     "text": [
      "[1, 2]\n"
     ]
    }
   ],
   "source": [
    "l1 = [1, 2, 3, 2, 1, 3, 4, 1, 2, 5, 4, 4, 5]\n",
    "l2=[1,2,-3]\n",
    "print(list(set(l1).intersection(set(l2))))"
   ]
  },
  {
   "cell_type": "markdown",
   "id": "fa929902-c70c-422c-99ea-3543c5ffef2e",
   "metadata": {},
   "source": [
    "## Q18 "
   ]
  },
  {
   "cell_type": "code",
   "execution_count": 7,
   "id": "d8f2b7dc-15bf-4d17-ba1a-642519348ce0",
   "metadata": {},
   "outputs": [
    {
     "name": "stdout",
     "output_type": "stream",
     "text": [
      "Maximum subarray sum: 16\n"
     ]
    }
   ],
   "source": [
    "def max_subarray_sum(nums):\n",
    "    current_sum = max_sum = nums[0]\n",
    "\n",
    "    for i in range(1, len(nums)):\n",
    "        current_sum = max(nums[i], current_sum + nums[i])\n",
    "        max_sum = max(max_sum, current_sum)\n",
    "\n",
    "    return max_sum\n",
    "\n",
    "input_list = [-2, 1,4, 3, 2, 1, 5]\n",
    "maximum_sum = max_subarray_sum(input_list)\n",
    "print(\"Maximum subarray sum:\", maximum_sum)"
   ]
  },
  {
   "cell_type": "markdown",
   "id": "bd210f10-968c-48c2-a495-e1d5089d4459",
   "metadata": {},
   "source": [
    "## Q19"
   ]
  },
  {
   "cell_type": "code",
   "execution_count": 8,
   "id": "2c4b5c91-8c70-40cb-8cdb-5f071f5fe04d",
   "metadata": {},
   "outputs": [
    {
     "name": "stdout",
     "output_type": "stream",
     "text": [
      "Kshr\n"
     ]
    }
   ],
   "source": [
    "def removeVowels(str):\n",
    "    vowels='aeiouAEIOU'\n",
    "    str_ =''\n",
    "    for i in str:\n",
    "        if i not in vowels:\n",
    "            str_ +=i\n",
    "    return str_\n",
    "\n",
    "print(removeVowels(\"Kishor\"))"
   ]
  },
  {
   "cell_type": "markdown",
   "id": "eafcf43d-43f4-4404-bdbe-092608d5ecd6",
   "metadata": {},
   "source": [
    "## Q20 Implement a function to reverse the order of words in a given sentence"
   ]
  },
  {
   "cell_type": "code",
   "execution_count": 9,
   "id": "737d2eb0-fca0-42bd-98e4-1757fccac922",
   "metadata": {},
   "outputs": [
    {
     "name": "stdout",
     "output_type": "stream",
     "text": [
      "sentence given a in words of order the reverse to function a Implement\n"
     ]
    }
   ],
   "source": [
    "def reverserOrder(sentence):\n",
    "    list_words = sentence.split()\n",
    "    print(\" \".join(list_words[::-1]))\n",
    "\n",
    "reverserOrder('Implement a function to reverse the order of words in a given sentence')"
   ]
  },
  {
   "cell_type": "markdown",
   "id": "a202a78e-42d9-489a-bca3-b2c516dc193d",
   "metadata": {},
   "source": [
    "## Q21 Same as Q12"
   ]
  },
  {
   "cell_type": "markdown",
   "id": "753ca88f-43cd-4584-87d7-a9c1bd792375",
   "metadata": {},
   "source": [
    "## Q22 "
   ]
  },
  {
   "cell_type": "code",
   "execution_count": 13,
   "id": "8d834108-e513-46b7-8d04-e90acc83cb1f",
   "metadata": {},
   "outputs": [
    {
     "name": "stdout",
     "output_type": "stream",
     "text": [
      "First non-repeating character in the string is : k\n"
     ]
    }
   ],
   "source": [
    "def firstnonrepeatingchar(string):\n",
    "    char_freq = {}\n",
    "    \n",
    "    for char in string:\n",
    "        char_freq[char] = char_freq.get(char,0) + 1\n",
    "\n",
    "    for char in string:\n",
    "        if char_freq[char] == 1:\n",
    "            return char\n",
    "\n",
    "    return None \n",
    "\n",
    "\n",
    "input = \"kishorchandrasahu\"\n",
    "result = firstnonrepeatingchar(input)\n",
    "print(\"First non-repeating character in the string is :\", result)\n"
   ]
  },
  {
   "cell_type": "markdown",
   "id": "d5a3e61b-f480-4a21-969b-ad6e84609dae",
   "metadata": {},
   "source": [
    "## Q23 prime factors of a given number"
   ]
  },
  {
   "cell_type": "code",
   "execution_count": 1,
   "id": "a966ad5f-4731-4b98-9ce0-4c563e614d69",
   "metadata": {},
   "outputs": [
    {
     "name": "stdout",
     "output_type": "stream",
     "text": [
      "Prime factors are: [2, 2, 3]\n"
     ]
    }
   ],
   "source": [
    "def prime_factors(number):\n",
    "    factors = []\n",
    "    divisor = 2\n",
    "\n",
    "    while divisor <= number:\n",
    "        if number % divisor == 0:\n",
    "            factors.append(divisor)\n",
    "            number = number / divisor\n",
    "        else:\n",
    "            divisor += 1\n",
    "\n",
    "    return factors\n",
    "\n",
    "\n",
    "input_number = 12\n",
    "factors = prime_factors(input_number)\n",
    "print(\"Prime factors are:\", factors)\n"
   ]
  },
  {
   "cell_type": "markdown",
   "id": "74690e07-c055-4e1c-807a-f4277057fc69",
   "metadata": {},
   "source": [
    "## Q24 Implement a function to check if a given number is a power of two"
   ]
  },
  {
   "cell_type": "code",
   "execution_count": 23,
   "id": "18dc4cb0-4d6e-4bfc-be02-15be528c846d",
   "metadata": {},
   "outputs": [
    {
     "name": "stdout",
     "output_type": "stream",
     "text": [
      "Is the number power of two: True\n"
     ]
    }
   ],
   "source": [
    "def powerofTwo(number):\n",
    "    factors = []\n",
    "    divisor = 2\n",
    "\n",
    "    while divisor <= number:\n",
    "        if number % divisor == 0:\n",
    "            factors.append(divisor)\n",
    "            number = number / divisor\n",
    "        else:\n",
    "            return False\n",
    "\n",
    "    return True\n",
    "\n",
    "\n",
    "input_number =32\n",
    "isPowerofTwo = powerofTwo(input_number)\n",
    "print(\"Is the number power of two:\", isPowerofTwo)"
   ]
  },
  {
   "cell_type": "markdown",
   "id": "c624988f-800d-4859-9436-69fe2b080784",
   "metadata": {},
   "source": [
    "## Q25 merge two sorted lists"
   ]
  },
  {
   "cell_type": "code",
   "execution_count": 30,
   "id": "03814e87-2253-492d-8a6d-f14d1efe16e5",
   "metadata": {},
   "outputs": [
    {
     "name": "stdout",
     "output_type": "stream",
     "text": [
      "[1, 2, 3, 4, 5, 6, 7, 8, 10, 11]\n"
     ]
    }
   ],
   "source": [
    "def mergeTwoSortedLists(l1,l2):\n",
    "    merged_list=[]\n",
    "    i=0\n",
    "    j=0\n",
    "    while i<len(l1) and j<len(l2):\n",
    "        if l1[i]< l2[j]:\n",
    "            merged_list.append(l1[i])\n",
    "            i +=1\n",
    "        else:\n",
    "            merged_list.append(l2[j])\n",
    "            j +=1\n",
    "            \n",
    "    #return merged_list\n",
    "    merged_list.extend(list1[i:])\n",
    "    merged_list.extend(list2[j:])\n",
    "    return merged_list\n",
    "\n",
    "list1 = [1, 3, 5, 7,11]\n",
    "list2 = [2, 4, 6, 8, 10]\n",
    "print(mergeTwoSortedLists(list1,list2))"
   ]
  },
  {
   "cell_type": "markdown",
   "id": "f9523a2c-7fc3-4c38-8b3c-576ff0088407",
   "metadata": {},
   "source": [
    "## Q26 Implement a function to find the mode of a list of numbers"
   ]
  },
  {
   "cell_type": "code",
   "execution_count": 33,
   "id": "b74e8c67-e0e1-4c4c-a007-d2415b5f148d",
   "metadata": {},
   "outputs": [
    {
     "name": "stdout",
     "output_type": "stream",
     "text": [
      "2\n"
     ]
    }
   ],
   "source": [
    "def mode(li):\n",
    "    freq = {}\n",
    "    \n",
    "    for i in li:\n",
    "        freq[i] = freq.get(i,0) + 1\n",
    "\n",
    "    modal_val = max(freq.values())\n",
    "    mode = [key for key,val in freq.items() if val == modal_val]\n",
    "    print(mode[0])\n",
    "\n",
    "mode([1,1,2,2,2,3,4,5])"
   ]
  },
  {
   "cell_type": "markdown",
   "id": "aa34155f-e0c1-4d6f-b6d6-de8fe21f64b7",
   "metadata": {},
   "source": [
    "## Q27 Write a program to find the greatest common divisor (GCD) of two numbers."
   ]
  },
  {
   "cell_type": "code",
   "execution_count": 39,
   "id": "6d9b0087-44d7-4e81-9311-953f815d8ac2",
   "metadata": {},
   "outputs": [
    {
     "name": "stdout",
     "output_type": "stream",
     "text": [
      "3\n"
     ]
    }
   ],
   "source": [
    "def getGCD(a,b):\n",
    "    gcd=1\n",
    "    if a<b:\n",
    "        smaller=a\n",
    "    else:\n",
    "        smaller=b\n",
    "\n",
    "    for i in range (1,smaller+1):\n",
    "        if (a%i==0) and (b%i==0):\n",
    "            hcf=i\n",
    "            \n",
    "    return hcf\n",
    "\n",
    "print(getGCD(12,3))"
   ]
  },
  {
   "cell_type": "markdown",
   "id": "649327ea-fedb-45f7-85bd-4bbaba83ed31",
   "metadata": {},
   "source": [
    "## Q28 Implement a function to calculate the square root of a given number"
   ]
  },
  {
   "cell_type": "code",
   "execution_count": 40,
   "id": "5ced1b7e-251a-40e4-89fd-156625c5be69",
   "metadata": {},
   "outputs": [],
   "source": [
    "import math"
   ]
  },
  {
   "cell_type": "code",
   "execution_count": 42,
   "id": "827de593-00ad-41c3-a2ad-81b2e62eb512",
   "metadata": {},
   "outputs": [
    {
     "name": "stdout",
     "output_type": "stream",
     "text": [
      "13.0\n"
     ]
    }
   ],
   "source": [
    "def sqroot(num):\n",
    "    if num>=0:\n",
    "        return math.sqrt(num)\n",
    "    else:\n",
    "        raise ValueError(\"Cannot return the square root of a negative number\")\n",
    "\n",
    "print(sqroot(169))"
   ]
  },
  {
   "cell_type": "markdown",
   "id": "b12c536b-04dc-4428-af53-909945b1cd4b",
   "metadata": {},
   "source": [
    "## Q29 palindrome string ignoring non-alphanumeric chars"
   ]
  },
  {
   "cell_type": "code",
   "execution_count": 3,
   "id": "6cbe70ee-0b03-47a1-a1c9-89abe11100b3",
   "metadata": {},
   "outputs": [
    {
     "name": "stdout",
     "output_type": "stream",
     "text": [
      "The string is a valid palindrome.\n"
     ]
    }
   ],
   "source": [
    "import re\n",
    "\n",
    "def checkpalindrome(string):\n",
    "    alphanum_str = re.sub(r'[^a-zA-Z0-9]', '', string.lower())\n",
    "\n",
    "    left = 0\n",
    "    right = len(alphanum_str) - 1\n",
    "\n",
    "    while left < right:\n",
    "        if alphanum_str[left] != alphanum_str[right]:\n",
    "            return False\n",
    "        left += 1\n",
    "        right -= 1\n",
    "\n",
    "    return True\n",
    "\n",
    "str = \"Mal,aya;l,,am\"\n",
    "if checkpalindrome(str):\n",
    "    print(\"The string is a valid palindrome.\")\n",
    "else:\n",
    "    print(\"The string is not a valid palindrome.\")\n"
   ]
  },
  {
   "cell_type": "markdown",
   "id": "f2af784d-7356-4e1b-bf09-898d64cab579",
   "metadata": {},
   "source": [
    "## Q30 "
   ]
  },
  {
   "cell_type": "code",
   "execution_count": 6,
   "id": "475ed044-3a27-40cc-9568-46f51fd28c30",
   "metadata": {},
   "outputs": [
    {
     "name": "stdout",
     "output_type": "stream",
     "text": [
      "Min element is: 1\n"
     ]
    }
   ],
   "source": [
    "def find_minimum(nums):\n",
    "    left = 0\n",
    "    right = len(nums) - 1\n",
    "\n",
    "    while left < right:\n",
    "        mid = (left + right) // 2\n",
    "\n",
    "        if nums[mid] > nums[right]:\n",
    "            left = mid + 1\n",
    "        elif nums[mid] < nums[right]:\n",
    "            right = mid\n",
    "        else:\n",
    "            right -= 1\n",
    "\n",
    "    return nums[left]\n",
    "\n",
    "\n",
    "rotated_list = [4, 5, 6, 1, 2,3]\n",
    "min_element = find_minimum(rotated_list)\n",
    "print(\"Min element is:\", min_element)\n"
   ]
  },
  {
   "cell_type": "code",
   "execution_count": null,
   "id": "2bd7bd18-c441-4dcb-b67a-efd5b24db700",
   "metadata": {},
   "outputs": [],
   "source": []
  },
  {
   "cell_type": "markdown",
   "id": "083a52a9-4b02-494b-b4d2-25233b155bf5",
   "metadata": {},
   "source": [
    "## Q31 Write a program to find the sum of all even numbers in a list"
   ]
  },
  {
   "cell_type": "code",
   "execution_count": 9,
   "id": "28853a42-4bcb-464d-9399-0d7a5b51dc8a",
   "metadata": {},
   "outputs": [
    {
     "name": "stdout",
     "output_type": "stream",
     "text": [
      "12\n"
     ]
    }
   ],
   "source": [
    "def sumEvenNumbers(li):\n",
    "    li_even = list(filter(lambda x: x%2==0, li))    \n",
    "    print(sum(li_even))\n",
    "    \n",
    "li = [4, 5, 6, 1, 2,3]\n",
    "sumEvenNumbers(li)"
   ]
  },
  {
   "cell_type": "markdown",
   "id": "1142ecb3-cab1-445e-9d63-4ac6d9d5e389",
   "metadata": {},
   "source": [
    "## Q32 Implement a function to calculate the power of a number using recursion"
   ]
  },
  {
   "cell_type": "code",
   "execution_count": 14,
   "id": "630d387b-f79e-46f8-8c49-222f0db21e35",
   "metadata": {},
   "outputs": [
    {
     "name": "stdout",
     "output_type": "stream",
     "text": [
      "8\n"
     ]
    }
   ],
   "source": [
    "def recursionPower(num,p):\n",
    "    if p>0:\n",
    "        return num* recursionPower(num,p-1)\n",
    "    else:\n",
    "        return 1\n",
    "\n",
    "print(recursionPower(2,3))"
   ]
  },
  {
   "cell_type": "markdown",
   "id": "838dd3f1-94d5-44e3-8ce1-b01d5f250780",
   "metadata": {},
   "source": [
    "## Q33 Write a Python program to remove duplicates from a list while preserving the order"
   ]
  },
  {
   "cell_type": "code",
   "execution_count": 16,
   "id": "2c25ae87-127e-4112-bcbb-9197abd0cfd5",
   "metadata": {},
   "outputs": [
    {
     "name": "stdout",
     "output_type": "stream",
     "text": [
      "The list without duplicates is : [1, 2, 3, 4, 5]\n"
     ]
    }
   ],
   "source": [
    "def remove_duplicates(li):\n",
    "    set1 = set()\n",
    "\n",
    "    noDupList = []\n",
    "\n",
    "    for item in li:\n",
    "        if item not in set1:\n",
    "            set1.add(item)\n",
    "            noDupList.append(item)\n",
    "\n",
    "    return noDupList\n",
    "\n",
    "li = [1, 2, 3, 2, 4, 1, 5, 2, 4, 2]\n",
    "result = remove_duplicates(li)\n",
    "print(\"The list without duplicates is :\", result)\n"
   ]
  },
  {
   "cell_type": "markdown",
   "id": "ff8a57d7-00ad-4050-88db-5ebd00b57936",
   "metadata": {},
   "source": [
    "## Q35 check if a number is a perfect square"
   ]
  },
  {
   "cell_type": "code",
   "execution_count": 17,
   "id": "e0d6cbcc-43c9-4dac-a47f-ee0a927c32ac",
   "metadata": {},
   "outputs": [
    {
     "name": "stdout",
     "output_type": "stream",
     "text": [
      "Is a perfect square :  True\n"
     ]
    }
   ],
   "source": [
    "import math\n",
    "\n",
    "def checkPerfectSquare(num):\n",
    "    sqroot = math.sqrt(num)\n",
    "    return sqroot == int(sqroot)\n",
    "\n",
    "print(\"Is a perfect square : \",checkPerfectSquare(25))\n"
   ]
  },
  {
   "cell_type": "markdown",
   "id": "eb9405ae-2a89-4151-a5ba-506c47bd2901",
   "metadata": {},
   "source": [
    "## Q36 Implement a function to calculate the product of all elements in a list"
   ]
  },
  {
   "cell_type": "code",
   "execution_count": 20,
   "id": "6d236162-a99d-4964-ab38-1eda6ff74fdd",
   "metadata": {},
   "outputs": [
    {
     "name": "stdout",
     "output_type": "stream",
     "text": [
      "Product of elements: 24\n"
     ]
    }
   ],
   "source": [
    "from functools import reduce\n",
    "\n",
    "def product_listelements(lst):\n",
    "    prod = reduce(lambda x, y: x * y, lst)\n",
    "    return prod\n",
    "\n",
    "li = [1, 2, 3, 4]\n",
    "result = product_listelements(li)\n",
    "print(\"Product of elements:\", result)"
   ]
  },
  {
   "cell_type": "markdown",
   "id": "28770823-abbc-49fb-b584-ee28973399b9",
   "metadata": {},
   "source": [
    "## Q37 Write a Python program to reverse the order of words in a sentence while preserving the word order"
   ]
  },
  {
   "cell_type": "code",
   "execution_count": 22,
   "id": "2b07d20a-d008-4f80-befa-384d8f270e5b",
   "metadata": {},
   "outputs": [
    {
     "name": "stdout",
     "output_type": "stream",
     "text": [
      "you? are How\n"
     ]
    }
   ],
   "source": [
    "def reverserOrder(sentence):\n",
    "    list_words = sentence.split()\n",
    "    print(\" \".join(list_words[::-1]))\n",
    "\n",
    "reverserOrder('How are you?')"
   ]
  },
  {
   "cell_type": "markdown",
   "id": "ee73878b-1a79-4518-9e37-d3902a56f688",
   "metadata": {},
   "source": [
    "## Q38 Implement a function to find the missing number in a given list of consecutive numbers"
   ]
  },
  {
   "cell_type": "code",
   "execution_count": 24,
   "id": "6033f62e-d247-4141-903f-c50970c75057",
   "metadata": {},
   "outputs": [
    {
     "name": "stdout",
     "output_type": "stream",
     "text": [
      "missing_num: 5\n"
     ]
    }
   ],
   "source": [
    "def findmissingnum(nums):\n",
    "    total_sum = sum(range(nums[0], nums[-1] + 1))\n",
    "    list_sum = sum(nums)\n",
    "\n",
    "    missing_number = total_sum - list_sum\n",
    "\n",
    "    return missing_number\n",
    "\n",
    "\n",
    "li = [1, 2, 3, 4, 6, 7, 8]\n",
    "missing_num = findmissingnum(li)\n",
    "print(\"missing_num:\", missing_num)\n"
   ]
  },
  {
   "cell_type": "markdown",
   "id": "c5acd9eb-6574-4dc6-84d2-6d050ebdacc1",
   "metadata": {},
   "source": [
    "## Q39 Write a program to find the sum of digits of a given number"
   ]
  },
  {
   "cell_type": "code",
   "execution_count": 25,
   "id": "21349555-5f0d-4cd8-bc93-5bfca7ca5ed3",
   "metadata": {},
   "outputs": [
    {
     "data": {
      "text/plain": [
       "6"
      ]
     },
     "execution_count": 25,
     "metadata": {},
     "output_type": "execute_result"
    }
   ],
   "source": [
    "def sumofdigits(num):\n",
    "    sum=0\n",
    "    while num >0:\n",
    "        sum += num%10\n",
    "        num= num//10\n",
    "    return sum\n",
    "\n",
    "sumofdigits(123)"
   ]
  },
  {
   "cell_type": "markdown",
   "id": "24f2f248-9291-4c12-9eb9-d247391c75d3",
   "metadata": {},
   "source": [
    "## Q40 Repeat "
   ]
  },
  {
   "cell_type": "code",
   "execution_count": null,
   "id": "de120ede-711b-42f2-a455-492b75c073e2",
   "metadata": {},
   "outputs": [],
   "source": [
    "## Q41 "
   ]
  },
  {
   "cell_type": "code",
   "execution_count": 3,
   "id": "552f6198-f48b-4226-9868-912153022578",
   "metadata": {},
   "outputs": [
    {
     "name": "stdout",
     "output_type": "stream",
     "text": [
      "Smallest missing positive integer: 3\n"
     ]
    }
   ],
   "source": [
    "def find_smallest_missing(nums):\n",
    "    n = len(nums)\n",
    "\n",
    "    for i in range(n):\n",
    "        while 1 <= nums[i] <= n and nums[i] != nums[nums[i] - 1]:\n",
    "            nums[nums[i] - 1], nums[i] = nums[i], nums[nums[i] - 1]\n",
    "\n",
    "    for i in range(n):\n",
    "        if nums[i] != i + 1:\n",
    "            return i + 1\n",
    "\n",
    "    return n + 1\n",
    "\n",
    "\n",
    "li = [2, 4, -1, 1]\n",
    "smallest_missing_number = find_smallest_missing(li)\n",
    "print(\"Smallest missing positive integer:\", smallest_missing_number)\n"
   ]
  },
  {
   "cell_type": "markdown",
   "id": "ff345b1b-eb61-4dd5-9693-b3f99d1a6fd5",
   "metadata": {},
   "source": [
    "## Q43 Write a program to find the number of occurrences of a given element in a list"
   ]
  },
  {
   "cell_type": "code",
   "execution_count": 4,
   "id": "a8f88208-9410-4400-b2ca-a69fa35d0538",
   "metadata": {},
   "outputs": [
    {
     "name": "stdout",
     "output_type": "stream",
     "text": [
      "4\n"
     ]
    }
   ],
   "source": [
    "def frequency_number(li,num):\n",
    "    return li.count(num)\n",
    "\n",
    "print(frequency_number([1, 2, 3, 4, 2, 2, 3, 1, 2],2))"
   ]
  },
  {
   "cell_type": "markdown",
   "id": "e5e7d7d0-d792-4839-995b-f7738ec5e547",
   "metadata": {},
   "source": [
    "## Q44 Implement a function to check if a given number is a perfect number"
   ]
  },
  {
   "cell_type": "code",
   "execution_count": 9,
   "id": "3454d043-10f8-4808-80cc-f31829865f2e",
   "metadata": {},
   "outputs": [
    {
     "name": "stdout",
     "output_type": "stream",
     "text": [
      "True\n"
     ]
    }
   ],
   "source": [
    "def isPerfect(num):\n",
    "    sum = 0\n",
    "    for i in range(1,num//2 +1):\n",
    "        if num %i==0:\n",
    "            sum +=i\n",
    "    return sum==num\n",
    "\n",
    "print(isPerfect(6))"
   ]
  },
  {
   "cell_type": "markdown",
   "id": "002861d2-a1e2-481f-8ac7-7d2f944123dc",
   "metadata": {},
   "source": [
    "## Q45 Write a Python program to remove all duplicates from a string"
   ]
  },
  {
   "cell_type": "code",
   "execution_count": 11,
   "id": "362ae784-e46c-44e3-913e-192b4c10342f",
   "metadata": {},
   "outputs": [
    {
     "name": "stdout",
     "output_type": "stream",
     "text": [
      "Hlorewu?ya \n"
     ]
    }
   ],
   "source": [
    "str = 'Hello How are you?'\n",
    "noDup = set(str)\n",
    "print(''.join(noDup))"
   ]
  },
  {
   "cell_type": "markdown",
   "id": "4b09dd00-3dd9-4d27-bbaa-2d51a60ff4e7",
   "metadata": {},
   "source": [
    "## Q46 "
   ]
  },
  {
   "cell_type": "code",
   "execution_count": 12,
   "id": "94a939e6-a558-4e51-99b0-4cfe700e7ea8",
   "metadata": {},
   "outputs": [
    {
     "name": "stdout",
     "output_type": "stream",
     "text": [
      "First missing positive integer is: 3\n"
     ]
    }
   ],
   "source": [
    "def firstmissing(nums):\n",
    "    n = len(nums)\n",
    "\n",
    "    for i in range(n):\n",
    "        while 1 <= nums[i] <= n and nums[i] != nums[nums[i] - 1]:\n",
    "            nums[nums[i] - 1], nums[i] = nums[i], nums[nums[i] - 1]\n",
    "\n",
    "    for i in range(n):\n",
    "        if nums[i] != i + 1:\n",
    "            return i + 1\n",
    "\n",
    "    return n + 1\n",
    "\n",
    "\n",
    "li = [2, 4, -1, 1]\n",
    "firstmissing_number = firstmissing(li)\n",
    "print(\"First missing positive integer is:\", firstmissing_number)"
   ]
  },
  {
   "cell_type": "code",
   "execution_count": null,
   "id": "0622b6e0-01c8-4589-9f06-b7d5fb73a7a3",
   "metadata": {},
   "outputs": [],
   "source": []
  }
 ],
 "metadata": {
  "kernelspec": {
   "display_name": "Python 3 (ipykernel)",
   "language": "python",
   "name": "python3"
  },
  "language_info": {
   "codemirror_mode": {
    "name": "ipython",
    "version": 3
   },
   "file_extension": ".py",
   "mimetype": "text/x-python",
   "name": "python",
   "nbconvert_exporter": "python",
   "pygments_lexer": "ipython3",
   "version": "3.10.9"
  }
 },
 "nbformat": 4,
 "nbformat_minor": 5
}
