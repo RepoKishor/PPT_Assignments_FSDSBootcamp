{
 "cells": [
  {
   "cell_type": "markdown",
   "id": "d5c6d11e-ddb7-4936-9d88-518a07ecf153",
   "metadata": {},
   "source": [
    "## Q1"
   ]
  },
  {
   "cell_type": "code",
   "execution_count": 4,
   "id": "560af23f-0fff-4719-9275-3d141e3a527d",
   "metadata": {},
   "outputs": [],
   "source": [
    "# defining the basic methods for stack\n",
    "def prepareStack():\n",
    "    stack = []\n",
    "    return stack\n",
    " \n",
    " \n",
    "def isEmpty(stack):\n",
    "    return len(stack) == 0\n",
    " \n",
    " \n",
    "def push(stack, e):\n",
    "    stack.append(e)\n",
    " \n",
    " \n",
    "def pop(stack):\n",
    "    if isEmpty(stack):\n",
    "        print(\"Stack underflow\")\n",
    "    else:\n",
    "        return stack.pop()\n"
   ]
  },
  {
   "cell_type": "code",
   "execution_count": 26,
   "id": "9a34e124-3136-4c54-a7b3-6e734d875643",
   "metadata": {},
   "outputs": [],
   "source": [
    "def nextGreaterElement(arr):\n",
    "    stack = prepareStack()\n",
    "    next=0\n",
    "    push(stack,arr[0])\n",
    "    for i in range(1,len(arr)):\n",
    "        next=arr[i]\n",
    "        n=pop(stack)\n",
    "        while(n<next):\n",
    "            print(str(next))\n",
    "            if isEmpty(stack)==True:\n",
    "                break\n",
    "            n=pop(stack)\n",
    "        if(n>next):\n",
    "            push(stack,n)\n",
    "            #print('stack is', stack)\n",
    "\n",
    "        push(stack,next)\n",
    "    #print('stack is', stack)\n",
    "    while isEmpty(stack) == False:\n",
    "        element = pop(stack)\n",
    "        next = -1\n",
    "        print(str(next))\n",
    "        "
   ]
  },
  {
   "cell_type": "code",
   "execution_count": 27,
   "id": "ec234ddb-e783-47e8-9b4e-04f6cc462024",
   "metadata": {},
   "outputs": [
    {
     "name": "stdout",
     "output_type": "stream",
     "text": [
      "3\n",
      "4\n",
      "4\n",
      "-1\n"
     ]
    }
   ],
   "source": [
    "arr=[1, 3, 2, 4]\n",
    "nextGreaterElement(arr)"
   ]
  },
  {
   "cell_type": "markdown",
   "id": "7ffa184d-0d9c-4efa-abf5-ab0136b94115",
   "metadata": {},
   "source": [
    "## Q2"
   ]
  },
  {
   "cell_type": "code",
   "execution_count": 52,
   "id": "149bec55-b6df-4bf9-b9ad-33831926d844",
   "metadata": {},
   "outputs": [],
   "source": [
    "def nearestSmallerNumber(arr):\n",
    "    n = len(arr)    \n",
    "    S = list() \n",
    "    for i in range(n):\n",
    "        while (len(S) > 0 and S[-1] >= arr[i]):\n",
    "            S.pop()\n",
    "        if (len(S) == 0):\n",
    "            print(\"-1 \")\n",
    "        else: \n",
    "            print(S[-1])\n",
    " \n",
    "        S.append(arr[i])"
   ]
  },
  {
   "cell_type": "code",
   "execution_count": 53,
   "id": "fd75f635-9c47-4106-af58-d922acd8f417",
   "metadata": {},
   "outputs": [
    {
     "name": "stdout",
     "output_type": "stream",
     "text": [
      "-1 \n",
      "1\n",
      "-1 \n",
      "0\n",
      "3\n",
      "4\n"
     ]
    }
   ],
   "source": [
    "nearestSmallerNumber([1, 5, 0, 3, 4, 5])"
   ]
  },
  {
   "cell_type": "markdown",
   "id": "2c84823b-6234-43f0-8cc2-0c473fde6cea",
   "metadata": {},
   "source": [
    "## Q4"
   ]
  },
  {
   "cell_type": "code",
   "execution_count": 61,
   "id": "0fa070e7-3843-40da-9928-086e4642cbde",
   "metadata": {},
   "outputs": [],
   "source": [
    "# defining the basic methods for stack\n",
    "class Stack:\n",
    "    def __init__(self):\n",
    "        self.items = []\n",
    "\n",
    "    def is_empty(self):\n",
    "        return len(self.items) == 0\n",
    "\n",
    "    def push(self, item):\n",
    "        self.items.append(item)\n",
    "\n",
    "    def pop(self):\n",
    "        if not self.is_empty():\n",
    "            return self.items.pop()\n",
    "\n",
    "def reversestack(stack):\n",
    "    if not stack.is_empty():\n",
    "        item = stack.pop()\n",
    "        reversestack(stack)\n",
    "        insertatbottom(stack, item)\n",
    "\n",
    "\n",
    "def insertatbottom(stack, item):\n",
    "    if stack.is_empty():\n",
    "        stack.push(item)\n",
    "    else:\n",
    "        temp = stack.pop()\n",
    "        insertatbottom(stack, item)\n",
    "        stack.push(temp)"
   ]
  },
  {
   "cell_type": "code",
   "execution_count": 68,
   "id": "a47f2de2-fcd2-4317-8036-00cc5c6ce61f",
   "metadata": {},
   "outputs": [
    {
     "name": "stdout",
     "output_type": "stream",
     "text": [
      "After the reversal...\n",
      "3 2 1 7 6 "
     ]
    }
   ],
   "source": [
    "stack = Stack()\n",
    "stack.push(3)\n",
    "stack.push(2)\n",
    "stack.push(1)\n",
    "stack.push(7)\n",
    "stack.push(6)\n",
    "  \n",
    "reversestack(stack)\n",
    "print(\"After the reversal...\")\n",
    "while not stack.is_empty():\n",
    "    print(stack.pop(), end=\" \")"
   ]
  },
  {
   "cell_type": "markdown",
   "id": "a0e8ddca-3acd-42e8-a1ce-c6b0819cc11c",
   "metadata": {},
   "source": [
    "## Q5."
   ]
  },
  {
   "cell_type": "code",
   "execution_count": 69,
   "id": "fad5f149-9a75-4265-9a56-1ba1cfdb8144",
   "metadata": {},
   "outputs": [],
   "source": [
    "class Stack:\n",
    "    def __init__(self):\n",
    "        self.items = []\n",
    "\n",
    "    def is_empty(self):\n",
    "        return len(self.items) == 0\n",
    "\n",
    "    def push(self, item):\n",
    "        self.items.append(item)\n",
    "\n",
    "    def pop(self):\n",
    "        if not self.is_empty():\n",
    "            return self.items.pop()"
   ]
  },
  {
   "cell_type": "code",
   "execution_count": 70,
   "id": "4dc96db3-153e-40e0-babe-9b699d617dc5",
   "metadata": {},
   "outputs": [],
   "source": [
    "stack = Stack()\n",
    "def reverseString(str):\n",
    "    for char in str:\n",
    "        stack.push(char)      "
   ]
  },
  {
   "cell_type": "code",
   "execution_count": 71,
   "id": "8bb866ec-ec2a-42a0-8bbd-dd4d5cccbd24",
   "metadata": {},
   "outputs": [
    {
     "name": "stdout",
     "output_type": "stream",
     "text": [
      "s k e e G r o f s k e e G "
     ]
    }
   ],
   "source": [
    "reverseString(\"GeeksforGeeks\")\n",
    "while not stack.is_empty():\n",
    "    print(stack.pop(), end=\" \")"
   ]
  },
  {
   "cell_type": "markdown",
   "id": "ae5d39e4-0033-4503-a7a8-812546905fc7",
   "metadata": {},
   "source": [
    "## Q6"
   ]
  },
  {
   "cell_type": "code",
   "execution_count": 74,
   "id": "c9f17765-f3a1-4f69-9425-cc34fe69edce",
   "metadata": {},
   "outputs": [],
   "source": [
    "class Stack:\n",
    "    def __init__(self):\n",
    "        self.items = []\n",
    "\n",
    "    def is_empty(self):\n",
    "        return len(self.items) == 0\n",
    "\n",
    "    def push(self, item):\n",
    "        self.items.append(item)\n",
    "\n",
    "    def pop(self):\n",
    "        if not self.is_empty():\n",
    "            return self.items.pop()\n",
    "\n",
    "    def peek(self):\n",
    "        if not self.is_empty():\n",
    "            return self.items[-1]\n",
    "\n",
    "    def size(self):\n",
    "        return len(self.items)\n",
    "\n",
    "def evaluatePostfix(stack, exp):\n",
    "\n",
    "    for i in exp: \n",
    "        if i.isdigit():\n",
    "            stack.push(str(i))\n",
    "        else:\n",
    "            val1 = stack.pop()\n",
    "            val2 = stack.pop()\n",
    "            stack.push(str(eval(val2 + i + val1)))\n",
    "\n",
    "    return int(stack.pop())"
   ]
  },
  {
   "cell_type": "code",
   "execution_count": 77,
   "id": "c0988a8e-e770-4f31-9d0f-72ef25256e7f",
   "metadata": {},
   "outputs": [
    {
     "name": "stdout",
     "output_type": "stream",
     "text": [
      "Evaluated expression is : -3\n"
     ]
    }
   ],
   "source": [
    "stack = Stack()\n",
    "expression = \"123+*8-\"\n",
    "print(\"Evaluated expression is :\",evaluatePostfix(stack,expression))"
   ]
  },
  {
   "cell_type": "markdown",
   "id": "76ee2796-c197-4ccf-a96a-fb3ccfecd752",
   "metadata": {},
   "source": [
    "## Q8"
   ]
  },
  {
   "cell_type": "code",
   "execution_count": 102,
   "id": "73774794-4e0a-48ed-88ca-494a1fa205dd",
   "metadata": {},
   "outputs": [
    {
     "name": "stdout",
     "output_type": "stream",
     "text": [
      "Minimum is : -4\n",
      "5\n",
      "0\n",
      "-4\n",
      "Minimum is : -1\n"
     ]
    }
   ],
   "source": [
    "class MinStack:\n",
    "   \n",
    "    # initialize your data structure here.\n",
    "    def __init__(self):\n",
    "        self.s = []\n",
    " \n",
    "    class Node:\n",
    "        def __init__(self, val, Min):\n",
    "            self.val = val\n",
    "            self.min = Min\n",
    " \n",
    "    def push(self, x):\n",
    "        if not self.s:\n",
    "            self.s.append(self.Node(x, x))\n",
    "        else:\n",
    "            Min = min(self.s[-1].min, x)\n",
    "            self.s.append(self.Node(x, Min))\n",
    " \n",
    "    def pop(self):\n",
    "        return self.s.pop().val\n",
    " \n",
    "    def top(self):\n",
    "        return self.s[-1].val\n",
    " \n",
    "    def getMin(self):\n",
    "        return self.s[-1].min\n",
    " \n",
    "s = MinStack()\n",
    " \n",
    "# Function calls\n",
    "s.push(-1)\n",
    "s.push(10)\n",
    "s.push(-4)\n",
    "s.push(0)\n",
    "s.push(5)\n",
    "print(\"Minimum is :\",s.getMin())\n",
    "print(s.pop())\n",
    "print(s.pop())\n",
    "print(s.pop())\n",
    "print(\"Minimum is :\",s.getMin())"
   ]
  },
  {
   "cell_type": "code",
   "execution_count": null,
   "id": "d1b72f57-e482-41e3-91a8-8d1a90867056",
   "metadata": {},
   "outputs": [],
   "source": []
  }
 ],
 "metadata": {
  "kernelspec": {
   "display_name": "Python 3 (ipykernel)",
   "language": "python",
   "name": "python3"
  },
  "language_info": {
   "codemirror_mode": {
    "name": "ipython",
    "version": 3
   },
   "file_extension": ".py",
   "mimetype": "text/x-python",
   "name": "python",
   "nbconvert_exporter": "python",
   "pygments_lexer": "ipython3",
   "version": "3.10.9"
  }
 },
 "nbformat": 4,
 "nbformat_minor": 5
}
