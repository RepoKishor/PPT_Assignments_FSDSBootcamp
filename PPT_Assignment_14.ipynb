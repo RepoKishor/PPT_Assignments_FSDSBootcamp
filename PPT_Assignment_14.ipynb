{
 "cells": [
  {
   "cell_type": "markdown",
   "id": "4572b5ce-82ca-4352-8751-5f49c49afa1a",
   "metadata": {},
   "source": [
    "## Q1. Given a linked list of N nodes such that it may contain a loop. Remove the loop from the linked list, if it is present"
   ]
  },
  {
   "cell_type": "code",
   "execution_count": 58,
   "id": "b337f948-7212-4af0-912c-0d5642cd4048",
   "metadata": {},
   "outputs": [],
   "source": [
    "class Node:\n",
    "     def __init__(self, data):\n",
    "        self.data = data\n",
    "        self.next = None\n",
    "class LinkedList:\n",
    "\n",
    "    def __init__(self):\n",
    "        self.head = None\n",
    " \n",
    "    def detectAndRemoveLoop(self): \n",
    "      if self.head is None:\n",
    "          return None\n",
    "      if self.head.next is None:\n",
    "          return None\n",
    "      slow = self.head\n",
    "      fast = self.head\n",
    "          \n",
    "      while(slow and fast and fast.next):\n",
    "          slow = slow.next\n",
    "          fast = fast.next.next\n",
    " \n",
    "          if slow == fast:\n",
    "                print(\"loop found\",slow.data, fast.data)\n",
    "                #print(fast.next.data)\n",
    "                slow = self.head\n",
    "            \n",
    "                while (slow.next != fast.next):\n",
    "                    slow = slow.next\n",
    "                    fast = fast.next\n",
    " \n",
    "                fast.next = None\n",
    "                return slow\n",
    "         \n",
    "\n",
    "    def printList(self):\n",
    "        temp = self.head\n",
    "        while(temp):\n",
    "            print(temp.data, end = ' ')\n",
    "            temp = temp.next\n",
    " "
   ]
  },
  {
   "cell_type": "code",
   "execution_count": 60,
   "id": "22c3b92a-c2d0-4f59-b7e2-0dd46027a7ce",
   "metadata": {},
   "outputs": [
    {
     "name": "stdout",
     "output_type": "stream",
     "text": [
      "loop found 4 4\n",
      "Linked List now is :  1\n"
     ]
    }
   ],
   "source": [
    " \n",
    "llist = LinkedList()\n",
    "llist.head = Node(1)\n",
    "llist.head.next = Node(3)\n",
    "llist.head.next.next = Node(4)\n",
    "llist.head.next.next.next = llist.head.next\n",
    "\n",
    "head = llist.detectAndRemoveLoop()\n",
    "\n",
    "print(\"Linked List now is : \",head.data)"
   ]
  },
  {
   "cell_type": "markdown",
   "id": "fe935415-1aca-4060-a8dd-4aca738f887d",
   "metadata": {},
   "source": [
    "## Q2 A number N is represented in Linked List such that each digit corresponds to a node in linked list. You need to add 1 to it."
   ]
  },
  {
   "cell_type": "code",
   "execution_count": 70,
   "id": "de439a8c-3739-4147-ab6f-494a287c5164",
   "metadata": {},
   "outputs": [],
   "source": [
    "class ListNode:\n",
    "    def __init__(self, val=\"\", next=None):\n",
    "        self.val = val\n",
    "        self.next = next\n",
    "\n",
    "def addOneToThelist(head):\n",
    "    liststr = \"\"\n",
    "    curr = head\n",
    "\n",
    "    while curr:\n",
    "        liststr += curr.val\n",
    "        curr = curr.next\n",
    "\n",
    "    print(int(liststr)+1)\n"
   ]
  },
  {
   "cell_type": "code",
   "execution_count": 69,
   "id": "c8aebd81-f264-4759-bb74-e98d8f1a303a",
   "metadata": {},
   "outputs": [
    {
     "name": "stdout",
     "output_type": "stream",
     "text": [
      "460\n"
     ]
    }
   ],
   "source": [
    "head = ListNode(\"4\")\n",
    "head.next = ListNode(\"5\")\n",
    "head.next.next = ListNode(\"9\")\n",
    "addOneToThelist(head)"
   ]
  },
  {
   "cell_type": "markdown",
   "id": "27a7eef9-7394-4234-b855-9c95b8a50ed8",
   "metadata": {},
   "source": [
    "## Q5.  Given the `head` of a singly linked list, group all the nodes with odd indices together followed by the nodes with even indices, and return *the reordered list*.\n",
    "\n",
    "The **first** node is considered **odd**, and the **second** node is **even**, and so on."
   ]
  },
  {
   "cell_type": "code",
   "execution_count": 87,
   "id": "f2ef2436-18b5-4b07-9ad5-6fa82bf2ecc8",
   "metadata": {},
   "outputs": [],
   "source": [
    "class ListNode:\n",
    "    def __init__(self, val=0, next=None):\n",
    "        self.val = val\n",
    "        self.next = next\n",
    "\n",
    "def odd_even_alternate(head):\n",
    "    if not head or not head.next:\n",
    "        return head\n",
    "\n",
    "    odd_head = head\n",
    "    even_head = head.next\n",
    "\n",
    "    odd_curr = odd_head\n",
    "    even_curr = even_head\n",
    "\n",
    "    while even_curr and even_curr.next:\n",
    "        odd_curr.next = even_curr.next\n",
    "        odd_curr = odd_curr.next\n",
    "\n",
    "        even_curr.next = odd_curr.next\n",
    "        even_curr = even_curr.next\n",
    "\n",
    "    odd_curr.next = even_head\n",
    "\n",
    "    return odd_head\n"
   ]
  },
  {
   "cell_type": "code",
   "execution_count": 88,
   "id": "0ce5290e-01d8-4f0c-ac0e-e8fc2e389444",
   "metadata": {},
   "outputs": [
    {
     "name": "stdout",
     "output_type": "stream",
     "text": [
      "1>3>5>2>4>"
     ]
    }
   ],
   "source": [
    "head = ListNode(1)\n",
    "head.next = ListNode(2)\n",
    "head.next.next = ListNode(3)\n",
    "head.next.next.next = ListNode(4)\n",
    "head.next.next.next.next = ListNode(5)\n",
    "\n",
    "newhead = odd_even_alternate(head)\n",
    "while newhead:\n",
    "    print(newhead.val, end=\">\")\n",
    "    newhead = newhead.next"
   ]
  },
  {
   "cell_type": "markdown",
   "id": "204e3ca9-b750-4af6-b5d4-ec362f99c54b",
   "metadata": {},
   "source": [
    "## Q6. Given a singly linked list of size N. The task is to left-shift the linked list by k nodes, where k is a given positive integer smaller than or equal to length of the linked list."
   ]
  },
  {
   "cell_type": "code",
   "execution_count": 84,
   "id": "4a5193cb-2ada-4bcd-927f-bb9bfcb47eb3",
   "metadata": {},
   "outputs": [],
   "source": [
    "class ListNode:\n",
    "    def __init__(self, val=0, next=None):\n",
    "        self.val = val\n",
    "        self.next = next"
   ]
  },
  {
   "cell_type": "code",
   "execution_count": 114,
   "id": "7aa3fd3a-cac1-4500-a4a8-8b924c4a936b",
   "metadata": {},
   "outputs": [],
   "source": [
    "def leftshiftlinkedlist(head, k, length):\n",
    "    if not head or k == 0:\n",
    "        return head\n",
    "\n",
    "\n",
    "    if k == 0:\n",
    "        return head\n",
    "\n",
    "    # Find the (k+1)-th node from the beginning\n",
    "    slow = head\n",
    "    fast = head\n",
    "    for i in range(k):\n",
    "        fast = fast.next\n",
    "    #print(fast.val)\n",
    "    # Move both pointers until fast reaches the last node\n",
    "    while fast.next:\n",
    "        slow = slow.next\n",
    "        fast = fast.next\n",
    "\n",
    "    new_head = slow.next\n",
    "    slow.next = None\n",
    "    fast.next = head\n",
    "\n",
    "    return new_head\n"
   ]
  },
  {
   "cell_type": "code",
   "execution_count": 116,
   "id": "b5942a4f-94db-444a-9c21-3d4fd561e2f4",
   "metadata": {},
   "outputs": [
    {
     "name": "stdout",
     "output_type": "stream",
     "text": [
      "3 > 4 > 5 > 1 > 2 > None\n"
     ]
    }
   ],
   "source": [
    "head = ListNode(1)\n",
    "head.next = ListNode(2)\n",
    "head.next.next = ListNode(3)\n",
    "head.next.next.next = ListNode(4)\n",
    "head.next.next.next.next = ListNode(5)\n",
    "\n",
    "newhead = leftshiftlinkedlist(head, 3, 5)\n",
    "while newhead:\n",
    "    print(newhead.val, end=\" > \")\n",
    "    newhead = newhead.next\n",
    "print(\"None\")"
   ]
  },
  {
   "cell_type": "markdown",
   "id": "52f24308-8fa3-4efa-8342-4e4b695e0827",
   "metadata": {},
   "source": [
    "## Q8. Given the head of a linked list, we repeatedly delete consecutive sequences of nodes that sum to 0 until there are no such sequences.Given the head of a linked list, we repeatedly delete consecutive sequences of nodes that sum to 0 until there are no such sequences."
   ]
  },
  {
   "cell_type": "code",
   "execution_count": 143,
   "id": "8711caaa-9763-4819-a4cc-1b282736279f",
   "metadata": {},
   "outputs": [],
   "source": [
    "class ListNode:\n",
    "    def __init__(self, val=0, next=None):\n",
    "        self.val = val\n",
    "        self.next = next\n",
    "       \n",
    "def remove_zero_sum(head):\n",
    "    dummy = ListNode(0)\n",
    "    dummy.next = head\n",
    "    prefix_sum = 0\n",
    "    sum_map = {}\n",
    "    curr = dummy\n",
    "\n",
    "    while curr:\n",
    "        prefix_sum += curr.val\n",
    "        if prefix_sum in sum_map:\n",
    "            #print(\"IN If: \",sum_map[prefix_sum].val)\n",
    "            prev = sum_map[prefix_sum].next\n",
    "            #print(\"prev\",prev.val)\n",
    "            temp_sum = prefix_sum + prev.val\n",
    "            #print(\"temp_sum\",temp_sum, \"curr\",curr.val)\n",
    "            while prev != curr:\n",
    "                del sum_map[temp_sum]\n",
    "                prev = prev.next\n",
    "                temp_sum += prev.val\n",
    "\n",
    "            sum_map[prefix_sum].next = curr.next\n",
    "        else:\n",
    "            sum_map[prefix_sum] = curr\n",
    "            #print(\"IN else: \",sum_map[prefix_sum].val)\n",
    "        \n",
    "        curr = curr.next\n",
    "    return dummy.next"
   ]
  },
  {
   "cell_type": "code",
   "execution_count": 144,
   "id": "3c0821c3-d01b-4fb7-9954-df17b2f879d1",
   "metadata": {},
   "outputs": [
    {
     "name": "stdout",
     "output_type": "stream",
     "text": [
      "3 > 1 > None\n"
     ]
    }
   ],
   "source": [
    "head = ListNode(1)\n",
    "head.next = ListNode(2)\n",
    "head.next.next = ListNode(-3)\n",
    "head.next.next.next = ListNode(3)\n",
    "head.next.next.next.next = ListNode(1)\n",
    "newhead = remove_zero_sum(head)\n",
    "while newhead:\n",
    "    print(newhead.val, end=\" > \")\n",
    "    newhead = newhead.next\n",
    "print(\"None\")"
   ]
  },
  {
   "cell_type": "code",
   "execution_count": null,
   "id": "c2891a12-fb7b-40ad-a086-20417b65aaa0",
   "metadata": {},
   "outputs": [],
   "source": []
  }
 ],
 "metadata": {
  "kernelspec": {
   "display_name": "Python 3 (ipykernel)",
   "language": "python",
   "name": "python3"
  },
  "language_info": {
   "codemirror_mode": {
    "name": "ipython",
    "version": 3
   },
   "file_extension": ".py",
   "mimetype": "text/x-python",
   "name": "python",
   "nbconvert_exporter": "python",
   "pygments_lexer": "ipython3",
   "version": "3.10.9"
  }
 },
 "nbformat": 4,
 "nbformat_minor": 5
}
