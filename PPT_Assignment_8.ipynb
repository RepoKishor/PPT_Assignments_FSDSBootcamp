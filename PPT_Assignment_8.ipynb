{
 "cells": [
  {
   "cell_type": "markdown",
   "id": "966a88ee-8089-4303-8723-e92b05347e0c",
   "metadata": {},
   "source": [
    "Q5. Given an array of characters chars, compress it using the following algorithm"
   ]
  },
  {
   "cell_type": "code",
   "execution_count": 5,
   "id": "75a529cf-0d73-43cf-9d68-935fda3c0688",
   "metadata": {},
   "outputs": [],
   "source": [
    "def consecutiveRepeatingChars(s):\n",
    "    consecutive = \"\"\n",
    "    count = 1\n",
    "    n = len(s)\n",
    "\n",
    "    # Iterate through the characters of the string\n",
    "    for i in range(1, n + 1):\n",
    "        if i < n and s[i] == s[i - 1]:\n",
    "            count += 1\n",
    "        else:\n",
    "            consecutive += s[i - 1] + str(count)\n",
    "            count = 1\n",
    "\n",
    "    return consecutive"
   ]
  },
  {
   "cell_type": "markdown",
   "id": "e2bf49d5-760d-4337-877c-a189a2a98c3c",
   "metadata": {},
   "source": [
    "chars=[\"a\",\"a\",\"b\",\"b\",\"c\",\"c\",\"c\"]\n",
    "st=''\n",
    "for i in range(len(chars)):\n",
    "    st += chars[i]\n",
    "print(consecutiveRepeatingChars(st))"
   ]
  },
  {
   "cell_type": "markdown",
   "id": "e74a94b9-1c75-4ffb-8146-145774df0b36",
   "metadata": {},
   "source": [
    "#Q6"
   ]
  },
  {
   "cell_type": "code",
   "execution_count": 7,
   "id": "6693a85d-63c5-4c98-823f-0cffb83d6359",
   "metadata": {},
   "outputs": [],
   "source": [
    "def func_anagramIndices(s,p):\n",
    "    m=len(s)\n",
    "    n=len(p)\n",
    "    ind=[]\n",
    "    sorted_p=list(p)\n",
    "    sorted_p.sort()\n",
    "    sorted_p=''.join(i for i in sorted_p)\n",
    "    #print(sorted_p)\n",
    "    for i in range(m-(n-1)):\n",
    "        compare =s[i:i+n]\n",
    "        compare=list(compare)\n",
    "        compare.sort()\n",
    "        #print(compare)\n",
    "        compare=''.join(i for i in compare)\n",
    "        if sorted_p==compare:\n",
    "            ind.append(i)\n",
    "    return ind"
   ]
  },
  {
   "cell_type": "code",
   "execution_count": 8,
   "id": "0fb6dc4e-466e-44dd-adb6-19c497c4051f",
   "metadata": {},
   "outputs": [
    {
     "name": "stdout",
     "output_type": "stream",
     "text": [
      "[0, 6]\n"
     ]
    }
   ],
   "source": [
    "s= \"cbaebabacd\"\n",
    "p=\"bac\"\n",
    "print(func_anagramIndices(s,p))"
   ]
  },
  {
   "cell_type": "markdown",
   "id": "17ab8e4a-f848-4086-9d85-a3cd7565d748",
   "metadata": {},
   "source": [
    "#Q8 Given two strings s and goal, return true if you can swap two letters in s so the result is equal to goal, otherwise, return false"
   ]
  },
  {
   "cell_type": "code",
   "execution_count": 24,
   "id": "1b2464d9-f9ac-4a7a-8dba-c4fda7e142b5",
   "metadata": {},
   "outputs": [],
   "source": [
    "def swapGoalstrings(s, goal):\n",
    "    if len(s) != len(goal):\n",
    "        return False\n",
    "    \n",
    "    if s == goal:\n",
    "        duplicate = set()\n",
    "        for char in s:\n",
    "            if char in duplicate:\n",
    "                return True\n",
    "            duplicate.add(char)\n",
    "        return False \n",
    "    pairs = []  \n",
    "    for i in range(len(s)):\n",
    "        if s[i] != goal[i]:\n",
    "            pairs.append((s[i], goal[i]))\n",
    "            #print(pairs)\n",
    "            if len(pairs) > 2:\n",
    "                return False\n",
    "\n",
    "    if len(pairs) == 2:\n",
    "        return True"
   ]
  },
  {
   "cell_type": "code",
   "execution_count": 25,
   "id": "72e0f9c3-7451-41b0-9c14-3c7b0a4b6224",
   "metadata": {},
   "outputs": [
    {
     "name": "stdout",
     "output_type": "stream",
     "text": [
      "True\n"
     ]
    }
   ],
   "source": [
    "s = \"dbca\"\n",
    "goal = \"abcd\"\n",
    "print(swapGoalstrings(s, goal))"
   ]
  },
  {
   "cell_type": "code",
   "execution_count": 26,
   "id": "b2737e25-b6e9-45b2-9c45-fbf1a81f7371",
   "metadata": {},
   "outputs": [
    {
     "name": "stdout",
     "output_type": "stream",
     "text": [
      "True\n"
     ]
    }
   ],
   "source": [
    "s = \"ab\"\n",
    "goal = \"ba\"\n",
    "print(swapGoalstrings(s, goal))"
   ]
  },
  {
   "cell_type": "code",
   "execution_count": null,
   "id": "939a3993-c21b-4f3d-8008-a931281b5482",
   "metadata": {},
   "outputs": [],
   "source": []
  }
 ],
 "metadata": {
  "kernelspec": {
   "display_name": "Python 3 (ipykernel)",
   "language": "python",
   "name": "python3"
  },
  "language_info": {
   "codemirror_mode": {
    "name": "ipython",
    "version": 3
   },
   "file_extension": ".py",
   "mimetype": "text/x-python",
   "name": "python",
   "nbconvert_exporter": "python",
   "pygments_lexer": "ipython3",
   "version": "3.10.9"
  }
 },
 "nbformat": 4,
 "nbformat_minor": 5
}
