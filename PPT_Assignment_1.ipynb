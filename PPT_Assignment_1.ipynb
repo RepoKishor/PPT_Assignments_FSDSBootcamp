{
 "cells": [
  {
   "cell_type": "markdown",
   "id": "bf963de1-c9b5-46f7-b59c-79ac4c037156",
   "metadata": {},
   "source": [
    "Q1"
   ]
  },
  {
   "cell_type": "code",
   "execution_count": 52,
   "id": "e66e6ce6-ab79-4515-a087-01be9e4cddd7",
   "metadata": {},
   "outputs": [
    {
     "name": "stdout",
     "output_type": "stream",
     "text": [
      "0 2\n",
      "1 7\n",
      "temp_dict index:  0 1\n",
      "[0, 1]\n"
     ]
    }
   ],
   "source": [
    "def target_Indices(arr, target):\n",
    "    # temporary dictionary to store the difference from the target for each number\n",
    "    temp_dict = {}\n",
    "    for i, num in enumerate(arr):\n",
    "        print(i,num)\n",
    "        if (target - num) in temp_dict:\n",
    "            print(\"temp_dict index: \",temp_dict[(target - num)], i)\n",
    "            return [temp_dict[(target - num)], i]\n",
    "\n",
    "        temp_dict[num] = i\n",
    "    return []\n",
    "\n",
    "arr = [2, 7, 11, 15]\n",
    "target = 9\n",
    "indices = target_Indices(arr, target)\n",
    "print(indices)"
   ]
  },
  {
   "cell_type": "markdown",
   "id": "6268c44c-089e-4291-9b36-fa5bcd78b944",
   "metadata": {},
   "source": [
    "Q3."
   ]
  },
  {
   "cell_type": "code",
   "execution_count": 26,
   "id": "8451336c-147b-4fa9-9fd8-b720017dd103",
   "metadata": {},
   "outputs": [
    {
     "name": "stdout",
     "output_type": "stream",
     "text": [
      "middle 1\n",
      "middle 2\n",
      "middle 3\n",
      "4\n"
     ]
    }
   ],
   "source": [
    "# we are doing binary search to make the complexity = o(log n)\n",
    "def binsearch_insert_order(arr, target):\n",
    "    start = 0\n",
    "    end = len(arr) - 1\n",
    "\n",
    "    while start <= end:\n",
    "        middle = start + (end - start) // 2\n",
    "        print(\"middle\",middle)\n",
    "        if arr[middle] == target:\n",
    "            return middle\n",
    "        elif arr[middle] < target:\n",
    "            start = middle + 1\n",
    "        else:\n",
    "            end = middle - 1\n",
    "\n",
    "    return start\n",
    "\n",
    "arr = [1, 3, 5, 6]\n",
    "\n",
    "target = 9\n",
    "index = binsearch_insert_order(arr, target)\n",
    "print(index)"
   ]
  },
  {
   "cell_type": "markdown",
   "id": "31ac82d3-f25d-41c4-8997-4aeb0ad1c6ee",
   "metadata": {},
   "source": [
    "Q4"
   ]
  },
  {
   "cell_type": "code",
   "execution_count": 48,
   "id": "72a8268c-0435-42b2-8638-727caed90c12",
   "metadata": {},
   "outputs": [],
   "source": [
    "def increment_large_Integer(arr):\n",
    "    n = len(arr)\n",
    "\n",
    "    arr[n-1] += 1\n",
    "    if arr[n-1] < 10:\n",
    "        return arr\n",
    "    else:\n",
    "        arr[n-1] = 0\n",
    "        return arr"
   ]
  },
  {
   "cell_type": "code",
   "execution_count": 50,
   "id": "93fbaef6-29fa-49b4-84f4-1ca326a994e8",
   "metadata": {},
   "outputs": [
    {
     "name": "stdout",
     "output_type": "stream",
     "text": [
      "[1, 2, 4]\n"
     ]
    }
   ],
   "source": [
    "arr = [1, 2, 3]\n",
    "result = increment_large_Integer(arr)\n",
    "print(result)"
   ]
  },
  {
   "cell_type": "markdown",
   "id": "8de24869-90c5-401c-a9a8-f034af289b53",
   "metadata": {},
   "source": [
    "Q6."
   ]
  },
  {
   "cell_type": "code",
   "execution_count": 5,
   "id": "6fc4cf63-de5e-42f7-9f0b-42f16fbade4b",
   "metadata": {},
   "outputs": [],
   "source": [
    "def checkDuplicates(arr):\n",
    "    set_arr= set()\n",
    "    for i in arr:\n",
    "        if i in set_arr:\n",
    "            return True\n",
    "    return False"
   ]
  },
  {
   "cell_type": "code",
   "execution_count": 6,
   "id": "e4786688-c69f-44f9-b4b9-93489e861a08",
   "metadata": {},
   "outputs": [
    {
     "data": {
      "text/plain": [
       "False"
      ]
     },
     "execution_count": 6,
     "metadata": {},
     "output_type": "execute_result"
    }
   ],
   "source": [
    "checkDuplicates([1,2,3,4,5])"
   ]
  },
  {
   "cell_type": "markdown",
   "id": "72fcfc93-434b-4634-8f45-d763082d04b0",
   "metadata": {},
   "source": [
    "Q7. Given an integer array nums, move all 0's to the end of it while maintaining the relative order of the nonzero elements."
   ]
  },
  {
   "cell_type": "code",
   "execution_count": 19,
   "id": "32775cf5-d80d-4f70-b9c2-2cac729bedfb",
   "metadata": {},
   "outputs": [],
   "source": [
    "def moveAllZerosEnd(arr):\n",
    "    count=0\n",
    "    n=len(arr)\n",
    "    for i in range(n):\n",
    "        if arr[i]!=0:\n",
    "            arr[count],arr[i] = arr[i],arr[count]\n",
    "            count +=1\n",
    "    print(arr)\n",
    "   # while count<n:\n",
    "      # arr[count]=0\n",
    "        #count+=1"
   ]
  },
  {
   "cell_type": "code",
   "execution_count": 22,
   "id": "37c30bac-1f28-4525-afeb-dbdd0a3ae259",
   "metadata": {},
   "outputs": [
    {
     "name": "stdout",
     "output_type": "stream",
     "text": [
      "[1, 3, 12, 0, 0]\n"
     ]
    }
   ],
   "source": [
    "arr=[0,1,0,3,12]\n",
    "moveAllZerosEnd(arr)\n",
    "#print(arr)"
   ]
  },
  {
   "cell_type": "markdown",
   "id": "81c76682-dc3a-46ab-b572-51dc51447615",
   "metadata": {},
   "source": [
    "Q8. Find the number that occurs twice and the number that is missing and return them in the form of an array."
   ]
  },
  {
   "cell_type": "code",
   "execution_count": 50,
   "id": "87c86ddc-e3ef-47b7-b1b8-da9339bc1fa1",
   "metadata": {},
   "outputs": [],
   "source": [
    "def checkDuplicates(arr):\n",
    "    set_arr= set()\n",
    "    arr1=[]\n",
    "    count=0\n",
    "    for i in arr:\n",
    "        if i in set_arr:\n",
    "            arr1.append(i)\n",
    "            arr1.append(i+1)\n",
    "            print(arr1)\n",
    "            break\n",
    "        else:\n",
    "            set_arr.add(i)"
   ]
  },
  {
   "cell_type": "code",
   "execution_count": 51,
   "id": "d56e9b88-b6ea-49ca-a96c-c7c3c7d0f24c",
   "metadata": {},
   "outputs": [
    {
     "name": "stdout",
     "output_type": "stream",
     "text": [
      "[2, 3]\n"
     ]
    }
   ],
   "source": [
    "arr=[1,2,2,4]\n",
    "checkDuplicates(arr)"
   ]
  },
  {
   "cell_type": "code",
   "execution_count": null,
   "id": "f076d0a9-9fb6-4c1a-bca2-0b6b2333b9e5",
   "metadata": {},
   "outputs": [],
   "source": []
  }
 ],
 "metadata": {
  "kernelspec": {
   "display_name": "Python 3 (ipykernel)",
   "language": "python",
   "name": "python3"
  },
  "language_info": {
   "codemirror_mode": {
    "name": "ipython",
    "version": 3
   },
   "file_extension": ".py",
   "mimetype": "text/x-python",
   "name": "python",
   "nbconvert_exporter": "python",
   "pygments_lexer": "ipython3",
   "version": "3.10.9"
  }
 },
 "nbformat": 4,
 "nbformat_minor": 5
}
