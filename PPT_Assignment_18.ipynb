{
 "cells": [
  {
   "cell_type": "markdown",
   "id": "38abfd34-8b48-4d06-8a4e-95c2142da936",
   "metadata": {},
   "source": [
    "## Q1"
   ]
  },
  {
   "cell_type": "code",
   "execution_count": 5,
   "id": "6111d82a-26da-45ae-96b3-07722b21a096",
   "metadata": {},
   "outputs": [
    {
     "name": "stdout",
     "output_type": "stream",
     "text": [
      "After merging the Intervals are: [[1, 6], [8, 10], [15, 18]]\n"
     ]
    }
   ],
   "source": [
    "def mergeOverlappingintervals(intervals):\n",
    "\n",
    "    intervals.sort(key=lambda x: x[0]) \n",
    "    #print('intervals are:',intervals[1:])\n",
    "    merged = [intervals[0]]  \n",
    "\n",
    "    for interval in intervals[1:]:\n",
    "        if interval[0] <= merged[-1][1]:\n",
    "            merged[-1][1] = max(merged[-1][1], interval[1])  \n",
    "        else:\n",
    "            merged.append(interval)  \n",
    "\n",
    "    return merged\n",
    "\n",
    "\n",
    "intervals = [[1, 3], [2, 6], [8, 10], [15, 18]]\n",
    "merged = mergeOverlappingintervals(intervals)\n",
    "print(\"After merging the Intervals are:\", merged)\n"
   ]
  },
  {
   "cell_type": "markdown",
   "id": "0cbea5a5-55e9-45fe-a9e9-bc32475071b4",
   "metadata": {},
   "source": [
    "## Q2"
   ]
  },
  {
   "cell_type": "code",
   "execution_count": 8,
   "id": "1dba7917-d750-4ffc-9aa3-b1c799bcd0bb",
   "metadata": {},
   "outputs": [
    {
     "name": "stdout",
     "output_type": "stream",
     "text": [
      "Colors after sorting are: [0, 0, 1, 1, 2, 2]\n"
     ]
    }
   ],
   "source": [
    "def sortColors(nums):\n",
    "\n",
    "    red = 0\n",
    "    white = 0\n",
    "    blue = len(nums) - 1\n",
    "\n",
    "    while white <= blue:\n",
    "        if nums[white] == 0:  \n",
    "            nums[white], nums[red] = nums[red], nums[white]\n",
    "            red += 1\n",
    "            white += 1\n",
    "        elif nums[white] == 1:  \n",
    "            white += 1\n",
    "        else:  \n",
    "            nums[white], nums[blue] = nums[blue], nums[white]\n",
    "            blue -= 1\n",
    "\n",
    "\n",
    "colors = [2, 0, 2, 1, 1, 0]\n",
    "sortColors(colors)\n",
    "print(\"Colors after sorting are:\", colors)\n"
   ]
  },
  {
   "cell_type": "markdown",
   "id": "f5f57e9a-2691-43cb-a902-581b10f37b41",
   "metadata": {},
   "source": [
    "## Q4 Write python program for the following.\n",
    "\n",
    "## Given an integer array `nums`, return the maximum difference between two successive elements in its sorted form. If the array contains less than two elements, return `0`."
   ]
  },
  {
   "cell_type": "code",
   "execution_count": 11,
   "id": "9ca15649-10f5-4674-b71b-e63a60ab28d4",
   "metadata": {},
   "outputs": [
    {
     "name": "stdout",
     "output_type": "stream",
     "text": [
      "Maximum Difference is : 3\n"
     ]
    }
   ],
   "source": [
    "def maximumDifference(nums):\n",
    "    if len(nums) < 2:\n",
    "        return 0\n",
    "\n",
    "    nums.sort()\n",
    "    max_diff = 0\n",
    "    prev = nums[0]\n",
    "    for i in range(1, len(nums)):\n",
    "        diff = nums[i] - prev\n",
    "        if diff > max_diff:\n",
    "            max_diff = diff\n",
    "        prev = nums[i]\n",
    "\n",
    "    return max_diff\n",
    "\n",
    "\n",
    "nums = [3,6,9,1]\n",
    "diff = maximumDifference(nums)\n",
    "print(\"Maximum Difference is :\", diff)\n"
   ]
  },
  {
   "cell_type": "markdown",
   "id": "c3b0eafe-555f-4aa1-b5ac-96c918459161",
   "metadata": {},
   "source": [
    "## Q5 Check if an integer contains duplicate or not."
   ]
  },
  {
   "cell_type": "code",
   "execution_count": 15,
   "id": "85314ef6-5867-400b-8d94-97ece6831f77",
   "metadata": {},
   "outputs": [
    {
     "name": "stdout",
     "output_type": "stream",
     "text": [
      "Contains Duplicate: True\n"
     ]
    }
   ],
   "source": [
    "def hasDuplicate(arr):\n",
    "    seen = set()\n",
    "    for num in arr:\n",
    "        if num in seen:\n",
    "            return True\n",
    "        seen.add(num)\n",
    "    return False\n",
    "\n",
    "# Example usage\n",
    "arr = [1,2,3,1]\n",
    "result = hasDuplicate(arr)\n",
    "print(\"Contains Duplicate:\", result)\n"
   ]
  },
  {
   "cell_type": "markdown",
   "id": "ca228fc4-510d-4393-8f98-8040f0cdb8d1",
   "metadata": {},
   "source": [
    "## Q6 Longest increasing subsequence"
   ]
  },
  {
   "cell_type": "code",
   "execution_count": 27,
   "id": "cbf17ced-415c-49d8-a0ed-badb6d119bd1",
   "metadata": {},
   "outputs": [
    {
     "name": "stdout",
     "output_type": "stream",
     "text": [
      "Length of Longest Increasing Subsequence: 4\n"
     ]
    }
   ],
   "source": [
    "def longestIncreasingSeq(nums):\n",
    "    if not nums:\n",
    "        return 0\n",
    "\n",
    "    n = len(nums)\n",
    "    dp = [1] * n\n",
    "    for i in range(1, n):\n",
    "        for j in range(i):\n",
    "            if nums[i] > nums[j]:\n",
    "                dp[i] = max(dp[i], dp[j] + 1)\n",
    "    return max(dp)\n",
    "\n",
    "nums=[0,1,0,3,2,3]\n",
    "result = longestIncreasingSeq(nums)\n",
    "print(\"Length of Longest Increasing Subsequence:\", result)\n"
   ]
  },
  {
   "cell_type": "code",
   "execution_count": null,
   "id": "e0dca2da-a45c-496c-a281-d28b8d9b92a8",
   "metadata": {},
   "outputs": [],
   "source": []
  }
 ],
 "metadata": {
  "kernelspec": {
   "display_name": "Python 3 (ipykernel)",
   "language": "python",
   "name": "python3"
  },
  "language_info": {
   "codemirror_mode": {
    "name": "ipython",
    "version": 3
   },
   "file_extension": ".py",
   "mimetype": "text/x-python",
   "name": "python",
   "nbconvert_exporter": "python",
   "pygments_lexer": "ipython3",
   "version": "3.10.9"
  }
 },
 "nbformat": 4,
 "nbformat_minor": 5
}
