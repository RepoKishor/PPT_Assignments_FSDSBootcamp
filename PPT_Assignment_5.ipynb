{
 "cells": [
  {
   "cell_type": "markdown",
   "id": "59888ebf-8347-4df7-8118-c1aceb12431c",
   "metadata": {},
   "source": [
    "## Q1 Convert 1D Array Into 2D ArrayConvert 1D Array Into 2D Array"
   ]
  },
  {
   "cell_type": "code",
   "execution_count": 8,
   "id": "3e639334-7dcb-405d-ab19-1c0d6ec11ac3",
   "metadata": {},
   "outputs": [],
   "source": [
    "# convert 1D array to 2D array\n",
    "def oneDto2D(arr,m,n):\n",
    "    twoD = []\n",
    "    index = 0\n",
    "    for i in range(m):\n",
    "        row = []\n",
    "        for j in range(n):\n",
    "            row.append(arr[index])\n",
    "            index += 1\n",
    "        twoD.append(row)\n",
    "\n",
    "    return twoD\n",
    "\n",
    "# it can be done by using python numpy\n",
    "import numpy as np\n",
    "def oneDto2DNumPy(arr,m,n):\n",
    "    return np.reshape(arr,(m,n))"
   ]
  },
  {
   "cell_type": "code",
   "execution_count": 9,
   "id": "231f780a-c168-4d14-8bcc-d84487d5476b",
   "metadata": {},
   "outputs": [
    {
     "data": {
      "text/plain": [
       "[[1, 2, 3], [4, 5, 6]]"
      ]
     },
     "execution_count": 9,
     "metadata": {},
     "output_type": "execute_result"
    }
   ],
   "source": [
    "oneDto2D([1, 2, 3, 4, 5, 6],2,3)"
   ]
  },
  {
   "cell_type": "code",
   "execution_count": 10,
   "id": "9a2e936f-971e-4265-86f5-5003d928e1f4",
   "metadata": {},
   "outputs": [
    {
     "data": {
      "text/plain": [
       "array([[1, 2],\n",
       "       [3, 4],\n",
       "       [5, 6]])"
      ]
     },
     "execution_count": 10,
     "metadata": {},
     "output_type": "execute_result"
    }
   ],
   "source": [
    "oneDto2DNumPy([1, 2, 3, 4, 5, 6],3,2)"
   ]
  },
  {
   "cell_type": "markdown",
   "id": "85384046-2192-495d-9ff6-6a371d76b5cb",
   "metadata": {},
   "source": [
    "## Q2 Staircase of coins problem"
   ]
  },
  {
   "cell_type": "code",
   "execution_count": null,
   "id": "98723ecf-c483-4b86-9560-17511c1c6bd1",
   "metadata": {},
   "outputs": [],
   "source": []
  },
  {
   "cell_type": "code",
   "execution_count": 1,
   "id": "21275b0a-a4db-45de-85fa-2852c7b69535",
   "metadata": {},
   "outputs": [],
   "source": [
    "def rowsOfCoins(n):\n",
    "    noof_rows = 0\n",
    "    k = 1\n",
    "    while True:\n",
    "        current_sum = (k * (k + 1)) // 2\n",
    "        if current_sum <= n:\n",
    "            noof_rows += 1\n",
    "            k += 1\n",
    "        else:\n",
    "            break\n",
    "    return noof_rows"
   ]
  },
  {
   "cell_type": "code",
   "execution_count": 2,
   "id": "a612600e-f62b-4962-912d-35ea87132155",
   "metadata": {},
   "outputs": [
    {
     "data": {
      "text/plain": [
       "2"
      ]
     },
     "execution_count": 2,
     "metadata": {},
     "output_type": "execute_result"
    }
   ],
   "source": [
    "rowsOfCoins(5)"
   ]
  },
  {
   "cell_type": "code",
   "execution_count": 3,
   "id": "0bc72790-c5a6-4ad7-8b21-158182ec54dc",
   "metadata": {},
   "outputs": [
    {
     "data": {
      "text/plain": [
       "1"
      ]
     },
     "execution_count": 3,
     "metadata": {},
     "output_type": "execute_result"
    }
   ],
   "source": [
    "rowsOfCoins(2)"
   ]
  },
  {
   "cell_type": "markdown",
   "id": "3465450a-0b76-4361-b045-f0677b600c3c",
   "metadata": {},
   "source": [
    "## Q3 Given an integer array nums sorted in increasing order, return an array of the squares of each number sorted in increasing order."
   ]
  },
  {
   "cell_type": "code",
   "execution_count": 4,
   "id": "a37e596a-dabe-4ed3-873d-bca1efc2c5dc",
   "metadata": {},
   "outputs": [],
   "source": [
    "def sortedSquares(arr):\n",
    "    li= list(nums)\n",
    "    sorted =[]\n",
    "    for i in li:\n",
    "        sorted.append(i**2)\n",
    "    sorted.sort()\n",
    "    return sorted"
   ]
  },
  {
   "cell_type": "code",
   "execution_count": 5,
   "id": "055be10a-4e21-4ec0-9465-3269d41043c2",
   "metadata": {},
   "outputs": [
    {
     "name": "stdout",
     "output_type": "stream",
     "text": [
      "[0, 1, 9, 16, 100]\n"
     ]
    }
   ],
   "source": [
    "nums = [-4,-1,0,3,10]\n",
    "print(sortedSquares(nums))"
   ]
  },
  {
   "cell_type": "markdown",
   "id": "2fea6397-6549-4bec-b50b-002fbec7110a",
   "metadata": {},
   "source": [
    "## Q4  Given two 0-indexed integer arrays nums1 and nums2, return a list answer of size 2 where:\n",
    "\n",
    "- answer[0] is a list of all distinct integers in nums1 which are not present in nums2\n",
    "- answer[1] is a list of all distinct integers in nums2 which are not present in nums1."
   ]
  },
  {
   "cell_type": "code",
   "execution_count": 6,
   "id": "316c65a1-6856-4d5d-87db-b4d0e32ba020",
   "metadata": {},
   "outputs": [],
   "source": [
    "def findDistinct(arr1, arr2):\n",
    "    result=[]\n",
    "    set1 = set(arr1)\n",
    "    set2 = set(arr2)\n",
    "\n",
    "    dif1 = set1 - set2\n",
    "    dif2 = set2 - set1\n",
    "    result.append(list(dif1))\n",
    "    result.append(list(dif2))\n",
    "\n",
    "    return result"
   ]
  },
  {
   "cell_type": "code",
   "execution_count": 7,
   "id": "83b7c6ea-d7bc-4db6-8e2b-f2ddf6ff8c2a",
   "metadata": {},
   "outputs": [
    {
     "name": "stdout",
     "output_type": "stream",
     "text": [
      "[[1, 3], [4, 6]]\n"
     ]
    }
   ],
   "source": [
    "arr1 = [1,2,3]\n",
    "arr2 = [2,4,6]\n",
    "print(findDistinct(arr1,arr2))"
   ]
  },
  {
   "cell_type": "markdown",
   "id": "d9498bed-ccfc-47cb-a7b7-2f4181d4b0aa",
   "metadata": {},
   "source": [
    "## Q7 minimum element of the rotated sorted array"
   ]
  },
  {
   "cell_type": "code",
   "execution_count": 11,
   "id": "7bf1151e-2522-4315-8760-b233794296d1",
   "metadata": {},
   "outputs": [],
   "source": [
    "def minRotatedArray(arr, low, high):\n",
    "    \n",
    "    while low <= high:\n",
    "        mid = (low + high) // 2\n",
    "        print('mid',mid)\n",
    " \n",
    "        if arr[mid] < arr[mid-1]:\n",
    "            return arr[mid]\n",
    "        if arr[mid] > arr[high]:\n",
    "            low = mid + 1\n",
    "        else:\n",
    "            high = mid - 1"
   ]
  },
  {
   "cell_type": "code",
   "execution_count": 14,
   "id": "ecbad7ca-392d-4a1a-9f5c-40ef8f40dea8",
   "metadata": {},
   "outputs": [
    {
     "name": "stdout",
     "output_type": "stream",
     "text": [
      "mid 2\n",
      "mid 4\n",
      "mid 5\n",
      "Min  1\n"
     ]
    }
   ],
   "source": [
    "arr = [2,3,4,5,6,1]\n",
    "N = len(arr)\n",
    "print(\"Min \", minRotatedArray(arr, 0, N-1))"
   ]
  },
  {
   "cell_type": "code",
   "execution_count": null,
   "id": "7372d64f-f8cb-4d90-92ae-aab72fb143fb",
   "metadata": {},
   "outputs": [],
   "source": []
  }
 ],
 "metadata": {
  "kernelspec": {
   "display_name": "Python 3 (ipykernel)",
   "language": "python",
   "name": "python3"
  },
  "language_info": {
   "codemirror_mode": {
    "name": "ipython",
    "version": 3
   },
   "file_extension": ".py",
   "mimetype": "text/x-python",
   "name": "python",
   "nbconvert_exporter": "python",
   "pygments_lexer": "ipython3",
   "version": "3.10.9"
  }
 },
 "nbformat": 4,
 "nbformat_minor": 5
}
